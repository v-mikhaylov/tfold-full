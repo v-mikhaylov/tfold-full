{
 "cells": [
  {
   "cell_type": "markdown",
   "id": "3907c950",
   "metadata": {},
   "source": [
    "Victor Mikhaylov, vmikhayl@ias.edu<br>Institute for Advanced Study, 2021-2022"
   ]
  },
  {
   "cell_type": "code",
   "execution_count": 1,
   "id": "dc3dbe09",
   "metadata": {},
   "outputs": [],
   "source": [
    "import os\n",
    "import pickle\n",
    "import numpy as np\n",
    "import csv\n",
    "import time\n",
    "\n",
    "from matplotlib import pyplot as plt\n",
    "\n",
    "import utils\n",
    "\n",
    "cwd=os.getcwd()\n",
    "structure_dir=cwd+'/data/experimental_structures/processed_updated'\n",
    "date_cutoff='2018-04-30' #AlphaFold training set cutoff"
   ]
  },
  {
   "cell_type": "code",
   "execution_count": 3,
   "id": "e99099cb",
   "metadata": {},
   "outputs": [
    {
     "name": "stdout",
     "output_type": "stream",
     "text": [
      "pmhcs: 896\n",
      "dict_keys(['P', 'M', 'class', 'pdbs', 'date', 'pep_pdbnum', 'id', 'bound', 'cluster_seq', 'cluster_CA'])\n",
      "pmhcs seq clusters: 453\n",
      "dict_keys(['id', 'pmhc_ids', 'pdbs', 'date'])\n",
      "pmhcs CA clusters: 453\n",
      "dict_keys(['id', 'pmhc_ids', 'pdbs', 'date'])\n"
     ]
    }
   ],
   "source": [
    "#load pmhc data\n",
    "\n",
    "with open(structure_dir+'/pmhcs.pckl','rb') as f:\n",
    "    pmhcs=pickle.load(f)\n",
    "print('pmhcs:',len(pmhcs))\n",
    "print(pmhcs[0].keys())\n",
    "\n",
    "with open(structure_dir+'/pmhcs_seq_clusters.pckl','rb') as f:\n",
    "    pmhcs_seq_clusters=pickle.load(f)\n",
    "print('pmhcs seq clusters:',len(pmhcs_seq_clusters))\n",
    "print(pmhcs_seq_clusters[0].keys())\n",
    "\n",
    "with open(structure_dir+'/pmhcs_CA_clusters.pckl','rb') as f:\n",
    "    pmhcs_CA_clusters=pickle.load(f)\n",
    "print('pmhcs CA clusters:',len(pmhcs_CA_clusters))\n",
    "print(pmhcs_CA_clusters[0].keys())"
   ]
  },
  {
   "cell_type": "markdown",
   "id": "b1fbdca8",
   "metadata": {},
   "source": [
    "# choose pep lengths and binding registers"
   ]
  },
  {
   "cell_type": "markdown",
   "id": "00aa5dc6",
   "metadata": {},
   "source": [
    "## explore binding registers"
   ]
  },
  {
   "cell_type": "code",
   "execution_count": 4,
   "id": "fd8dd5b7",
   "metadata": {},
   "outputs": [
    {
     "name": "stdout",
     "output_type": "stream",
     "text": [
      "class I:\n",
      "length 8: 35\n",
      "(1|2|3|4|5|7|8|9) 34\n",
      "(2|3|4|5|6|7|8|9)  1\n",
      "length 9: 172\n",
      "(09|1|2|3|4|5|7|8|9)   1\n",
      "(1|2|3|4|5|6|7|8|9)  169\n",
      "(1|2|3|4|5|7|8|9|10)   1\n",
      "(2|3|4|5|51|6|7|8|9)   1\n",
      "length 10: 53\n",
      "(09|1|2|3|4|5|6|7|8|9)  4\n",
      "(1|2|3|4|5|51|6|7|8|9) 47\n",
      "(1|2|3|4|5|6|7|8|9|10)  2\n",
      "length 11: 14\n",
      "(1|2|3|4|5|51|59|6|7|8|9)  13\n",
      "(2|3|4|5|51|52|59|6|7|8|9)  1\n",
      "length 12: 7\n",
      "(09|1|2|3|4|5|51|59|6|7|8|9) 1\n",
      "(1|2|3|4|5|51|52|59|6|7|8|9) 5\n",
      "(1|2|3|4|5|51|59|6|7|8|9|10) 1\n",
      "length 13: 4\n",
      "(1|2|3|4|5|51|52|58|59|6|7|8|9)  3\n",
      "(1|2|3|4|5|7|8|9|10|11|12|13|14) 1\n",
      "length 14: 1\n",
      "(1|2|3|4|5|51|52|53|58|59|6|7|8|9) 1\n",
      "length 15: 2\n",
      "(1|2|3|4|5|51|52|53|57|58|59|6|7|8|9) 2\n",
      "length 16: 1\n",
      "(1|2|3|4|5|51|52|53|54|57|58|59|6|7|8|9) 1\n",
      "length 18: 1\n",
      "(1|2|3|4|5|7|8|9|10|11|12|13|14|15|16|17|18|19) 1\n",
      "length 19: 1\n",
      "(1|2|3|4|5|6|7|8|9|10|11|12|13|14|15|16|17|18|19) 1\n",
      "length 20: 2\n",
      "(09|1|2|3|4|5|6|7|8|9|10|11|12|13|14|15|16|17|18|19) 1\n",
      "(1|2|3|4|5|51|6|7|8|9|10|11|12|13|14|15|16|17|18|19) 1\n",
      "\n",
      "class II:\n",
      "length 10: 2\n",
      "(09|1|2|3|4|5|6|7|8|9)  1\n",
      "(2|3|4|5|6|7|8|9|10|11) 1\n",
      "length 11: 3\n",
      "(08|09|1|2|3|4|5|6|7|8|9) 2\n",
      "(09|1|2|3|4|5|6|7|8|9|10) 1\n",
      "length 12: 4\n",
      "(08|09|1|2|3|4|5|6|7|8|9|10) 2\n",
      "(09|1|2|3|4|5|6|7|8|9|10|11) 1\n",
      "(1|2|3|4|5|6|7|8|9|10|11|12) 1\n",
      "length 13: 22\n",
      "(07|08|09|1|2|3|4|5|6|7|8|9|10)  4\n",
      "(08|09|1|2|3|4|5|6|7|8|9|10|11) 17\n",
      "(09|1|2|3|4|5|6|7|8|9|10|11|12)  1\n",
      "length 14: 5\n",
      "(07|08|09|1|2|3|4|5|6|7|8|9|10|11) 3\n",
      "(08|09|1|2|3|4|5|6|7|8|9|10|11|12) 2\n",
      "length 15: 13\n",
      "(05|06|07|08|09|1|2|3|4|5|6|7|8|9|10) 1\n",
      "(06|07|08|09|1|2|3|4|5|6|7|8|9|10|11) 5\n",
      "(07|08|09|1|2|3|4|5|6|7|8|9|10|11|12) 4\n",
      "(08|09|1|2|3|4|5|6|7|8|9|10|11|12|13) 2\n",
      "(09|1|2|3|4|5|6|7|8|9|10|11|12|13|14) 1\n",
      "length 16: 5\n",
      "(05|06|07|08|09|1|2|3|4|5|6|7|8|9|10|11) 1\n",
      "(06|07|08|09|1|2|3|4|5|6|7|8|9|10|11|12) 1\n",
      "(07|08|09|1|2|3|4|5|6|7|8|9|10|11|12|13) 2\n",
      "(08|09|1|2|3|4|5|6|7|8|9|10|11|12|13|14) 1\n",
      "length 18: 2\n",
      "(06|07|08|09|1|2|3|4|5|6|7|8|9|10|11|12|13|14) 1\n",
      "(07|08|09|1|2|3|4|5|6|7|8|9|10|11|12|13|14|15) 1\n",
      "length 19: 1\n",
      "(1|2|3|4|5|6|7|8|9|10|11|12|13|14|15|16|17|18|19) 1\n",
      "length 20: 3\n",
      "(04|05|06|07|08|09|1|2|3|4|5|6|7|8|9|10|11|12|13|14) 1\n",
      "(09|1|2|3|4|5|6|7|8|9|10|11|12|13|14|15|16|17|18|19) 2\n",
      "length 21: 6\n",
      "(08|09|1|2|3|4|5|6|7|8|9|10|11|12|13|14|15|16|17|18|19) 6\n",
      "length 22: 2\n",
      "(07|08|09|1|2|3|4|5|6|7|8|9|10|11|12|13|14|15|16|17|18|19) 2\n",
      "length 23: 3\n",
      "(06|07|08|09|1|2|3|4|5|6|7|8|9|10|11|12|13|14|15|16|17|18|19) 3\n",
      "length 26: 2\n",
      "(03|04|05|06|07|08|09|1|2|3|4|5|6|7|8|9|10|11|12|13|14|15|16|17|18|19) 2\n",
      "length 27: 2\n",
      "(02|03|04|05|06|07|08|09|1|2|3|4|5|6|7|8|9|10|11|12|13|14|15|16|17|18|19) 2\n",
      "length 28: 3\n",
      "(01|02|03|04|05|06|07|08|09|1|2|3|4|5|6|7|8|9|10|11|12|13|14|15|16|17|18|19) 3\n",
      "\n"
     ]
    }
   ],
   "source": [
    "#binding registers by MHC class and pep length\n",
    "registers={'I':{},'II':{}}\n",
    "for x in pmhcs_seq_clusters:\n",
    "    if x['date']<date_cutoff: #don't look in the test set\n",
    "        pmhc=pmhcs[x['pmhc_ids'][0]]\n",
    "        cl=pmhc['class']\n",
    "        pep=pmhc['P']\n",
    "        pdbnums='|'.join(pep['data']['pdbnum'])\n",
    "        pdbnums='('+pdbnums.replace(' ','')+')'\n",
    "        registers[cl].setdefault(len(pep['data']),[]).append(pdbnums)\n",
    "for cl in registers:\n",
    "    print(f'class {cl}:')\n",
    "    for l in np.sort(list(registers[cl].keys())):\n",
    "        print(f'length {l}: {len(registers[cl][l])}')\n",
    "        utils.print_hist(registers[cl][l])\n",
    "    print()"
   ]
  },
  {
   "cell_type": "markdown",
   "id": "17526798",
   "metadata": {},
   "source": [
    "## plot pep length distribution"
   ]
  },
  {
   "cell_type": "code",
   "execution_count": 18,
   "id": "112595dc",
   "metadata": {
    "scrolled": true
   },
   "outputs": [
    {
     "name": "stdout",
     "output_type": "stream",
     "text": [
      "  0 || Reference || Assay IRI || http://www.iedb.org/assay/26\n",
      "  1 || Reference || Reference IRI || http://www.iedb.org/reference/274\n",
      "  2 || Reference || Type || Literature\n",
      "  3 || Reference || PubMed ID || 15448372\n",
      "  4 || Reference || Authors || Yi-Hsiang Huang; Mi-Hua Tao; Cheng-Po Hu; Wan-Jr Syu; Jaw-Ching Wu\n",
      "  5 || Reference || Journal || J Gen Virol\n",
      "  6 || Reference || Date || 2004\n",
      "  7 || Reference || Title || Identification of novel HLA-A*0201-restricted CD8+ T-cell epitopes on hepatitis delta virus.\n",
      "  8 || Reference || Submission ID || \n",
      "  9 || Epitope || Epitope IRI || http://www.iedb.org/epitope/31803\n",
      " 10 || Epitope || Object Type || Linear peptide\n",
      " 11 || Epitope || Description || KLEDLERDL\n",
      " 12 || Epitope || Starting Position || 26\n",
      " 13 || Epitope || Ending Position || 34\n",
      " 14 || Epitope || Non-peptidic epitope IRI || \n",
      " 15 || Epitope || Antigen Name || large delta antigen\n",
      " 16 || Epitope || Antigen IRI || http://www.ncbi.nlm.nih.gov/protein/AAG26087.1\n",
      " 17 || Epitope || Parent Protein || Large delta antigen\n",
      " 18 || Epitope || Parent Protein IRI || http://www.uniprot.org/uniprot/P29996\n",
      " 19 || Epitope || Organism Name || Hepatitis delta virus TW2667\n",
      " 20 || Epitope || Organism IRI || https://ontology.iedb.org/ontology/ONTIE_0000432\n",
      " 21 || Epitope || Parent Species || Hepatitis delta virus TW2667\n",
      " 22 || Epitope || Parent Species IRI || https://ontology.iedb.org/taxon/10000523\n",
      " 23 || Epitope || Epitope Comments || \n",
      " 24 || Related Object || Epitope Relationship || \n",
      " 25 || Related Object || Object Type || \n",
      " 26 || Related Object || Description || \n",
      " 27 || Related Object || Starting Position || \n",
      " 28 || Related Object || Ending Position || \n",
      " 29 || Related Object || Non-peptidic object IRI || \n",
      " 30 || Related Object || Synonyms || \n",
      " 31 || Related Object || Antigen Name || \n",
      " 32 || Related Object || Antigen IRI || \n",
      " 33 || Related Object || Parent Protein || \n",
      " 34 || Related Object || Parent Protein IRI || \n",
      " 35 || Related Object || Organism Name || \n",
      " 36 || Related Object || Organism IRI || \n",
      " 37 || Related Object || Parent Organism || \n",
      " 38 || Related Object || Parent Organism IRI || \n",
      " 39 || Host || Name || human (Homo sapiens)\n",
      " 40 || Host || Host IRI || http://purl.obolibrary.org/obo/NCBITaxon_9606\n",
      " 41 || Host || Geolocation || \n",
      " 42 || Host || Geolocation IRI || \n",
      " 43 || Host || MHC Types Present || \n",
      " 44 || In vivo Process || Process Type || \n",
      " 45 || In vivo Process || Disease State || \n",
      " 46 || In vivo Process || Disease IRI || \n",
      " 47 || In vivo Process || Disease Stage || \n",
      " 48 || In vivo Process || Processed Antigen Epitope Relation || \n",
      " 49 || In vivo Process || Processed Antigen Object Type || \n",
      " 50 || In vivo Process || Processed Antigen Description || \n",
      " 51 || In vivo Process || Processed Antigen Starting Position || \n",
      " 52 || In vivo Process || Processed Antigen Ending Position || \n",
      " 53 || In vivo Process || Non-peptidic Processed Antigen IRI || \n",
      " 54 || In vivo Process || Processed Antigen Source Molecule Name || \n",
      " 55 || In vivo Process || Processed Antigen Source Molecule IRI || \n",
      " 56 || In vivo Process || Processed Antigen protein parent Name || \n",
      " 57 || In vivo Process || Processed Antigen protein parent IRI || \n",
      " 58 || In vivo Process || Processed Antigen Organism Name || \n",
      " 59 || In vivo Process || Processed Antigen Organism IRI || \n",
      " 60 || In vivo Process || Processed Antigen Organism Species || \n",
      " 61 || In vivo Process || Processed Antigen Organism Species IRI || \n",
      " 62 || In vitro Process || In vitro administration type || \n",
      " 63 || In vitro Process || Processed Antigen Epitope Relation || \n",
      " 64 || In vitro Process || Processed Antigen Object Type || \n",
      " 65 || In vitro Process || Processed Antigen Description || \n",
      " 66 || In vitro Process || Processed Antigen Starting Position || \n",
      " 67 || In vitro Process || Processed Antigen Ending Position || \n",
      " 68 || In vitro Process || Non-peptidic Processed Antigen ChEBI ID || \n",
      " 69 || In vitro Process || Processed Antigen Source Molecule Name || \n",
      " 70 || In vitro Process || Processed Antigen Source Molecule IRI || \n",
      " 71 || In vitro Process || Protein Parent Name || \n",
      " 72 || In vitro Process || Protein Parent IRI || \n",
      " 73 || In vitro Process || Processed Antigen Organism Name || \n",
      " 74 || In vitro Process || Processed Antigen Organism IRI || \n",
      " 75 || In vitro Process || Immunogen Organism Species || \n",
      " 76 || In vitro Process || Immunogen Organism Species IRI || \n",
      " 77 || Processed Antigen Comments || Processed Antigen Comments || \n",
      " 78 || Assay || Location of assay data in the manuscript || Figure 1\n",
      " 79 || Assay || Method/Technique || cellular MHC/direct/fluorescence\n",
      " 80 || Assay || Assay Group || qualitative binding\n",
      " 81 || Assay || Units || \n",
      " 82 || Assay || Assay Type IRI || http://purl.obolibrary.org/obo/OBI_0001606\n",
      " 83 || Assay || Qualitative Measure || Positive-Low\n",
      " 84 || Assay || Measurement Inequality || \n",
      " 85 || Assay || Quantitative measurement || \n",
      " 86 || Assay || Number of Subjects Tested || \n",
      " 87 || Assay || Number of Subjects Responded || \n",
      " 88 || Assay || Response Frequency || \n",
      " 89 || Assay || PDB ID || \n",
      " 90 || Antigen Processing Cells || Cell Tissue Type || \n",
      " 91 || Antigen Processing Cells || APC Cell Tissue Type IRI || \n",
      " 92 || Antigen Processing Cells || Cell Type || \n",
      " 93 || Antigen Processing Cells || APC Cell Type IRI || \n",
      " 94 || Antigen Processing Cells || Cell Culture Conditions || \n",
      " 95 || MHC || Allele Name || HLA-A*02:01\n",
      " 96 || MHC || Allele IRI || http://purl.obolibrary.org/obo/MRO_0001007\n",
      " 97 || MHC || Allele Evidence Code || \n",
      " 98 || MHC || MHC allele class || I\n",
      " 99 || Assay Comments || Assay Comments || \n"
     ]
    }
   ],
   "source": [
    "#plot peptide length distribution\n",
    "\n",
    "with open('/data/vmikhayl/custom_packages/mhc_binding_data/data/source/mhc_ligand_full.csv') as f:\n",
    "    f_csv=csv.reader(f)\n",
    "    x=next(f_csv)\n",
    "    y=next(f_csv)\n",
    "    z=next(f_csv)\n",
    "for i,a in enumerate(zip(x,y,z)):\n",
    "    print('{:3d} || {:s} || {:s} || {:s}'.format(i,*a))"
   ]
  },
  {
   "cell_type": "code",
   "execution_count": 25,
   "id": "d59f226e",
   "metadata": {},
   "outputs": [],
   "source": [
    "def _read_column(i):\n",
    "    t0=time.time()\n",
    "    column=[]\n",
    "    with open('/data/vmikhayl/custom_packages/mhc_binding_data/data/source/mhc_ligand_full.csv') as f:\n",
    "        f_csv=csv.reader(f)\n",
    "        next(f_csv)\n",
    "        next(f_csv)\n",
    "        for line in f_csv:\n",
    "            column.append(line[i])\n",
    "    print('total:',len(column))\n",
    "    print('completed in {:5.1f} s'.format(time.time()-t0))    \n",
    "    return np.array(column)"
   ]
  },
  {
   "cell_type": "code",
   "execution_count": 24,
   "id": "8bb7ccd2",
   "metadata": {
    "scrolled": true
   },
   "outputs": [
    {
     "name": "stdout",
     "output_type": "stream",
     "text": [
      "completed in  57.7 s\n",
      "B6.ERAAP null                                                    1201\n",
      "Canis lupus familiaris (dog)                                      419\n",
      "Chlorocebus aethiops (African green monkey)                        12\n",
      "Cricetulus griseus (Chinese hamster)                                1\n",
      "Equus caballus (domestic horse)                                    24\n",
      "Gallus gallus (chicken)                                           126\n",
      "Homo sapiens                                                     3650\n",
      "Homo sapiens (human)                                          2718259\n",
      "Murine polyomavirus strain A3 (Mouse polyomavirus (strain 3))       5\n",
      "Mus musculus                                                     3217\n",
      "Mus musculus &micro;MT                                            234\n",
      "Mus musculus (C57BL/6 X BALB/c) H2bm8                               5\n",
      "Mus musculus (mouse)                                            48161\n",
      "Mus musculus B10 X 129                                              2\n",
      "Mus musculus B6.C-H-2bm1                                         1583\n",
      "Mus musculus B6.P                                                  56\n",
      "Mus musculus BALB.B                                                 3\n",
      "Mus musculus BALB/c                                              9351\n",
      "Mus musculus BALB/cAnN                                           1329\n",
      "Mus musculus C3H                                                    2\n",
      "Mus musculus C3H/An                                                 1\n",
      "Mus musculus C3H/He                                                31\n",
      "Mus musculus C57BL/10                                               1\n",
      "Mus musculus C57BL/6                                            21950\n",
      "Mus musculus C57BL/6 HLA-DR2 Tg                                   129\n",
      "Mus musculus C57BL/6 TAP null                                     295\n",
      "Mus musculus C57BL/6 X B10.D2                                       1\n",
      "Mus musculus C57BL/6 X BALB/c                                     147\n",
      "Mus musculus C57BL/6N                                             587\n",
      "Mus musculus FVB                                                    5\n",
      "Mus musculus FVB/J                                               1433\n",
      "Mus musculus HLA-DRB1*0101 Tg                                     119\n",
      "Mus musculus NOD                                                 6870\n",
      "Mus musculus NOD/Lt                                                44\n",
      "Mus musculus SNF1                                                   3\n",
      "Mus musculus SV40 Tg                                                2\n",
      "Pan troglodytes (chimpanzee)                                        1\n",
      "Pteropus alecto (black flying fox)                                  2\n",
      "Rattus (rat)                                                      104\n",
      "Rattus norvegicus (Norway rat)                                 100777\n",
      "Rattus norvegicus Lewis                                          2809\n",
      "Sus scrofa (pig)                                                    3\n",
      "Sus scrofa Landrace X Large White                                 111\n",
      "black flying fox (Pteropus alecto)                                 93\n",
      "cat (Felis catus)                                                  59\n",
      "cattle (Bos taurus)                                               309\n",
      "chicken (Gallus gallus)                                           199\n",
      "chimpanzee (Pan troglodytes)                                      827\n",
      "clawed frog (Xenopus laevis)                                       32\n",
      "dog (Canis lupus familiaris)                                       87\n",
      "duck (Anas platyrhynchos)                                          35\n",
      "giant panda (Ailuropoda melanoleuca)                               22\n",
      "gorilla (Gorilla gorilla)                                          14\n",
      "grass carp (Ctenopharyngodon idella)                                2\n",
      "horse (Equus caballus)                                            804\n",
      "human (Homo sapiens)                                           284721\n",
      "marmoset (Callithrix jacchus)                                      13\n",
      "mouse (Mus musculus)                                            17544\n",
      "pig (Sus scrofa)                                                  922\n",
      "rabbit (Oryctolagus cuniculus)                                     33\n",
      "rat (Rattus norvegicus)                                           649\n",
      "rhesus macaque (Macaca mulatta)                                  6554\n"
     ]
    }
   ],
   "source": [
    "species=_read_column(39)\n",
    "utils.print_hist(species)"
   ]
  },
  {
   "cell_type": "code",
   "execution_count": 26,
   "id": "0b338229",
   "metadata": {
    "scrolled": true
   },
   "outputs": [
    {
     "name": "stdout",
     "output_type": "stream",
     "text": [
      "total: 3235984\n",
      "completed in  57.8 s\n",
      "Edman degradation                         1136\n",
      "T cell recognition                         150\n",
      "binding assay                              420\n",
      "cellular MHC                               116\n",
      "cellular MHC/T cell inhibition            1335\n",
      "cellular MHC/competitive/fluorescence     9762\n",
      "cellular MHC/competitive/radioactivity     460\n",
      "cellular MHC/direct/fluorescence         12610\n",
      "cellular MHC/direct/radioactivity          137\n",
      "cellular MHC/mass spectrometry         2292883\n",
      "coelution                                  150\n",
      "lysate MHC                                  11\n",
      "lysate MHC/direct/fluorescence             155\n",
      "lysate MHC/direct/radioactivity            255\n",
      "mass spectrometry                       583425\n",
      "purified MHC                              2864\n",
      "purified MHC/competitive/fluorescence    45325\n",
      "purified MHC/competitive/radioactivity  140493\n",
      "purified MHC/direct/fluorescence         89803\n",
      "purified MHC/direct/phage display          325\n",
      "purified MHC/direct/radioactivity         7449\n",
      "secreted MHC/mass spectrometry           45363\n",
      "x-ray crystallography                     1357\n"
     ]
    }
   ],
   "source": [
    "assay_method=_read_column(79)\n",
    "utils.print_hist(assay_method)"
   ]
  },
  {
   "cell_type": "code",
   "execution_count": 34,
   "id": "d0ccdf76",
   "metadata": {},
   "outputs": [
    {
     "name": "stdout",
     "output_type": "stream",
     "text": [
      "completed in  59.0 s\n",
      "I 1527586\n",
      "II 761305\n"
     ]
    }
   ],
   "source": [
    "t0=time.time()\n",
    "methods_keep=['cellular MHC/mass spectrometry']#,'mass spectrometry','secreted MHC/mass spectrometry']\n",
    "peplens={'I':[],'II':[]}\n",
    "with open('/data/vmikhayl/custom_packages/mhc_binding_data/data/source/mhc_ligand_full.csv') as f:\n",
    "    f_csv=csv.reader(f)\n",
    "    next(f_csv)\n",
    "    next(f_csv)\n",
    "    for line in f_csv:\n",
    "        cl=line[98]\n",
    "        if (line[79] in methods_keep) and (cl in peplens):\n",
    "            peplens[cl].append(len(line[11]))\n",
    "print('completed in {:5.1f} s'.format(time.time()-t0))\n",
    "for k,v in peplens.items():\n",
    "    print(k,len(v))\n",
    "\n",
    "#convert to hist\n",
    "fractions={}\n",
    "for k,v in peplens.items():\n",
    "    N=len(v)\n",
    "    v=np.array(v)\n",
    "    len_u=np.sort(np.unique(v))\n",
    "    fractions[k]=[len_u,np.array([np.sum(v==l) for l in len_u])/N]"
   ]
  },
  {
   "cell_type": "code",
   "execution_count": 38,
   "id": "b878b35f",
   "metadata": {},
   "outputs": [],
   "source": [
    "#cumulative fractions: f(l<=l0)\n",
    "fractions_cumul={}\n",
    "for k,v in fractions.items():\n",
    "    fractions_cumul[k]=[v[0],[np.sum(v[1][:i+1]) for i in range(len(v[1]))]]"
   ]
  },
  {
   "cell_type": "code",
   "execution_count": 49,
   "id": "2d3ab9d0",
   "metadata": {},
   "outputs": [
    {
     "data": {
      "image/png": "[encoded data removed]",
      "text/plain": [
       "<Figure size 1080x1008 with 4 Axes>"
      ]
     },
     "metadata": {
      "needs_background": "light"
     },
     "output_type": "display_data"
    }
   ],
   "source": [
    "xmaxI,xmaxII=20,25\n",
    "plt.figure(figsize=(15,14))\n",
    "plt.subplot(221)\n",
    "plt.scatter(*fractions['I'])\n",
    "plt.plot(*fractions['I'])\n",
    "plt.grid()\n",
    "plt.xlim(0,xmaxI)\n",
    "plt.xticks(range(xmaxI))\n",
    "plt.title('class I')\n",
    "plt.subplot(222)\n",
    "plt.scatter(*fractions['II'])\n",
    "plt.plot(*fractions['II'])\n",
    "plt.grid()\n",
    "plt.xlim(0,xmaxII)\n",
    "plt.xticks(range(xmaxII))\n",
    "plt.title('class II')\n",
    "plt.subplot(223)\n",
    "plt.scatter(*fractions_cumul['I'])\n",
    "plt.plot(*fractions_cumul['I'])\n",
    "plt.grid()\n",
    "plt.xlim(0,xmaxI)\n",
    "plt.xticks(range(xmaxI))\n",
    "plt.title('class I')\n",
    "plt.subplot(224)\n",
    "plt.scatter(*fractions_cumul['II'])\n",
    "plt.plot(*fractions_cumul['II'])\n",
    "plt.grid()\n",
    "plt.xlim(0,xmaxII)\n",
    "plt.xticks(range(xmaxII))\n",
    "plt.title('class II')\n",
    "plt.suptitle('peptide length in IEDB elution data')\n",
    "plt.show()"
   ]
  },
  {
   "cell_type": "code",
   "execution_count": 53,
   "id": "8d5b674b",
   "metadata": {},
   "outputs": [
    {
     "name": "stdout",
     "output_type": "stream",
     "text": [
      " 3 0.00\n",
      " 4 0.00\n",
      " 5 0.00\n",
      " 6 0.00\n",
      " 7 0.00\n",
      " 8 0.07\n",
      " 9 0.62\n",
      "10 0.78\n",
      "11 0.88\n",
      "12 0.92\n",
      "13 0.93\n",
      "14 0.94\n",
      "15 0.94\n",
      "16 0.95\n",
      "17 0.95\n",
      "18 0.97\n",
      "19 0.98\n",
      "20 0.98\n",
      "21 0.99\n",
      "22 0.99\n"
     ]
    }
   ],
   "source": [
    "for x in list(zip(*fractions_cumul['I']))[:20]:\n",
    "    print('{:2d} {:4.2f}'.format(*x))"
   ]
  },
  {
   "cell_type": "code",
   "execution_count": 54,
   "id": "58e07c65",
   "metadata": {},
   "outputs": [
    {
     "name": "stdout",
     "output_type": "stream",
     "text": [
      " 5 0.00\n",
      " 6 0.00\n",
      " 7 0.00\n",
      " 8 0.01\n",
      " 9 0.03\n",
      "10 0.06\n",
      "11 0.09\n",
      "12 0.13\n",
      "13 0.21\n",
      "14 0.34\n",
      "15 0.49\n",
      "16 0.63\n",
      "17 0.73\n",
      "18 0.80\n",
      "19 0.85\n",
      "20 0.89\n",
      "21 0.91\n",
      "22 0.94\n",
      "23 0.96\n",
      "24 0.97\n",
      "25 0.99\n",
      "26 0.99\n",
      "27 0.99\n",
      "28 0.99\n",
      "29 1.00\n",
      "30 1.00\n",
      "31 1.00\n",
      "32 1.00\n",
      "33 1.00\n",
      "34 1.00\n"
     ]
    }
   ],
   "source": [
    "for x in list(zip(*fractions_cumul['II']))[:30]:\n",
    "    print('{:2d} {:4.2f}'.format(*x))"
   ]
  },
  {
   "cell_type": "code",
   "execution_count": null,
   "id": "9032b99c",
   "metadata": {},
   "outputs": [],
   "source": []
  }
 ],
 "metadata": {
  "kernelspec": {
   "display_name": "Python 3 (ipykernel)",
   "language": "python",
   "name": "python3"
  },
  "language_info": {
   "codemirror_mode": {
    "name": "ipython",
    "version": 3
   },
   "file_extension": ".py",
   "mimetype": "text/x-python",
   "name": "python",
   "nbconvert_exporter": "python",
   "pygments_lexer": "ipython3",
   "version": "3.10.4"
  }
 },
 "nbformat": 4,
 "nbformat_minor": 5
}
