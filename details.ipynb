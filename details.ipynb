{
 "cells": [
  {
   "cell_type": "markdown",
   "id": "b411c34b",
   "metadata": {},
   "source": [
    "Victor Mikhaylov, vmikhayl@ias.edu<br>Institute for Advanced Study, 2021-2023"
   ]
  },
  {
   "cell_type": "markdown",
   "id": "294370fd",
   "metadata": {
    "heading_collapsed": true
   },
   "source": [
    "# Modeling structures (or just running seqnn)"
   ]
  },
  {
   "cell_type": "code",
   "execution_count": 1,
   "id": "c96a8bef",
   "metadata": {
    "hidden": true
   },
   "outputs": [
    {
     "name": "stdout",
     "output_type": "stream",
     "text": [
      "MHC loading from MHC.pckl. To update the pickle file, set use_pickle to False\n",
      "loaded 26122 MHC sequences in  1.6 s\n"
     ]
    },
    {
     "name": "stderr",
     "output_type": "stream",
     "text": [
      "2023-03-05 21:00:01.751413: I tensorflow/stream_executor/platform/default/dso_loader.cc:53] Successfully opened dynamic library libcudart.so.11.0\n"
     ]
    }
   ],
   "source": [
    "import os,stat\n",
    "import pickle\n",
    "import pandas as pd\n",
    "\n",
    "#import the scripts that will create AlphaFold inputs and parse the outputs:\n",
    "from tfold.modeling import make_inputs,result_parse_tools"
   ]
  },
  {
   "cell_type": "markdown",
   "id": "e3a02ac6",
   "metadata": {
    "hidden": true
   },
   "source": [
    "The input should be a pandas dataframe with columns `pep` (peptide sequence) and `MHC allele` or `MHC sequence`.\n",
    "If both `MHC allele` and `MHC sequence` are provided, the allele will be ignored and the sequence will be used in modeling. MHC class will be imputed from the allele or sequence, and both class I and class II pMHCs can be present in a single run."
   ]
  },
  {
   "cell_type": "markdown",
   "id": "c3794fcd",
   "metadata": {
    "hidden": true
   },
   "source": [
    "`MHC allele` format:<br>\n",
    "class I: `SpeciesId-Locus*Allele`,<br>\n",
    "class II: `SpeciesId-LocusA*AlleleA/LocusB*AlleleB`.<br>\n",
    "Here `SpeciesId` can be `HLA` for human, `H2` for mouse, or NCBI taxonomy ID for other species, e.g. `9796` for horse. (For human and mouse, you can also use NCBI Ids `9606` and `10090` instead of `HLA` and `H2`.) <br>\n",
    "Some examples of allele notations:<br>\n",
    "class I:<br>\n",
    "human: `HLA-A*02:01`, `HLA-B*08:01`, `HLA-C*01:01`;<br>\n",
    "mouse: `H2-D*p`, `H2-K*d`, `H2-L*q`; <br>\n",
    "horse: `9796-2*001:01`;<br>\n",
    "class II:<br>\n",
    "human: `HLA-DRA*01:01/DRB4*01:144`, `HLA-DPA1*04:01/DPB1*04:01`, `HLA-DQA1*06:01/DQB1*02:05`;<br>\n",
    "mouse: `H2-IAA*d/IAB*d`, `H2-IEA*d/IEB*k`;<br>\n",
    "horse: `9796-DRA*001:03/DRB2*003:01`.\n",
    "\n",
    "Dataframe `make_inputs.seq_tools.mhcs_df` lists all the available MHC alleles:"
   ]
  },
  {
   "cell_type": "code",
   "execution_count": 2,
   "id": "f940b3c1",
   "metadata": {
    "hidden": true
   },
   "outputs": [
    {
     "name": "stdout",
     "output_type": "stream",
     "text": [
      "      species_id  cl chain locus  allele\n",
      "3620        9606   I     A     A   33:65\n",
      "11890       9606   I     A     C  07:855\n",
      "7875        9606   I     A     B  44:506\n",
      "2232        9606   I     A     A  24:115\n",
      "3349        9606   I     A     A  31:125\n",
      "12999       9606   I     A     C  16:125\n",
      "5516        9606   I     A     B  15:491\n",
      "24509      60710   I     A     B   14:02\n",
      "18150       9606  II     B  DPB1  668:01\n",
      "7546        9606   I     A     B   44:62\n",
      "260         9606   I     A     A  01:289\n",
      "24494      60710   I     A     B   11:01\n",
      "18285       9606  II     B  DPB1  823:01\n",
      "13941       9606  II     B  DRB1   07:63\n",
      "20319       9541   I     A    A4   01:05\n",
      "15964       9606  II     A  DQA1   02:11\n",
      "24350       9555   I     A     A   23:01\n",
      "22991       9555   I     A     A   11:01\n",
      "5863        9606   I     A     B   27:41\n",
      "3333        9606   I     A     A  31:109\n"
     ]
    }
   ],
   "source": [
    "print(make_inputs.seq_tools.mhcs_df.sample(20))"
   ]
  },
  {
   "cell_type": "markdown",
   "id": "e08933ba",
   "metadata": {
    "hidden": true
   },
   "source": [
    "`MHC sequence` must be a string. For class I, it should be the sequence of the alpha-chain (the whole chain or just the antigen-binding region), and for class II, alpha- and beta-chain sequences separated by '/'. When modeling structures from PDB files, and in particular, the datasets used in this work, it is recommended to use `MHC sequence` input because in some PDB files MHC sequences have mutations relative to the alleles that our alignment tool has assigned. (However, Step 1 below takes longer with sequences than with alleles.)"
   ]
  },
  {
   "cell_type": "markdown",
   "id": "dc834a59",
   "metadata": {
    "hidden": true
   },
   "source": [
    "Optional columns in the input dataframe:<br>\n",
    "- `pmhc_id`: will be used to name folders with models. If not provided, will use 0,1,...<br>\n",
    "- `pdb_id`: PDB ID for the true structure, including id of the complex within asymmetric unit, e.g. `4zut_0`. If provided, the algorithm will compute peptide and MHC RMSD for each model. Must be: 1) a string; 2) lower case; 3) present in our database; 4) id of complex within asymmetric unit is almost always `0`. You can look at which structures are available in `data/experimental_structures/processed_updated/pdb_rotated`.<br>\n",
    "- `exclude_pdbs`: list of PDB IDs that should not be used as templates for a given pMHC. Must be a list of lower-case PDB IDs, e.g. `['3gsw','1o5k']`."
   ]
  },
  {
   "cell_type": "markdown",
   "id": "4d563f03",
   "metadata": {
    "hidden": true
   },
   "source": [
    "As an example, we model one class I and one class II structure from `data/examples/sample.csv`:"
   ]
  },
  {
   "cell_type": "code",
   "execution_count": 3,
   "id": "a1c92914",
   "metadata": {
    "hidden": true
   },
   "outputs": [
    {
     "name": "stdout",
     "output_type": "stream",
     "text": [
      "               pep                MHC allele  pdb_id\n",
      "0        NYNYLYRLF               HLA-A*24:02  7f4w_0\n",
      "1  GIAGFKGEQGPKGEP  HLA-DRA*01:01/DRB1*04:01  6nix_0\n"
     ]
    }
   ],
   "source": [
    "df_to_model=pd.read_csv('./data/examples/sample.csv')\n",
    "print(df_to_model)"
   ]
  },
  {
   "cell_type": "markdown",
   "id": "04bd3804",
   "metadata": {
    "hidden": true
   },
   "source": [
    "<b>Step 1:</b> add `pmhc_id` if not present, add columns `mhc_a` and `mhc_b` with numbered MHC sequences, run `seqnn`"
   ]
  },
  {
   "cell_type": "code",
   "execution_count": 4,
   "id": "20499861",
   "metadata": {
    "hidden": true
   },
   "outputs": [
    {
     "name": "stdout",
     "output_type": "stream",
     "text": [
      "Retrieving MHC objects from alleles.\n",
      "making Kd predictions for 1 pmhcs...\n"
     ]
    },
    {
     "name": "stderr",
     "output_type": "stream",
     "text": [
      "2023-03-05 21:00:17.626132: W tensorflow/stream_executor/platform/default/dso_loader.cc:64] Could not load dynamic library 'libcuda.so.1'; dlerror: libcuda.so.1: cannot open shared object file: No such file or directory; LD_LIBRARY_PATH: /usr/lib64:/usr/local/lib64:/usr/local/share/ge2011.11/lib/linux-x64:/usr/local/root/lib:/usr/local/intel/compilers_and_libraries_2019.2.187/linux/compiler/lib/intel64_lin:/usr/local/intel//compilers_and_libraries_2019.2.187/linux/mpi/intel64/libfabric/lib:/usr/local/intel//compilers_and_libraries_2019.2.187/linux/mpi/intel64/lib/release:/usr/local/intel//compilers_and_libraries_2019.2.187/linux/mpi/intel64/lib:/usr/local/intel/compilers_and_libraries_2019.2.187/linux/ipp/lib/intel64:/usr/local/intel/compilers_and_libraries_2019.2.187/linux/compiler/lib/intel64_lin:/usr/local/intel/compilers_and_libraries_2019.2.187/linux/mkl/lib/intel64_lin:/usr/local/intel/compilers_and_libraries_2019.2.187/linux/tbb/lib/intel64/gcc4.7:/usr/local/intel/compilers_and_libraries_2019.2.187/linux/tbb/lib/intel64/gcc4.7:/usr/local/intel/debugger_2019/libipt/intel64/lib:/usr/local/intel/compilers_and_libraries_2019.2.187/linux/daal/lib/intel64_lin:/usr/local/intel/compilers_and_libraries_2019.2.187/linux/daal/../tbb/lib/intel64_lin/gcc4.4:/home/vmikhayl:\n",
      "2023-03-05 21:00:17.626553: W tensorflow/stream_executor/cuda/cuda_driver.cc:326] failed call to cuInit: UNKNOWN ERROR (303)\n",
      "2023-03-05 21:00:17.626607: I tensorflow/stream_executor/cuda/cuda_diagnostics.cc:156] kernel driver does not appear to be running on this host (deimos.sns.ias.edu): /proc/driver/nvidia/version does not exist\n",
      "2023-03-05 21:00:17.627152: I tensorflow/core/platform/cpu_feature_guard.cc:142] This TensorFlow binary is optimized with oneAPI Deep Neural Network Library (oneDNN) to use the following CPU instructions in performance-critical operations:  AVX2 FMA\n",
      "To enable them in other operations, rebuild TensorFlow with the appropriate compiler flags.\n",
      "/home/vmikhayl/anaconda3/envs/tfold-env/lib/python3.8/site-packages/tensorflow/python/keras/engine/functional.py:588: UserWarning: Input dict contained keys ['regmask', 'tails'] which did not match any model input. They will be ignored by the model.\n",
      "  warnings.warn(\n"
     ]
    },
    {
     "name": "stdout",
     "output_type": "stream",
     "text": [
      "making Kd predictions for 1 pmhcs...\n"
     ]
    },
    {
     "name": "stderr",
     "output_type": "stream",
     "text": [
      "/home/vmikhayl/anaconda3/envs/tfold-env/lib/python3.8/site-packages/tensorflow/python/keras/engine/functional.py:588: UserWarning: Input dict contained keys ['regmask'] which did not match any model input. They will be ignored by the model.\n",
      "  warnings.warn(\n"
     ]
    }
   ],
   "source": [
    "df_to_model=make_inputs.preprocess_df(df_to_model)\n",
    "\n",
    "#optionally, can use seqnn-f instead of seqnn for class II:\n",
    "#df_to_model=make_inputs.preprocess_df(df_to_model,use_seqnnf=True)\n",
    "#(we didn't use it for register filtering in the paper)\n",
    "\n",
    "#(please ignore warnings from tensorflow)"
   ]
  },
  {
   "cell_type": "markdown",
   "id": "aaf8e9be",
   "metadata": {
    "hidden": true
   },
   "source": [
    "`seqnn` predictions are now in columns\n",
    "- `seqnn_logkds_all`: registers (n_l, n_r) and log_10(K_d) predictions for them;\n",
    "- `seqnn_logkd`: minimal log_10(K_d);\n",
    "- `seqnn_tails`: register with the minimal log_10(K_d)."
   ]
  },
  {
   "cell_type": "code",
   "execution_count": 5,
   "id": "d53414cf",
   "metadata": {
    "hidden": true
   },
   "outputs": [
    {
     "name": "stdout",
     "output_type": "stream",
     "text": [
      "Index(['pep', 'MHC allele', 'pdb_id', 'pmhc_id', 'mhc_a', 'mhc_b', 'class',\n",
      "       'seqnn_logkds_all', 'seqnn_logkd', 'seqnn_tails'],\n",
      "      dtype='object')\n"
     ]
    }
   ],
   "source": [
    "print(df_to_model.columns)"
   ]
  },
  {
   "cell_type": "markdown",
   "id": "89537d6a",
   "metadata": {
    "hidden": true
   },
   "source": [
    "<b>Step 2:</b> choose folder to store data, prepare and save AlphaFold inputs"
   ]
  },
  {
   "cell_type": "code",
   "execution_count": 6,
   "id": "b783c2d7",
   "metadata": {
    "hidden": true
   },
   "outputs": [
    {
     "name": "stdout",
     "output_type": "stream",
     "text": [
      "class I:\n",
      "pmhcs:   1; runs:    5, runs per pmhc: av 5.0, max  5; registers per pmhc: av 1.0, max  1\n",
      "class II:\n",
      "pmhcs:   1; runs:   10, runs per pmhc: av 10.0, max 10; registers per pmhc: av 2.0, max  2\n",
      "total AF runs: 15\n"
     ]
    }
   ],
   "source": [
    "#make AF inputs\n",
    "af_inputs=make_inputs.make_inputs(df_to_model,date_cutoff='2018-04-30',print_stats=True)\n",
    "#(optionally, set template date cutoff YYYY-MM-DD)\n",
    "print('total AF runs:',len(af_inputs))\n",
    "\n",
    "#choose where to put inputs and outputs\n",
    "working_dir=os.getcwd()+'/tmp/modeling'  #just an example\n",
    "\n",
    "input_dir=working_dir+'/inputs'\n",
    "output_dir=working_dir+'/outputs'\n",
    "os.makedirs(working_dir,exist_ok=True)\n",
    "os.makedirs(input_dir,exist_ok=True) \n",
    "os.makedirs(output_dir,exist_ok=True)\n",
    "\n",
    "#save AF inputs and input dataframe\n",
    "#(instead of saving them all in one file, you can split them to then run parallel AF jobs on multiple GPUs)\n",
    "with open(input_dir+'/input.pckl','wb') as f: \n",
    "    pickle.dump(af_inputs,f) \n",
    "df_to_model.to_pickle(working_dir+'/target_df.pckl') #will be used by script that parses results\n",
    "    \n",
    "#make bash script that will run AlphaFold\n",
    "af_patch_path=os.getcwd()+'/tfold_run_alphafold.py'\n",
    "lines=[]\n",
    "lines.append(f'python {af_patch_path} --inputs {input_dir}/input.pckl --output_dir {output_dir}')\n",
    "sh_path=working_dir+'/run_alphafold.sh'\n",
    "with open(sh_path,'w') as f:\n",
    "    f.writelines('\\n'.join(lines))\n",
    "os.chmod(sh_path, stat.S_IRWXU | stat.S_IXGRP | stat.S_IXOTH)   "
   ]
  },
  {
   "cell_type": "markdown",
   "id": "8ab5e083",
   "metadata": {
    "hidden": true
   },
   "source": [
    "<b>Step 3:</b> run script `$working_dir/run_alphafold.sh` on a GPU. On NVIDIA A100, it takes ~30 s per model (with 6 and 21 models on average per class I and class II pMHC), plus about 1 min of model compilation which doesn't matter for a large enough number of models. <b>Note</b>: for other parts of the pipeline, running them on GPU gives no advantage."
   ]
  },
  {
   "cell_type": "markdown",
   "id": "1ad42875",
   "metadata": {
    "hidden": true
   },
   "source": [
    "<b>Step 4:</b> collect and analyze information about the models."
   ]
  },
  {
   "cell_type": "code",
   "execution_count": 7,
   "id": "db407b52",
   "metadata": {
    "hidden": true
   },
   "outputs": [
    {
     "name": "stdout",
     "output_type": "stream",
     "text": [
      "  15 outputs collected in    0.2 s\n"
     ]
    }
   ],
   "source": [
    "result_parse_tools.parse_results(working_dir)\n",
    "#saves a summary of models in $working_dir/result_df.pckl"
   ]
  },
  {
   "cell_type": "code",
   "execution_count": 8,
   "id": "08836660",
   "metadata": {
    "hidden": true
   },
   "outputs": [],
   "source": [
    "#info about all models\n",
    "result_df=pd.read_pickle(working_dir+'/result_df.pckl')\n",
    "\n",
    "#reduce to best models (lowest predicted score) for each pMHC\n",
    "best_model_df=result_parse_tools.reduce_to_best(result_df,['pmhc_id'],'score',how='min')"
   ]
  },
  {
   "cell_type": "markdown",
   "id": "064d668c",
   "metadata": {
    "hidden": true
   },
   "source": [
    "Dataframe best_model_df contains information about best models for each pMHC. It keeps all columns from the input dataframe and adds some more:\n",
    "- `pmhc_id`;\n",
    "- `pep`;\n",
    "- `MHC allele`;\n",
    "- `model_id`: id of the best model; the model is `$working_dir/$pmhc_id/structure_model_1_$model_id.pdb`;\n",
    "- `pep_CA`, `mhc_CA`, `pep_all`, `mhc_all`: peptide and MHC C-alpha and all-atom RMSD (if true structure given);\n",
    "- `af_tails`: predicted register (n_l,n_r);\n",
    "- `register_identified`: if the model is so bad that register cannot be identified, this will be `False`;\n",
    "- `score`: 100-pLDDT averaged over the peptide."
   ]
  },
  {
   "cell_type": "code",
   "execution_count": 10,
   "id": "5f23a294",
   "metadata": {
    "hidden": true
   },
   "outputs": [
    {
     "data": {
      "text/html": [
       "<div>\n",
       "<style scoped>\n",
       "    .dataframe tbody tr th:only-of-type {\n",
       "        vertical-align: middle;\n",
       "    }\n",
       "\n",
       "    .dataframe tbody tr th {\n",
       "        vertical-align: top;\n",
       "    }\n",
       "\n",
       "    .dataframe thead th {\n",
       "        text-align: right;\n",
       "    }\n",
       "</style>\n",
       "<table border=\"1\" class=\"dataframe\">\n",
       "  <thead>\n",
       "    <tr style=\"text-align: right;\">\n",
       "      <th></th>\n",
       "      <th>pmhc_id</th>\n",
       "      <th>model_id</th>\n",
       "      <th>pep</th>\n",
       "      <th>MHC allele</th>\n",
       "      <th>pep_CA</th>\n",
       "      <th>pep_all</th>\n",
       "      <th>mhc_CA</th>\n",
       "      <th>mhc_all</th>\n",
       "      <th>af_tails</th>\n",
       "      <th>register_identified</th>\n",
       "      <th>score</th>\n",
       "    </tr>\n",
       "    <tr>\n",
       "      <th>pmhc_id</th>\n",
       "      <th></th>\n",
       "      <th></th>\n",
       "      <th></th>\n",
       "      <th></th>\n",
       "      <th></th>\n",
       "      <th></th>\n",
       "      <th></th>\n",
       "      <th></th>\n",
       "      <th></th>\n",
       "      <th></th>\n",
       "      <th></th>\n",
       "    </tr>\n",
       "  </thead>\n",
       "  <tbody>\n",
       "    <tr>\n",
       "      <th>0</th>\n",
       "      <td>0</td>\n",
       "      <td>0</td>\n",
       "      <td>NYNYLYRLF</td>\n",
       "      <td>HLA-A*24:02</td>\n",
       "      <td>0.595139</td>\n",
       "      <td>1.257157</td>\n",
       "      <td>0.487035</td>\n",
       "      <td>1.252594</td>\n",
       "      <td>(0, 0)</td>\n",
       "      <td>True</td>\n",
       "      <td>4.864736</td>\n",
       "    </tr>\n",
       "    <tr>\n",
       "      <th>1</th>\n",
       "      <td>1</td>\n",
       "      <td>5</td>\n",
       "      <td>GIAGFKGEQGPKGEP</td>\n",
       "      <td>HLA-DRA*01:01/DRB1*04:01</td>\n",
       "      <td>0.376919</td>\n",
       "      <td>1.085748</td>\n",
       "      <td>0.331121</td>\n",
       "      <td>1.059522</td>\n",
       "      <td>(4, 2)</td>\n",
       "      <td>True</td>\n",
       "      <td>3.768176</td>\n",
       "    </tr>\n",
       "  </tbody>\n",
       "</table>\n",
       "</div>"
      ],
      "text/plain": [
       "         pmhc_id  model_id              pep                MHC allele  \\\n",
       "pmhc_id                                                                 \n",
       "0              0         0        NYNYLYRLF               HLA-A*24:02   \n",
       "1              1         5  GIAGFKGEQGPKGEP  HLA-DRA*01:01/DRB1*04:01   \n",
       "\n",
       "           pep_CA   pep_all    mhc_CA   mhc_all af_tails  register_identified  \\\n",
       "pmhc_id                                                                         \n",
       "0        0.595139  1.257157  0.487035  1.252594   (0, 0)                 True   \n",
       "1        0.376919  1.085748  0.331121  1.059522   (4, 2)                 True   \n",
       "\n",
       "            score  \n",
       "pmhc_id            \n",
       "0        4.864736  \n",
       "1        3.768176  "
      ]
     },
     "execution_count": 10,
     "metadata": {},
     "output_type": "execute_result"
    }
   ],
   "source": [
    "best_model_df[['pmhc_id','model_id','pep','MHC allele',\n",
    "               'pep_CA','pep_all','mhc_CA','mhc_all',\n",
    "               'af_tails','register_identified',\n",
    "               'score']]"
   ]
  },
  {
   "cell_type": "markdown",
   "id": "4a01c809",
   "metadata": {
    "heading_collapsed": true
   },
   "source": [
    "# pMHC and TCR structure data and some tools to work with it"
   ]
  },
  {
   "cell_type": "markdown",
   "id": "893e3b2c",
   "metadata": {
    "heading_collapsed": true,
    "hidden": true
   },
   "source": [
    "## `seq_tools`"
   ]
  },
  {
   "cell_type": "markdown",
   "id": "320feeba",
   "metadata": {
    "hidden": true
   },
   "source": [
    "`seq_tools` is a simple toolbox for working with numbered sequences. In particular, it describes a class `NUMSEQ` that is used throughout the project."
   ]
  },
  {
   "cell_type": "code",
   "execution_count": 19,
   "id": "323a5e11",
   "metadata": {
    "hidden": true,
    "scrolled": true
   },
   "outputs": [
    {
     "name": "stdout",
     "output_type": "stream",
     "text": [
      "Help on class NUMSEQ in module tfold.utils.seq_tools:\n",
      "\n",
      "class NUMSEQ(builtins.object)\n",
      " |  NUMSEQ(**args)\n",
      " |  \n",
      " |  CONTAINS:\n",
      " |  - structured array self.data of dtype numseq_dtype; \n",
      " |  (can add more fields optionally, but then not guaranteed that join_NUMSEQ and other functions will work);    \n",
      " |  - a dict self.info to store e.g. species, locus, allele, etc; \n",
      " |  includes at least 'gaps', which is a structured array of numseq_dtype;\n",
      " |  INIT TAKES: kwd arguments; arg 'info' becomes self.info, other args go into data;\n",
      " |  if arg 'data' given, goes into self.data, otherwise self.data built from args 'seq','num','ins'/'pdbnum'\n",
      " |  and others\n",
      " |  \n",
      " |  Methods defined here:\n",
      " |  \n",
      " |  __init__(self, **args)\n",
      " |      Initialize self.  See help(type(self)) for accurate signature.\n",
      " |  \n",
      " |  copy(self)\n",
      " |  \n",
      " |  count_mutations(self)\n",
      " |      counts mutations, gaps, gaps_left, gaps_right\n",
      " |  \n",
      " |  dump(self)\n",
      " |      returns {'data':data,'info':info}. For pickling\n",
      " |  \n",
      " |  get_fragment(self, num_l, num_r, complement=False)\n",
      " |      complement==False (default): returns structured array for num_l<=num<=num_r;\n",
      " |      complement==True: returns structured array for complement of the above\n",
      " |  \n",
      " |  get_fragment_by_i(self, i_l, i_r)\n",
      " |      returns NUMSEQ obj cut by python index [i_l:i_r] (end included)\n",
      " |  \n",
      " |  get_fragment_by_pdbnum(self, pdbnum_l, pdbnum_r, include_left_end=True, include_right_end=True)\n",
      " |      returns NUMSEQ obj cut by pdbnum [pdbnum_l:pdbnum_r];\n",
      " |      flags include_left_end, include_right_end determine whether the ends are included\n",
      " |      (default True, True)\n",
      " |  \n",
      " |  get_residues_by_nums(self, nums)\n",
      " |      return a np array of residues with res numbers in the array (or list) nums;\n",
      " |      (residues with all insertion codes included)       \n",
      " |      (for missing res, no gap shown; motivation: without ins codes, can miss gaps e.g. res '1A' when res '1' present)\n",
      " |  \n",
      " |  get_residues_by_pdbnums(self, pdbnums, show_gaps=True)\n",
      " |      return a np array of residues with pdbnums in the array (or list) pdbnums;\n",
      " |      if show_gaps (default True), output '-'s for missing pdbnums\n",
      " |  \n",
      " |  mutate(self, mutations, shift=None)\n",
      " |      takes mutations formated as a list [res|n|newres,...]; newres can be '-' for gap;        \n",
      " |      if shift==None (default), assume 'n' are pdbnums;\n",
      " |      if shift is int, assume 'n' refers to aa seq[n-shift-1];        \n",
      " |      e.g. if n references seq 'GSHS..' in 1-based indexing, shift should be 0 if seq='GSHS...' and 1 if seq='SHS...';        \n",
      " |      (note: when gaps present, safer to use pdbnums!)\n",
      " |      returns a new object with mutations, and an error string;    \n",
      " |      if any of the old residues do not match what is in the mutations, or pdbnums are missing or\n",
      " |      occur multiple times, an error is appended with the sublist of mutations that are bad.\n",
      " |      Error format: 'res|pdbnum|newres|errorcode;...', where errorcode=0 for wrong residue\n",
      " |      and 1 for no pdb_num or multiple pdb_nums. \n",
      " |      A mutation with an error is not implemented, all others are.\n",
      " |      mutations added to output object's data['mutations'] (stores original residues, default '' for non-mutated)\n",
      " |      and info['gaps'] (all columns incl. e.g. 'ss', if present)\n",
      " |  \n",
      " |  mutations(self)\n",
      " |      returns the list of mutations and gaps in the format 'X|nnnni|Y', sorted by pdbnum\n",
      " |  \n",
      " |  repair_gaps(self, which='all', small=False)\n",
      " |      insert back residues from gaps; (positions determined according to pdbnum);\n",
      " |      arg 'which' defines which gaps to restore; can be 'all' (default), 'left', 'right';\n",
      " |      if small (default False), repaired gaps are in small letters;\n",
      " |      also changes small-letter gaps in the sequence, unless small==True\n",
      " |  \n",
      " |  seq(self, hetero=False)\n",
      " |      return the sequence as a string;\n",
      " |      if hetero (default False), include 3-letter codes for hetero atoms \n",
      " |      as e.g. GILG(ABA)VFTL or GILG(aba)VFTL if gap\n",
      " |  \n",
      " |  ungap(self, gaplist=['.', '-'])\n",
      " |      return a new object with gap symbols removed, and all renumbered accordingly;\n",
      " |      gap symbols defined in gaplist (default '.', '-'); info copied;\n",
      " |      info['gaps'] not updated, since gaps do not include previous res information\n",
      " |  \n",
      " |  ungap_small(self)\n",
      " |      assume small letters in seq are gaps; remove them and add to info['gaps'] (but large)\n",
      " |  \n",
      " |  ----------------------------------------------------------------------\n",
      " |  Data descriptors defined here:\n",
      " |  \n",
      " |  __dict__\n",
      " |      dictionary for instance variables (if defined)\n",
      " |  \n",
      " |  __weakref__\n",
      " |      list of weak references to the object (if defined)\n",
      " |  \n",
      " |  ----------------------------------------------------------------------\n",
      " |  Data and other attributes defined here:\n",
      " |  \n",
      " |  __slotnames__ = []\n",
      "\n"
     ]
    }
   ],
   "source": [
    "from tfold.utils import seq_tools\n",
    "help(seq_tools.NUMSEQ)"
   ]
  },
  {
   "cell_type": "markdown",
   "id": "a5d0bc49",
   "metadata": {
    "hidden": true
   },
   "source": [
    "Let's create a NUMSEQ object with a given sequence, numbering, and insertion codes"
   ]
  },
  {
   "cell_type": "code",
   "execution_count": 20,
   "id": "727819b7",
   "metadata": {
    "hidden": true
   },
   "outputs": [],
   "source": [
    "#creating a NUMSEQ\n",
    "seq='GILGFVFTL'\n",
    "num=[0,0,3,4,5,6,7,8,9]\n",
    "ins=['A','B']+['']*7\n",
    "\n",
    "seq_obj=seq_tools.NUMSEQ(seq=seq,num=num,ins=ins)"
   ]
  },
  {
   "cell_type": "markdown",
   "id": "b72eade4",
   "metadata": {
    "hidden": true
   },
   "source": [
    "The object contains two data attributes: `seq_obj.data` and `seq_ob.info`. The first is a structured `np.array` containing the sequence, numbering, insertion codes, as well as pdbnum, which are 5-character strings containing both the number and the insertion code of a residue, formatted as characters 23-27 in a pdb ATOM record. The `data` array also contains an array `ss` with secondary structure information and other labels (such as CDR1-3), as well as an array `mutations` that stores mutations relative to a parent sequence, when given"
   ]
  },
  {
   "cell_type": "code",
   "execution_count": 21,
   "id": "9ce370a8",
   "metadata": {
    "hidden": true
   },
   "outputs": [
    {
     "name": "stdout",
     "output_type": "stream",
     "text": [
      "[('seq', '<U3'), ('num', '<i2'), ('ins', '<U1'), ('pdbnum', '<U5'), ('ss', '<U15'), ('mutations', '<U3')]\n",
      "('G', 0, 'A', '   0A', '', '')\n",
      "GILGFVFTL\n"
     ]
    }
   ],
   "source": [
    "#.data\n",
    "print(seq_obj.data.dtype) #NUMSEQ.data structured array\n",
    "print(seq_obj.data[0])    #a slice of the array: aa name, number, insertion code, pdbnum, secondary structure, mutation\n",
    "print(seq_obj.seq())      #a method for returning the sequence as a string"
   ]
  },
  {
   "cell_type": "markdown",
   "id": "b4b16ae9",
   "metadata": {
    "hidden": true
   },
   "source": [
    "The `info` attribute is a dictionary where we store things like locus and allele. By default, it also contains an array `gaps` where we can store information about missing residues. "
   ]
  },
  {
   "cell_type": "code",
   "execution_count": 22,
   "id": "08256410",
   "metadata": {
    "hidden": true
   },
   "outputs": [
    {
     "name": "stdout",
     "output_type": "stream",
     "text": [
      "dictionary \".info\":\n",
      "{'gaps': array([],\n",
      "      dtype=[('seq', '<U3'), ('num', '<i2'), ('ins', '<U1'), ('pdbnum', '<U5'), ('ss', '<U15'), ('mutations', '<U3')])}\n",
      "we denote missing residues by small letters:\n",
      "gILGFVFTL\n",
      "small letter gaps removed:\n",
      "ILGFVFTL\n",
      "they were moved to the \"gap\" field in \".info\":\n",
      "{'gaps': array([('G', 0, 'A', '   0A', '', '')],\n",
      "      dtype=[('seq', '<U3'), ('num', '<i2'), ('ins', '<U1'), ('pdbnum', '<U5'), ('ss', '<U15'), ('mutations', '<U3')])}\n"
     ]
    }
   ],
   "source": [
    "#.info and gaps\n",
    "print('dictionary \".info\":')\n",
    "print(seq_obj.info)\n",
    "seq_obj_with_gap=seq_obj.copy()       #make a copy where we will introduce a gap\n",
    "seq_obj_with_gap.data[0]['seq']='g'   #replace one aa with a small letter signifying that it is a gap\n",
    "print('we denote missing residues by small letters:')\n",
    "print(seq_obj_with_gap.seq())\n",
    "seq_obj_with_gap=seq_obj_with_gap.ungap_small() #remove small letters in the sequence and save them in .info['gaps']\n",
    "print('small letter gaps removed:')\n",
    "print(seq_obj_with_gap.seq())\n",
    "print('they were moved to the \"gap\" field in \".info\":')\n",
    "print(seq_obj_with_gap.info)"
   ]
  },
  {
   "cell_type": "markdown",
   "id": "c5c5853a",
   "metadata": {
    "hidden": true
   },
   "source": [
    "Pickle and unpickle. To pickle a NUMSEQ object, we convert it to a dict {'data':data,'info':info}. __In pickled data for the structure database, all sequence information is stored in the form of such dictionaries.__ A NUMSEQ object can be easily restored, if one needs its methods."
   ]
  },
  {
   "cell_type": "code",
   "execution_count": 23,
   "id": "026f2fca",
   "metadata": {
    "hidden": true
   },
   "outputs": [
    {
     "name": "stdout",
     "output_type": "stream",
     "text": [
      "data [('G', 0, 'A', '   0A', '', '') ('I', 0, 'B', '   0B', '', '')\n",
      " ('L', 3, ' ', '   3 ', '', '') ('G', 4, ' ', '   4 ', '', '')\n",
      " ('F', 5, ' ', '   5 ', '', '') ('V', 6, ' ', '   6 ', '', '')\n",
      " ('F', 7, ' ', '   7 ', '', '') ('T', 8, ' ', '   8 ', '', '')\n",
      " ('L', 9, ' ', '   9 ', '', '')]\n",
      "info {'gaps': array([],\n",
      "      dtype=[('seq', '<U3'), ('num', '<i2'), ('ins', '<U1'), ('pdbnum', '<U5'), ('ss', '<U15'), ('mutations', '<U3')])}\n",
      "\n",
      "restored:\n",
      "data: [('G', 0, 'A', '   0A', '', '') ('I', 0, 'B', '   0B', '', '')\n",
      " ('L', 3, ' ', '   3 ', '', '') ('G', 4, ' ', '   4 ', '', '')\n",
      " ('F', 5, ' ', '   5 ', '', '') ('V', 6, ' ', '   6 ', '', '')\n",
      " ('F', 7, ' ', '   7 ', '', '') ('T', 8, ' ', '   8 ', '', '')\n",
      " ('L', 9, ' ', '   9 ', '', '')]\n",
      "info: {'gaps': array([],\n",
      "      dtype=[('seq', '<U3'), ('num', '<i2'), ('ins', '<U1'), ('pdbnum', '<U5'), ('ss', '<U15'), ('mutations', '<U3')])}\n"
     ]
    }
   ],
   "source": [
    "seq_obj_dict=seq_obj.dump()      #dump NUMSEQ to dict\n",
    "for k,v in seq_obj_dict.items():\n",
    "    print(k,v)\n",
    "print()\n",
    "seq_obj_restored=seq_tools.load_NUMSEQ(seq_obj_dict) #restore NUMSEQ from dict\n",
    "print('restored:')\n",
    "print('data:',seq_obj_restored.data)\n",
    "print('info:',seq_obj_restored.info)"
   ]
  },
  {
   "cell_type": "markdown",
   "id": "27af3023",
   "metadata": {
    "hidden": true
   },
   "source": [
    "`seq_tools` also contains MHC and TCR germline protein sequences with IMGT numbering"
   ]
  },
  {
   "cell_type": "code",
   "execution_count": 24,
   "id": "62080834",
   "metadata": {
    "hidden": true
   },
   "outputs": [
    {
     "name": "stdout",
     "output_type": "stream",
     "text": [
      "MHC loading from MHC.pckl. To update the pickle file, set use_pickle to False\n",
      "loaded 26122 MHC sequences in  1.8 s\n",
      "TCR loading from TCR.pckl. To update the pickle file, set use_pickle to False\n",
      "loaded 2835 TCR sequences in  0.2 s\n"
     ]
    }
   ],
   "source": [
    "seq_tools.load_mhcs() #load MHC sequences\n",
    "seq_tools.load_tcrs() #load TCR sequences"
   ]
  },
  {
   "cell_type": "markdown",
   "id": "ebb95cc3",
   "metadata": {
    "hidden": true
   },
   "source": [
    "These data are available for multiple species. The species information is collected in a dictionary `seq_tools.species`. The keys are NCBI taxonomy ids https://www.ncbi.nlm.nih.gov/taxonomy. Note: species ids are stored as strings, not integers!  The ids for human and mouse are '9606' and '10090', respectively"
   ]
  },
  {
   "cell_type": "code",
   "execution_count": 25,
   "id": "a74a0361",
   "metadata": {
    "hidden": true,
    "scrolled": true
   },
   "outputs": [
    {
     "data": {
      "text/plain": [
       "{'37293': ['aona', '', \"Nancy Ma's Night Monkey\"],\n",
       " '57175': ['aoni', '', 'Black-headed Night Monkey'],\n",
       " '9505': ['aotr', '', 'Three-striped Night Monkey'],\n",
       " '9507': ['atbe', '', 'White-fronted Spider Monkey'],\n",
       " '9483': ['caja', '', 'Common Marmoset'],\n",
       " '9523': ['camo', '', 'Red-bellied Titi'],\n",
       " '9515': ['ceap', '', 'Tufted Capuchin'],\n",
       " '9493': ['capy', '', 'Pygmy Marmoset'],\n",
       " '9534': ['chae', '', 'Grivet'],\n",
       " '9593': ['gogo', '', 'Gorilla'],\n",
       " '9580': ['hyla', '', 'Lar Gibbon'],\n",
       " '30588': ['lero', '', 'Golden Lion Tamarin'],\n",
       " '9540': ['maar', '', 'Stump-tailed Macaque'],\n",
       " '9541': ['mafa', '', 'Crab-eating Macaque'],\n",
       " '9544': ['mamu', '', 'rhesus monkey'],\n",
       " '9545': ['mane', '', 'Southern Pig-tailed Macaque'],\n",
       " '54601': ['masi', '', 'Lion-tailed Macaque'],\n",
       " '9555': ['paan', '', 'Olive Baboon'],\n",
       " '9556': ['pacy', '', 'Yellow Baboon'],\n",
       " '9557': ['paha', '', 'Hamadryas Baboon'],\n",
       " '9597': ['papa', '', 'Bonobo'],\n",
       " '9598': ['patr', '', 'Common Chimpanzee'],\n",
       " '43777': ['pipi', '', 'White-faced Saki'],\n",
       " '9600': ['popy', '', 'Bornean Orangutan'],\n",
       " '9487': ['safu', '', 'Brown-mantled Tamarin'],\n",
       " '9490': ['saoe', '', 'Cottontop Tamarin'],\n",
       " '9521': ['sasc', '', 'Common squirrel monkey'],\n",
       " '9561': ['masp', '', 'Mandrill'],\n",
       " '36229': ['paur', '', 'Chacma Baboon'],\n",
       " '30591': ['aoaz', '', \"Azara's Night Monkey\"],\n",
       " '57176': ['aovo', '', \"Spix's Night Monkey\"],\n",
       " '9940': ['ovar', '', 'Domestic Sheep'],\n",
       " '9913': ['bola', '', 'Cattle'],\n",
       " '89462': ['bubu', '', 'Water Buffalo'],\n",
       " '60711': ['chsa', '', 'Green Monkey'],\n",
       " '78454': ['sala', '', 'White-lipped Tamarin'],\n",
       " '54602': ['math', '', \"Milne Edward's Macaque\"],\n",
       " '9601': ['poab', '', 'Sumatran Orangutan'],\n",
       " '9615': ['calu', 'DLA', 'Wolf'],\n",
       " '9796': ['eqca', '', 'Horse'],\n",
       " '9508': ['atfu', '', 'Black-headed Spider Monkey'],\n",
       " '9551': ['maas', '', 'Assam Macaque'],\n",
       " '36225': ['cemi', '', 'Blue Monkey'],\n",
       " '81572': ['hymo', '', 'Silvery Javan Gibbon'],\n",
       " '9823': ['susc', 'SLA', 'Feral Pig'],\n",
       " '9531': ['ceat', '', 'Sooty Mangabey'],\n",
       " '90387': ['malo', '', 'Northern Pig-tailed Macaque'],\n",
       " '8022': ['onmy', '', 'Rainbow Trout'],\n",
       " '8030': ['sasa', '', 'Atlantic Salmon'],\n",
       " '10116': ['rano', '', 'Norway Rat'],\n",
       " '9031': ['gaga', '', 'Chicken'],\n",
       " '499232': ['gobe', '', 'eastern gorilla'],\n",
       " '30521': ['bogr', '', 'domestic yak'],\n",
       " '60710': ['chpy', '', 'vervet monkey'],\n",
       " '182253': ['alpi', '', 'Guatemalan black howler'],\n",
       " '9925': ['cahi', '', 'Goat'],\n",
       " '43147': ['aole', 'AOLE', 'Gray-bellied Night Monkey'],\n",
       " '37174': ['ovca', '', 'Bighorn Sheep'],\n",
       " '9838': ['', '', 'camel'],\n",
       " '7955': ['', '', 'zebrafish'],\n",
       " '9685': ['', '', 'cat'],\n",
       " '10181': ['', '', 'naked mole rat'],\n",
       " '9606': ['homo', 'HLA', 'human'],\n",
       " '9669': ['', '', 'ferret'],\n",
       " '10090': ['mus', 'H2', 'mouse'],\n",
       " '9986': ['', '', 'rabbit'],\n",
       " '9739': ['', '', 'dolphin']}"
      ]
     },
     "execution_count": 25,
     "metadata": {},
     "output_type": "execute_result"
    }
   ],
   "source": [
    "seq_tools.species"
   ]
  },
  {
   "cell_type": "markdown",
   "id": "8ee2183b",
   "metadata": {
    "hidden": true
   },
   "source": [
    "The information about all available MHC and TCR loci and alleles is collected in the dataframes:"
   ]
  },
  {
   "cell_type": "code",
   "execution_count": 26,
   "id": "c711c3ea",
   "metadata": {
    "hidden": true,
    "scrolled": true
   },
   "outputs": [
    {
     "name": "stdout",
     "output_type": "stream",
     "text": [
      "MHCs:\n",
      "  species_id cl chain locus allele\n",
      "0       9606  I     A     A  01:01\n",
      "1       9606  I     A     A  01:02\n",
      "2       9606  I     A     A  01:03\n",
      "3       9606  I     A     A  01:06\n",
      "4       9606  I     A     A  01:07\n",
      "TCRs:\n",
      "  species_id chain reg   locus allele\n",
      "0      37293     A   J  TRAJ15     01\n",
      "1      37293     A   J  TRAJ15     02\n",
      "2      37293     A   J   TRAJ2     01\n",
      "3      37293     A   J  TRAJ22     01\n",
      "4      37293     A   J  TRAJ23     01\n"
     ]
    }
   ],
   "source": [
    "print('MHCs:')\n",
    "print(seq_tools.mhcs_df.head(5))\n",
    "print('TCRs:')\n",
    "print(seq_tools.tcrs_df.head(5))"
   ]
  },
  {
   "cell_type": "markdown",
   "id": "24de0748",
   "metadata": {
    "hidden": true
   },
   "source": [
    "Human MHC alleles are labeled by the 4-digit system. (More precisely, `xx:xx` or `xx:xxx`, i.e. 4 of 5 digits.) Note that different 4-digit alleles can have identical sequences within the antigen-binding region."
   ]
  },
  {
   "cell_type": "markdown",
   "id": "6a61efdc",
   "metadata": {
    "hidden": true
   },
   "source": [
    "All sequences are stored as NUMSEQ objects. Here is an MHC example:"
   ]
  },
  {
   "cell_type": "code",
   "execution_count": 27,
   "id": "eec2c3bf",
   "metadata": {
    "hidden": true,
    "scrolled": true
   },
   "outputs": [
    {
     "name": "stdout",
     "output_type": "stream",
     "text": [
      "<class 'tfold.utils.seq_tools.NUMSEQ'>\n",
      "GSHSMRYFFTSVSRPGRGEPRFIAVGYVDDTQFVRFDSDAASQRMEPRAPWIEQEGPEYWDGETRKVKAHSQTHRVDLGTLRGYYNQSEAGSHTVQRMYGCDVGSDWRFLRGYHQYAYDGKDYIALKEDLRSWTAADMAAQTTKHKWEAAHVAEQLRAYLEGTCVEWLRRYLENGKETLQRT\n",
      "{'species': '9606', 'class': 'I', 'chain': 'A', 'locus': 'A', 'allele': '02:01', 'gaps': array([],\n",
      "      dtype=[('seq', '<U3'), ('num', '<i2'), ('ins', '<U1'), ('pdbnum', '<U5'), ('ss', '<U15'), ('mutations', '<U3')])}\n",
      "secondary structure:\n",
      "['b1' 'b1' 'b1' 'b1' 'b1' 'b1' 'b1' 'b1' 'b1' 'b1' 'b1' 'b1' 'b1' 'b1' 'l'\n",
      " 'l' 'l' 'b2' 'b2' 'b2' 'b2' 'b2' 'b2' 'b2' 'b2' 'b2' 'b2' 'b2' 'l' 'l'\n",
      " 'b3' 'b3' 'b3' 'b3' 'b3' 'b3' 'b3' 'b3' 'l' 'l' 'l' 'b4' 'b4' 'b4' 'b4'\n",
      " 'b4' 'b4' 'b4' 'b4' 'a' 'a' 'a' 'a' 'a' 'a' 'a' 'a' 'a' 'a' 'a' 'a' 'a'\n",
      " 'a' 'a' 'a' 'a' 'a' 'a' 'a' 'a' 'a' 'a' 'a' 'a' 'a' 'a' 'a' 'a' 'a' 'a'\n",
      " 'a' 'a' 'a' 'a' 'a' 'a' 'a' 'a' 'a' 'a' 'b1' 'b1' 'b1' 'b1' 'b1' 'b1'\n",
      " 'b1' 'b1' 'b1' 'b1' 'b1' 'b1' 'b1' 'b1' 'l' 'l' 'l' 'b2' 'b2' 'b2' 'b2'\n",
      " 'b2' 'b2' 'b2' 'b2' 'b2' 'b2' 'b2' 'l' 'l' 'b3' 'b3' 'b3' 'b3' 'b3' 'b3'\n",
      " 'b3' 'b3' 'l' 'b4' 'b4' 'b4' 'b4' 'b4' 'b4' 'b4' 'b4' 'a' 'a' 'a' 'a' 'a'\n",
      " 'a' 'a' 'a' 'a' 'a' 'a' 'a' 'a' 'a' 'a' 'a' 'a' 'a' 'a' 'a' 'a' 'a' 'a'\n",
      " 'a' 'a' 'a' 'a' 'a' 'a' 'a' 'a' 'a' 'a' 'a' 'a' 'a' 'a' 'a' 'a' 'a' 'a'\n",
      " 'a' 'a' 'a' 'a']\n",
      "IMGT numbering:\n",
      "['   1 ' '   2 ' '   3 ' '   4 ' '   5 ' '   6 ' '   7 ' '   8 ' '   9 '\n",
      " '  10 ' '  11 ' '  12 ' '  13 ' '  14 ' '  15 ' '  16 ' '  17 ' '  18 '\n",
      " '  19 ' '  20 ' '  21 ' '  22 ' '  23 ' '  24 ' '  25 ' '  26 ' '  27 '\n",
      " '  28 ' '  29 ' '  30 ' '  31 ' '  32 ' '  33 ' '  34 ' '  35 ' '  36 '\n",
      " '  37 ' '  38 ' '  39 ' '  40 ' '  41 ' '  42 ' '  43 ' '  44 ' '  45 '\n",
      " '  46 ' '  47 ' '  48 ' '  49 ' '  50 ' '  51 ' '  52 ' '  53 ' '  54 '\n",
      " '  55 ' '  56 ' '  57 ' '  58 ' '  59 ' '  60 ' '  61 ' '  62 ' '  63 '\n",
      " '  64 ' '  65 ' '  66 ' '  67 ' '  68 ' '  69 ' '  70 ' '  71 ' '  72 '\n",
      " '  73 ' '  74 ' '  75 ' '  76 ' '  77 ' '  78 ' '  79 ' '  80 ' '  81 '\n",
      " '  82 ' '  83 ' '  84 ' '  85 ' '  86 ' '  87 ' '  88 ' '  89 ' '  90 '\n",
      " '1001 ' '1002 ' '1003 ' '1004 ' '1005 ' '1006 ' '1007 ' '1008 ' '1009 '\n",
      " '1010 ' '1011 ' '1012 ' '1013 ' '1014 ' '1015 ' '1016 ' '1017 ' '1018 '\n",
      " '1019 ' '1020 ' '1021 ' '1022 ' '1023 ' '1024 ' '1025 ' '1026 ' '1027 '\n",
      " '1028 ' '1029 ' '1030 ' '1031 ' '1032 ' '1033 ' '1034 ' '1035 ' '1036 '\n",
      " '1037 ' '1038 ' '1039 ' '1042 ' '1043 ' '1044 ' '1045 ' '1046 ' '1047 '\n",
      " '1048 ' '1049 ' '1050 ' '1051 ' '1052 ' '1053 ' '1054 ' '1055 ' '1056 '\n",
      " '1057 ' '1058 ' '1059 ' '1060 ' '1061 ' '1061A' '1062 ' '1063 ' '1064 '\n",
      " '1065 ' '1066 ' '1067 ' '1068 ' '1069 ' '1070 ' '1071 ' '1072 ' '1072A'\n",
      " '1073 ' '1074 ' '1075 ' '1076 ' '1077 ' '1078 ' '1079 ' '1080 ' '1081 '\n",
      " '1082 ' '1083 ' '1084 ' '1085 ' '1086 ' '1087 ' '1088 ' '1089 ' '1090 '\n",
      " '1091 ' '1092 ']\n"
     ]
    }
   ],
   "source": [
    "#MHCs\n",
    "# the keys are (ncbi_species_id_as_str, locus, allele)\n",
    "\n",
    "mhc_A0201=seq_tools.mhcs['9606','A','02:01']  #human HLA-A*02:01\n",
    "print(type(mhc_A0201))\n",
    "print(mhc_A0201.seq())\n",
    "print(mhc_A0201.info)\n",
    "print('secondary structure:')\n",
    "print(mhc_A0201.data['ss'])\n",
    "print('IMGT numbering:')\n",
    "print(mhc_A0201.data['pdbnum'])"
   ]
  },
  {
   "cell_type": "markdown",
   "id": "7af0e92a",
   "metadata": {
    "hidden": true
   },
   "source": [
    "My version of MHC IMGT numbering is as follows. The antigen-binding domain of an MHC protein, both class I and class II, consists of two halves that are homologous to each other. In class I, they are exons 2 and 3 (within the same protein chain), and in class II, they are parts of chains A and B. IMGT defines a numbering for a single exon, i.e. one half of class I antigen-binding domain or one chain in class II. I use this numbering, but add 1000 for exon 3 in class I to distinguish it from exon 2. I also add 1000 to all numbers in chain B in class II."
   ]
  },
  {
   "cell_type": "code",
   "execution_count": 28,
   "id": "c6e85536",
   "metadata": {
    "hidden": true,
    "scrolled": true
   },
   "outputs": [
    {
     "name": "stdout",
     "output_type": "stream",
     "text": [
      "<class 'tfold.utils.seq_tools.NUMSEQ'>\n",
      "AQKITQTQPGMFVQEKEAVTLDCTYDTSDPSYGLFWYKQPSSGEMIFLIYQGSYDQQNATEGRYSLNFQKARKSANLVISASQLGDSAMYFCAMRE\n",
      "{'species': '9606', 'chain': 'A/D', 'reg': 'V', 'locus': 'TRAV14/DV4', 'allele': '01', 'gaps': array([],\n",
      "      dtype=[('seq', '<U3'), ('num', '<i2'), ('ins', '<U1'), ('pdbnum', '<U5'), ('ss', '<U15'), ('mutations', '<U3')])}\n",
      "secondary structure:\n",
      "['A' 'A' 'A' 'A' 'A' 'A' 'A' 'A' 'A' 'A' 'A' 'A' 'A' 'A' 'A' 'B' 'B' 'B'\n",
      " 'B' 'B' 'B' 'B' 'B' 'B' 'B' 'B' 'CDR1' 'CDR1' 'CDR1' 'CDR1' 'CDR1' 'CDR1'\n",
      " 'CDR1' 'C' 'C' 'C' 'C' 'C' 'C' 'C' 'C' 'C1' 'C1' 'C1' 'C1' 'C1' 'C1' 'C1'\n",
      " 'C1' 'C1' 'CDR2' 'CDR2' 'CDR2' 'CDR2' 'CDR2' 'CDR2' 'CDR2' 'CDR2' 'C2'\n",
      " 'C2' 'C2' 'C2' 'D' 'D' 'D' 'D' 'D' 'D' 'D' 'D' 'D' 'D' 'E' 'E' 'E' 'E'\n",
      " 'E' 'E' 'E' 'E' 'E' 'E' 'E' 'E' 'F' 'F' 'F' 'F' 'F' 'F' 'F' 'F' 'CDR3'\n",
      " 'CDR3' 'CDR3' 'CDR3']\n",
      "IMGT numbering:\n",
      "['   1 ' '   2 ' '   3 ' '   4 ' '   5 ' '   6 ' '   7 ' '   8 ' '   9 '\n",
      " '  10 ' '  11 ' '  12 ' '  13 ' '  14 ' '  15 ' '  16 ' '  17 ' '  18 '\n",
      " '  19 ' '  20 ' '  21 ' '  22 ' '  23 ' '  24 ' '  25 ' '  26 ' '  27 '\n",
      " '  28 ' '  29 ' '  30 ' '  36 ' '  37 ' '  38 ' '  39 ' '  40 ' '  41 '\n",
      " '  42 ' '  43 ' '  44 ' '  45 ' '  46 ' '  47 ' '  48 ' '  49 ' '  50 '\n",
      " '  51 ' '  52 ' '  53 ' '  54 ' '  55 ' '  56 ' '  57 ' '  58 ' '  59 '\n",
      " '  62 ' '  63 ' '  64 ' '  65 ' '  66 ' '  67 ' '  68 ' '  74 ' '  75 '\n",
      " '  76 ' '  77 ' '  78 ' '  79 ' '  80 ' '  81 ' '  82 ' '  83 ' '  84 '\n",
      " '  85 ' '  86 ' '  87 ' '  88 ' '  89 ' '  90 ' '  91 ' '  92 ' '  93 '\n",
      " '  94 ' '  95 ' '  96 ' '  97 ' '  98 ' '  99 ' ' 100 ' ' 101 ' ' 102 '\n",
      " ' 103 ' ' 104 ' ' 105 ' ' 106 ' ' 107 ' ' 108 ']\n"
     ]
    }
   ],
   "source": [
    "# TCRs\n",
    "tcr_TRAVDV=seq_tools.tcrs['9606','TRAV14/DV4','01']\n",
    "print(type(tcr_TRAVDV))\n",
    "print(tcr_TRAVDV.seq())\n",
    "print(tcr_TRAVDV.info)\n",
    "print('secondary structure:')\n",
    "print(tcr_TRAVDV.data['ss'])\n",
    "print('IMGT numbering:')\n",
    "print(tcr_TRAVDV.data['pdbnum'])"
   ]
  },
  {
   "cell_type": "markdown",
   "id": "d1ea4865",
   "metadata": {
    "hidden": true
   },
   "source": [
    "The toolsbox `seq_tools` also contains a wrapper for running BLASTP search against TCR, MHC and beta2-m databases, a tool for identifying V and J regions and corresponding alleles in a TCR, making a TCR NUMSEQ object from V, J and CDR3, etc"
   ]
  },
  {
   "cell_type": "markdown",
   "id": "001cf1d4",
   "metadata": {
    "hidden": true
   },
   "source": [
    "The MHC sequences are from https://www.ebi.ac.uk/ipd/imgt/hla/ for humans, https://www.ebi.ac.uk/ipd/mhc/ for species other than humans and mice, and manually curated from UNIPROT for mice. The TCR sequences are from https://www.imgt.org/download/V-QUEST/."
   ]
  },
  {
   "cell_type": "markdown",
   "id": "9bfaf984",
   "metadata": {
    "heading_collapsed": true,
    "hidden": true
   },
   "source": [
    "## `pdb_tools`"
   ]
  },
  {
   "cell_type": "markdown",
   "id": "76287402",
   "metadata": {
    "hidden": true
   },
   "source": [
    "A toolbox for dealing with protein structure files. Based on Bio.PDB"
   ]
  },
  {
   "cell_type": "code",
   "execution_count": 29,
   "id": "068ef79a",
   "metadata": {
    "hidden": true
   },
   "outputs": [],
   "source": [
    "from tfold.utils import pdb_tools"
   ]
  },
  {
   "cell_type": "markdown",
   "id": "b5187ce7",
   "metadata": {
    "hidden": true
   },
   "source": [
    "Read a structure from a pdb file"
   ]
  },
  {
   "cell_type": "code",
   "execution_count": 16,
   "id": "f6ac4662",
   "metadata": {
    "hidden": true
   },
   "outputs": [
    {
     "name": "stdout",
     "output_type": "stream",
     "text": [
      "<class 'Bio.PDB.Model.Model'>\n",
      "<class 'dict'> dict_keys(['name', 'head', 'idcode', 'deposition_date', 'release_date', 'structure_method', 'resolution', 'structure_reference', 'journal_reference', 'author', 'compound', 'source', 'has_missing_residues', 'missing_residues', 'keywords', 'journal'])\n",
      "[ 65.633 -14.979  43.508]\n"
     ]
    }
   ],
   "source": [
    "filename=#please download 1ao7 and set path to it   ###'./data/experimental_structures/pdb_source/1ao7.pdb' \n",
    "structure,header=pdb_tools.parse_pdb(filename)\n",
    "print(type(structure))\n",
    "print(type(header),header.keys())\n",
    "\n",
    "#turn the Bio.PDB model object into a dict, which is sometimes more convenient to use\n",
    "structure_dict=pdb_tools.get_structure_dict(structure,include_coords=True,keep_hetero=True)\n",
    "#structure_dict is three nested dicts: \n",
    "#chain: pdbnum: atom_name: atom_coordinates\n",
    "print(structure_dict['A'][' 273 ']['CA'])"
   ]
  },
  {
   "cell_type": "markdown",
   "id": "af2667d4",
   "metadata": {
    "hidden": true
   },
   "source": [
    "Superimpose two structures. There are two ways to define which residues should be superimposed to which:\n",
    "- by resmap. A residue map is a list of pairs of chain+pdbnums. E.g. resmap `[['P   1 ','P   5 '],['M    1 ','N 100A']]` means that in structures one and two, respectively, residues 1 and 5 in chain P as well as residues 1 in chain M and 100A in chain N should be superimposed.\n",
    "- by chainmap. A chain map is a list of pairs of chain letters. Residues with matching pdbnums in the two chains will be superimposed. E.g. chainmap `[['P','P'],['M','M'],['M','N']]` means that all residues with matching pbbnums in chain P will be aligned, as well as residues in chain M in the first structure with residues in chains M and N in the second structure. You would use this chainmap if structure 1 is MHC class I, structure 2 is MHC class II, and you want to superimpose on all peptide and MHC residues."
   ]
  },
  {
   "cell_type": "code",
   "execution_count": 30,
   "id": "136a0bc2",
   "metadata": {
    "hidden": true
   },
   "outputs": [
    {
     "name": "stdout",
     "output_type": "stream",
     "text": [
      "chains in structure 1: dict_keys(['M', 'P', 'A', 'B'])\n",
      "chains in structure 2: dict_keys(['M', 'P'])\n"
     ]
    },
    {
     "data": {
      "text/plain": [
       "0.6758569672360559"
      ]
     },
     "execution_count": 30,
     "metadata": {},
     "output_type": "execute_result"
    }
   ],
   "source": [
    "#load pdbs\n",
    "filename1='./data/experimental_structures/processed_updated/pdb_rotated/1ao7_0.pdb'\n",
    "filename2='./data/experimental_structures/processed_updated/pdb_rotated/3mre_0.pdb'\n",
    "structure1,_=pdb_tools.parse_pdb(filename1)\n",
    "structure2,_=pdb_tools.parse_pdb(filename2)\n",
    "\n",
    "#see what chains are present\n",
    "structure1_dict=pdb_tools.get_structure_dict(structure1,include_coords=False)\n",
    "structure2_dict=pdb_tools.get_structure_dict(structure2,include_coords=False)\n",
    "print('chains in structure 1:',structure1_dict.keys())\n",
    "print('chains in structure 2:',structure2_dict.keys())\n",
    "#M, P, A, B are MHC class I, peptide, TCR chain 1 and TCR chain 2, respectively\n",
    "\n",
    "#superimpose structure 1 onto structure 2 using chain map. Structure 1 is transformed in place.\n",
    "#(For superimposing by resmap, use pdb_tools.superimpose_by_resmap)\n",
    "chainmap=[['M','M']] #superimpose by MHC\n",
    "pdb_tools.superimpose_by_chainmap(structure1,structure2,chainmap,CA_only=True) #outputs rmsd over residues used"
   ]
  },
  {
   "cell_type": "markdown",
   "id": "c431bd6b",
   "metadata": {
    "hidden": true
   },
   "source": [
    "Compute RMSD of two structures. Do not forget to superimpose them first! Like superimposing, can be done using resmap or chainmap\n",
    "- when using chainmap, will compute RMSD only over residues with matching pdbnums! Unpaired residues will be ignored. In the output, gives alpha carbon ('CA') and all-atom ('all') RMSDs. In all-atom, matches atoms with identical names. Note that if the two residues are different amino acids, the all-atom RMSD is computed over a subset of atoms that is not very meaningful, even though no error will be produced."
   ]
  },
  {
   "cell_type": "code",
   "execution_count": 31,
   "id": "de3bfc1d",
   "metadata": {
    "hidden": true
   },
   "outputs": [
    {
     "name": "stdout",
     "output_type": "stream",
     "text": [
      "{'CA': 1.076512997489881, 'all': 1.6519973427841208}\n"
     ]
    }
   ],
   "source": [
    "chainmap=[['P','P']] #compute RMSD between peptides\n",
    "rmsd=pdb_tools.rmsd_by_chainmap(structure1,structure2,chainmap)\n",
    "print(rmsd) \n",
    "#all-atom RMSD is not very meaningful, because the peptides in these two structures have different sequence"
   ]
  },
  {
   "cell_type": "markdown",
   "id": "63cd5fb8",
   "metadata": {
    "hidden": true
   },
   "source": [
    "Make contact maps for a structure. Takes a path to a pdb file and a path to an output directory. Pretty slow. \n",
    "-  two atoms are considered in contact if the distance between their centers is smaller than a threshold. I set the threshold to be 1.1 times the sum of VdW radii. The chosen values of the radii can be found in `pdb_tools.py`"
   ]
  },
  {
   "cell_type": "code",
   "execution_count": 34,
   "id": "d4a4546b",
   "metadata": {
    "hidden": true
   },
   "outputs": [
    {
     "name": "stdout",
     "output_type": "stream",
     "text": [
      "processing 1ao7_0...\n",
      "dict_keys([('M', 'P'), ('M', 'A'), ('M', 'B'), ('P', 'A'), ('P', 'B'), ('A', 'B')])\n",
      "number of contacts between residues M1009 and P3: 4\n"
     ]
    }
   ],
   "source": [
    "#make contact maps\n",
    "filename='./data/experimental_structures/processed_updated/pdb_rotated/1ao7_0.pdb'\n",
    "output_dir='./tmp'\n",
    "pdb_tools.make_contact_maps(filename,output_dir)\n",
    "\n",
    "#read the result\n",
    "with open(output_dir+'/1ao7_0.pckl','rb') as f:\n",
    "    contact_maps=pickle.load(f)\n",
    "    \n",
    "#the output is a dict indexed by pairs of chain names\n",
    "print(contact_maps.keys())\n",
    "#each value is a dict indexed by pairs of chain+resnum\n",
    "contact_map_peptide_mhc=contact_maps['M','P']\n",
    "print('number of contacts between residues M1009 and P3:',contact_map_peptide_mhc['M1009 ', 'P   3 '])"
   ]
  },
  {
   "cell_type": "markdown",
   "id": "27bbb5bf",
   "metadata": {
    "heading_collapsed": true,
    "hidden": true
   },
   "source": [
    "## The Structure Database"
   ]
  },
  {
   "cell_type": "markdown",
   "id": "af25d36c",
   "metadata": {
    "heading_collapsed": true,
    "hidden": true
   },
   "source": [
    "### Description"
   ]
  },
  {
   "cell_type": "markdown",
   "id": "57a3bb6b",
   "metadata": {
    "hidden": true
   },
   "source": [
    "The database is stored in `./data/experimental_structures/processed_updated`. "
   ]
  },
  {
   "cell_type": "code",
   "execution_count": 2,
   "id": "5a0469bc",
   "metadata": {
    "hidden": true
   },
   "outputs": [],
   "source": [
    "database='./data/experimental_structures/processed_updated'"
   ]
  },
  {
   "cell_type": "markdown",
   "id": "a95b365f",
   "metadata": {
    "hidden": true
   },
   "source": [
    "- A structure is a single biological assembly from a source RCSB pdb file. It can be a pMHC, a single-chain or double-chain TCR, or a pMHC-TCR complex. (For complexes, the TCR always has two chains.) A single RCSB pdb file contains one asymmetric unit which often has more than one biological assembly, and thus is split into multiple structures in the database. A structure is named e.g. `1a9b_0`, `1a9b_1`, where `1a9b` is the PDB id and `_0`, `_1`, ... index biological assemblies that come from this pdb file.\n",
    "- For a structure, e.g. `1a9b_0`, there is a processed pdb file `$database/pdb/1a9b_0.pdb`, a summary of protein chains `$database/proteins/1a9b_0.pckl`, and a summary of info from the pdb source `$database/pdb_info/1a9b.pckl` (one per RCSB pdb file). \n",
    "- For structures that include pMHC, there is also a rotated pdb file in `$database/pdb_rotated`, which is obtained by superimposing the structure onto a reference structure by MHC residues. (The reference structures are stored in `./data/experimental_structures/ref_structures`, one per MHC class. The two reference structures were not superimposed.)\n",
    "- A processed pdb file has up to five chains: P, M, N, A, B. Chain P is the peptide, chain M is MHC alpha-chain, chain N is MHC beta-chain (for class II), chains A and B are the TCR. (For an alpha-beta TCR, A and B correspond to alpha and beta. For single-chain or G/D, there is no canonical correspondence.) The MHC and TCR chains are numbered in IMGT numbering, as defined in seq_tools. The peptide is numbered in a canonical way by superimposing onto the reference structures.  More details on peptide numbering can be found in the slides for my talk.\n",
    "- For each structure, there is also an mmcif file in `$database/mmcif`. In this mmcif file, all chains are joined in the order `PMNAB` into a single chain named `A`, so that it can be fed into the monomer AF pipeline.\n",
    "- For each structure, there is also a file with interchain residue-by-residue contact counts in `$database/contact_maps`. See `pdb_tools` above for more details"
   ]
  },
  {
   "cell_type": "code",
   "execution_count": 3,
   "id": "e62c9a83",
   "metadata": {
    "hidden": true
   },
   "outputs": [
    {
     "name": "stdout",
     "output_type": "stream",
     "text": [
      "AAAKKGYCL\n",
      "['   09' '   1 ' '   2 ' '   3 ' '   4 ' '   5 ' '   7 ' '   8 ' '   9 ']\n"
     ]
    }
   ],
   "source": [
    "##### a processed pdb file ##### \n",
    "\n",
    "#load a processed file\n",
    "import pdb_tools\n",
    "filename=database+'/pdb_rotated/6p2f_0.pdb'\n",
    "structure,_=pdb_tools.parse_pdb(filename)\n",
    "\n",
    "#parse the chain sequences\n",
    "sequences=pdb_tools.get_chain_sequences(structure)\n",
    "#get NUMSEQ object for the peptide sequence\n",
    "pepseq=sequences['canonical']['P']\n",
    "#look at sequence and numbering\n",
    "print(pepseq.seq())\n",
    "print(pepseq.data['pdbnum']) #the peptide in 6p2f has an 8-aa binding core, despite being 9-aa long"
   ]
  },
  {
   "cell_type": "code",
   "execution_count": 4,
   "id": "a4304777",
   "metadata": {
    "hidden": true
   },
   "outputs": [
    {
     "name": "stdout",
     "output_type": "stream",
     "text": [
      "dict_keys(['P', 'M'])\n",
      "dict_keys(['data', 'info'])\n",
      "rxrarAAAKKGYCL\n"
     ]
    }
   ],
   "source": [
    "##### a summary of protein chains ##### \n",
    "\n",
    "#load protein chain info for a structure\n",
    "with open(database+'/proteins/6p2f_0.pckl','rb') as f:\n",
    "    proteins=pickle.load(f)\n",
    "#it is a dict with chain letters as keys;\n",
    "#for each chain, the value is a dict with 'data' and 'info' values, \n",
    "#which we can use directly or turn into seq_tools.NUMSEQ\n",
    "print(proteins.keys()) \n",
    "print(proteins['P'].keys())\n",
    "import seq_tools\n",
    "pep_obj=seq_tools.load_NUMSEQ(proteins['P']) #turn into NUMSEQ\n",
    "\n",
    "#peptide sequence\n",
    "print(pep_obj.seq())"
   ]
  },
  {
   "cell_type": "markdown",
   "id": "ae677349",
   "metadata": {
    "hidden": true
   },
   "source": [
    "In a peptide sequence, small letters indicate gaps, i.e. residues that are present in SEQRES but not in ATOM/HETATM in the pdb file. 'X' or 'x' stand for a hetero residue, such as citrulline\n",
    "\n",
    "The .info dict for a peptide contains, besides the usual stuff:\n",
    "- a tuple 'linker' of booleans: whether the peptide was cut from a longer chain on the left or on the right;\n",
    "- 'hetero_res'    : a dict of 3-letter names of hetero-residues contained in the peptide. E.g. in 6p2f,                      there is an N-methyl-L-alanine in the peptide position 0.5. This information is taken from SEQRES records in pdb\n",
    "- 'hetero'        : whether the peptide contains hetero residues. Will be set to False if those residues                     are missing in the ATOM/HETATM records in the pdb file, even if present in SEQRES"
   ]
  },
  {
   "cell_type": "code",
   "execution_count": 5,
   "id": "9e898434",
   "metadata": {
    "hidden": true
   },
   "outputs": [
    {
     "name": "stdout",
     "output_type": "stream",
     "text": [
      "{'chain': 'P', 'gaps': array([],\n",
      "      dtype=[('seq', '<U3'), ('num', '<i2'), ('ins', '<U1'), ('pdbnum', '<U5'), ('ss', '<U15'), ('mutations', '<U3')]), 'linker': [False, False], 'hetero': False, 'hetero_res': {'   05': 'MAA'}}\n"
     ]
    }
   ],
   "source": [
    "#the .info attribute for a peptide\n",
    "print(pep_obj.info)"
   ]
  },
  {
   "cell_type": "markdown",
   "id": "b25a0bd1",
   "metadata": {
    "hidden": true
   },
   "source": [
    "For MHC, the info contains class, species, locus, allele information, as well as gaps and mutations relative \n",
    "to the parent allele. Unlike the peptide, here the gaps are not included as small letters in the sequence,\n",
    "but are kept in `.info['gaps']`. The first few residues of an MHC are missing very often.\n",
    "<br>Note: sometimes the MHC allele is missing in the sequence database, in which case the parent allele \n",
    "may be identified incorrectly. In such case, the number of mutations in `.info['mutations']` may be high."
   ]
  },
  {
   "cell_type": "code",
   "execution_count": 6,
   "id": "db49ec1e",
   "metadata": {
    "hidden": true
   },
   "outputs": [
    {
     "name": "stdout",
     "output_type": "stream",
     "text": [
      "--MHC--\n",
      "{'species': '9606', 'class': 'I', 'chain': 'A', 'locus': 'B', 'allele': '08:222', 'gaps': array([],\n",
      "      dtype=[('seq', '<U3'), ('num', '<i2'), ('ins', '<U1'), ('pdbnum', '<U5'), ('ss', '<U15'), ('mutations', '<U3')]), 'hetero_res': {}}\n"
     ]
    }
   ],
   "source": [
    "#MHC\n",
    "print('--MHC--')\n",
    "mhc_obj=seq_tools.load_NUMSEQ(proteins['M'])\n",
    "print(mhc_obj.info)"
   ]
  },
  {
   "cell_type": "markdown",
   "id": "3cb46fca",
   "metadata": {
    "hidden": true
   },
   "source": [
    "Note: since MHC alleles are assigned automatically, often instead of a familiar allele, e.g. `A*02:01` or `B*08:01`, something less familiar is assigned, e.g. `A*02:665` or `B*08:222`. This happens when the two alleles have the same sequence in the antigen-binding region. (Often they differ in the constant region, e.g. by a gap, so that a familiar allele sequence with some missing residues is closer to some more rare allele.) These are essentially the same alleles."
   ]
  },
  {
   "cell_type": "code",
   "execution_count": 87,
   "id": "161222dd",
   "metadata": {
    "hidden": true
   },
   "outputs": [
    {
     "name": "stdout",
     "output_type": "stream",
     "text": [
      "{'deposition_date': '2019-05-21', 'resolution': 1.48, 'includes_mhc': True, 'includes_tcr': False}\n"
     ]
    }
   ],
   "source": [
    "##### pdb info #####\n",
    "with open(database+'/pdb_info/6p2f.pckl','rb') as f:\n",
    "    pdb_info=pickle.load(f)\n",
    "print(pdb_info)"
   ]
  },
  {
   "cell_type": "markdown",
   "id": "bee578d2",
   "metadata": {
    "hidden": true
   },
   "source": [
    "`pdb_info` contains deposition date, resolution (which is missing in one or two structures), and flags for whether the structure contains an MHC or a TCR. Note: these flags are set to True if the BLAST search finds a sufficiently good hit for any chain in the source pdb w.r.t. the MHC or TCR database. The MHC or TCR may still not be included in the processed file if there were some errors. Most often, this happens with an MHC which is something like CD1 or MR1 presenting a non-peptidic antigen. Such MHC sequences are currently not included in my sequence database and therefore do not appear in processed pdb files, even though BLAST identifies them as MHC.\n",
    "\n",
    "The purpose of the flags 'includes_mhc' and 'includes_tcr' is to distinguish bound vs unbound TCRs/MHCs, respectively."
   ]
  },
  {
   "cell_type": "markdown",
   "id": "24d2c62f",
   "metadata": {
    "heading_collapsed": true,
    "hidden": true
   },
   "source": [
    "### Summaries and Clusters"
   ]
  },
  {
   "cell_type": "markdown",
   "id": "0017fb1a",
   "metadata": {
    "hidden": true
   },
   "source": [
    "A summary of information about structures can be found in `$database/summary.pckl`. It is a dict indexed by structure names. The entry for each structure contains information from `pdb_info`, as well as entries indexed by chain letters 'P','M''N','A','B' (whichever are present) with the same information as in `proteins`. For entries that contain pMHC, TCR and/or a pMHC-TCR complex, there are also entries `'pmhc_id', 'tcr_A_id', 'tcr_B_id', 'complex_id'` respectively, that provide ids for the corresponding sequences. See the next paragraph for the lists that these ids reference to."
   ]
  },
  {
   "cell_type": "code",
   "execution_count": 12,
   "id": "fd28fe82",
   "metadata": {
    "hidden": true
   },
   "outputs": [
    {
     "name": "stdout",
     "output_type": "stream",
     "text": [
      "2300\n",
      "dict_keys(['pdbid', 'P', 'M', 'A', 'B', 'pep_hetero', 'pep_gaps', 'includes_mhc', 'includes_tcr', 'date', 'resolution', 'pmhc_id', 'tcr_A_id', 'tcr_B_id', 'complex_id'])\n"
     ]
    }
   ],
   "source": [
    "with open(database+'/summary.pckl','rb') as f:\n",
    "    summary=pickle.load(f)\n",
    "print(len(summary))\n",
    "print(summary['1ao7_0'].keys())"
   ]
  },
  {
   "cell_type": "markdown",
   "id": "1a066e3e",
   "metadata": {
    "hidden": true
   },
   "source": [
    "Often there are multiple structures for the same sequence. (Mostly these are different biological assemblies from the same RCSB pdb file, but can also be from different pdb files.) We aggregate structures by sequence in `$database/pmhcs.pckl` for pMHCs, in `$database/tcrs.pckl` for TCR chains, and in `$database/complexes.pckl` for complexes. \n",
    "-  each of these files contains a python list, where each entry corresponds to a unique sequence and possibly multiple structures. Each entry is a dict\n",
    "-  a single structure will appear twice in `tcrs.pckl` if it contains both chains of a TCR\n",
    "-  a single structure will appear in all three lists if it contains a pMHC-TCR complex\n",
    "-  the structures for an entry `x` are collected in `x['pdbs']`; the value `x['pdbs']` is a list of tuples. Each tuple contains the pdbid and a dict of basic properties of the corresponding structure, including resolution. The structures in the list `x['pdbs']` were sorted by the number of missing residues and by resolution. Thus, you can assume that the first element in `x['pdbs']` is \"the best\" structure for a given sequence\n",
    "-  the sequences themselves are stored in the form of {'data':data,'info':info} dicts under the keys `'P','M','N'` for pMHCs, `'obj'` for TCR chains, and `'P','M','N','A','B'` for complexes\n",
    "-  Note! Missing residues in the sequences here have been restored using aligned reference alleles for MHCs and TCRs, or using SEQRES for the peptides. (This is unlike in `proteins` or `summary.pckl`.) In particular, two structures whose sequences  differ only in what residues are missing will be merged into the same entry in the list\n",
    "-  each entry `x` has a `x['date']` value. This is the earliest date over all pdb files in this entry\n",
    "-  each entry `x` has `x['id']` value. This is the id of the sequence, which is simply the index of this entry in the corresponding list\n",
    "-  for pMHCs and TCRs, `x['bound']` can take values `'b','u','bu'`, which means that the structures within this entry contain this entity only in bound, only in unbound, or both in bound and unbound form.\n",
    "-  for pMHCs and complexes, `x['class']` is the MHC class\n",
    "-  for pMHCs, `x['pep_pdbnum']` is a string with pdbnums for peptide numbering. pMHCs with the same sequence but different pep_pdbnum (and hence different geometry) are assigned to different entries!\n",
    "-  entries with `cluster_seq` in the key are ids of the cluster that the sequence belongs to. The clustering is described below\n",
    "-  for pMHCs, `x['cluster_CA']` is the id of the cluster in clustering by peptide alpha carbon positions, as described below"
   ]
  },
  {
   "cell_type": "code",
   "execution_count": 3,
   "id": "e4ecb95b",
   "metadata": {
    "hidden": true
   },
   "outputs": [
    {
     "name": "stdout",
     "output_type": "stream",
     "text": [
      "pMHCs:\n",
      "896\n",
      "dict_keys(['P', 'M', 'class', 'pdbs', 'date', 'pep_pdbnum', 'id', 'bound', 'cluster_seq', 'cluster_CA'])\n",
      "[('2hn7_0', {'pep_gaps': 0, 'linker': False, 'resolution': 1.6, 'includes_tcr': 0})]\n",
      "\n",
      "TCR chains:\n",
      "455\n",
      "dict_keys(['chain', 'obj', 'pdbs', 'date', 'id', 'bound', 'cluster_seq'])\n",
      "\n",
      "pMHC-TCR complexes:\n",
      "234\n",
      "dict_keys(['P', 'M', 'N', 'A', 'B', 'pmhc_id', 'tcr_A_id', 'tcr_B_id', 'pdbs', 'date', 'class', 'id', 'pmhc_cluster_seq', 'tcr_A_cluster_seq', 'tcr_B_cluster_seq', 'complex_cluster_seq'])\n",
      "\n"
     ]
    }
   ],
   "source": [
    "print('pMHCs:')\n",
    "with open(database+'/pmhcs.pckl','rb') as f:\n",
    "    pmhcs=pickle.load(f)\n",
    "print(len(pmhcs))\n",
    "print(pmhcs[0].keys())\n",
    "print(pmhcs[0]['pdbs'])\n",
    "print()\n",
    "\n",
    "print('TCR chains:')\n",
    "with open(database+'/tcrs.pckl','rb') as f:\n",
    "    tcrs=pickle.load(f)\n",
    "print(len(tcrs))\n",
    "print(tcrs[0].keys())\n",
    "print()\n",
    "\n",
    "print('pMHC-TCR complexes:')\n",
    "with open(database+'/complexes.pckl','rb') as f:\n",
    "    complexes=pickle.load(f)\n",
    "print(len(complexes))\n",
    "print(complexes[0].keys())\n",
    "print()"
   ]
  },
  {
   "cell_type": "markdown",
   "id": "9b51aec0",
   "metadata": {
    "hidden": true
   },
   "source": [
    "pMHCs and TCR chains were clustered by sequence similarity. (Hierarchical clustering by edit distance, cutoff 4, method `'single'`.) The lists of resulting clusters are stored in the lists `$database/pmhcs_seq_clusters.pckl` and `$database/tcrs_seq_clusters.pckl`. The clusters for pMHC-TCR complexes were formed by merging entities with the same clusters for pMHC and both TCR chains, with the results stored in the list `$database/complex_seq_clusters.pckl`\n",
    "-  note that there are many examples where two or more complexes have similar TCR but different pMHCs, or similar pMHCs but different TCRs. Those complexes were not merged in clustering.\n",
    "-  each entry in cluster lists has elements:\n",
    "    - `id`, which is simply the index in the list\n",
    "    - `{pmhc/tcr/complex}_id`, which is the list of ids of sequences forming the cluster (i.e. indices in the list `pmhcs.pckl/tcrs.pckl/complexes.pckl`.)\n",
    "    - `pdbs`, which is a list of all structures withing the cluster, sorted by the number of missing residues and resolution\n",
    "    - `date`, which is the deposition date of the oldest pdb within the cluster\n",
    "- for pMHCs, there is also a list `$database/pmhcs_CA_clusters.pckl`, which are clusters by peptide alpha-carbon positions. The clusters were formed by k-means, with each vector initialized at a representative from `pmhcs_seq_clusters`"
   ]
  },
  {
   "cell_type": "code",
   "execution_count": 8,
   "id": "4629b716",
   "metadata": {
    "hidden": true
   },
   "outputs": [
    {
     "name": "stdout",
     "output_type": "stream",
     "text": [
      "pMHC sequence clusters:\n",
      "453\n",
      "dict_keys(['id', 'pmhc_ids', 'pdbs', 'date'])\n",
      "\n",
      "pMHC CA clusters:\n",
      "453\n",
      "dict_keys(['id', 'pmhc_ids', 'pdbs', 'date'])\n",
      "\n",
      "TCR chain sequence clusters:\n",
      "375\n",
      "dict_keys(['id', 'tcr_ids', 'pdbs', 'date'])\n",
      "\n",
      "pMHC-TCR sequence clusters:\n",
      "159\n",
      "dict_keys(['id', 'complex_ids', 'pdbs', 'date'])\n"
     ]
    }
   ],
   "source": [
    "print('pMHC sequence clusters:')\n",
    "with open(database+'/pmhcs_seq_clusters.pckl','rb') as f:\n",
    "    pmhcs_seq_clusters=pickle.load(f)\n",
    "print(len(pmhcs_seq_clusters))\n",
    "print(pmhcs_seq_clusters[0].keys())\n",
    "print()\n",
    "\n",
    "print('pMHC CA clusters:')\n",
    "with open(database+'/pmhcs_CA_clusters.pckl','rb') as f:\n",
    "    pmhcs_CA_clusters=pickle.load(f)\n",
    "print(len(pmhcs_CA_clusters))\n",
    "print(pmhcs_CA_clusters[0].keys())\n",
    "print()\n",
    "\n",
    "print('TCR chain sequence clusters:')\n",
    "with open(database+'/tcrs_seq_clusters.pckl','rb') as f:\n",
    "    tcrs_seq_clusters=pickle.load(f)\n",
    "print(len(tcrs_seq_clusters))\n",
    "print(tcrs_seq_clusters[0].keys())\n",
    "print() \n",
    "\n",
    "print('pMHC-TCR sequence clusters:')\n",
    "with open(database+'/complex_seq_clusters.pckl','rb') as f:\n",
    "    complex_seq_clusters=pickle.load(f)\n",
    "print(len(complex_seq_clusters))\n",
    "print(complex_seq_clusters[0].keys())"
   ]
  },
  {
   "cell_type": "markdown",
   "id": "f1da225f",
   "metadata": {
    "hidden": true
   },
   "source": [
    "Database usage example: peptide-MHC pairs that can adopt multiple binding registers"
   ]
  },
  {
   "cell_type": "code",
   "execution_count": 18,
   "id": "431bef88",
   "metadata": {
    "hidden": true
   },
   "outputs": [
    {
     "name": "stdout",
     "output_type": "stream",
     "text": [
      "AAGIGILTV       A*02:665            \n",
      "2,3,4,5,51,6,7,8,9        ['6d78_0', '6eqb_0', '6eqa_0']\n",
      "1,2,3,4,5,6,7,8,9         ['3qfd_0', '3qfd_1', '2guo_0', '2guo_1', '3qdj_0', '3qeq_0']\n",
      "\n",
      "ELAXXLTV        A*02:665            \n",
      "1,2,3,4,5,7,8,9           ['3o3b_0', '3o3b_1']\n",
      "1,2,3,4,5,7,8,9           ['3o3d_0', '3o3d_1']\n",
      "\n",
      "LYLVCGERGF      K*d                 \n",
      "1,2,3,4,5,51,6,7,8,9      ['4z78_0']\n",
      "1,2,3,4,5,6,7,8,9,10      ['4z78_1']\n",
      "\n",
      "MMWDRGLGMM      A*02:665            \n",
      "1,2,3,4,5,51,6,7,8,9      ['6amt_0', '6amt_1']\n",
      "1,2,3,4,5,6,7,8,9,10      ['6amu_0']\n",
      "\n",
      "KAFSPEVIPMF     B*57:03             \n",
      "1,2,3,4,5,51,59,6,7,8,9   ['2bvo_0']\n",
      "1,2,3,4,5,7,8,9,10,11,12  ['2bvq_0']\n",
      "\n",
      "XLAXXLTV        A*02:665            \n",
      "1,2,3,4,5,7,8,9           ['3o3a_0', '3o3a_1']\n",
      "1,2,3,4,5,7,8,9           ['3o3e_0', '3o3e_1']\n",
      "\n",
      "LLFGXPVYV       A*02:665            \n",
      "1,2,3,4,5,6,7,8,9         ['3d3v_0']\n",
      "1,2,3,4,5,6,7,8,9         ['3d39_0']\n",
      "\n"
     ]
    }
   ],
   "source": [
    "#build pmhc sequence to id dict, to find sequences that appear in multiple entries\n",
    "seq_to_id={} #seq: [id,id..]\n",
    "for x in pmhcs:\n",
    "    seq=[''.join(x['P']['data']['seq'])]\n",
    "    seq+=''.join(x['M']['data']['seq'])\n",
    "    if 'N' in x:\n",
    "        seq+=''.join(x['N']['data']['seq'])\n",
    "    seq='|'.join(seq)\n",
    "    seq_to_id.setdefault(seq,[]).append(x['id'])\n",
    "#print pepseq, MHC allele, peptide numberings and pdb ids for pMHCs with multiple binding registers\n",
    "for v in seq_to_id.values():\n",
    "    if len(v)>1:\n",
    "        pmhc=pmhcs[v[0]]\n",
    "        pepseq=''.join(pmhc['P']['data']['seq'])\n",
    "        mhc_allele='*'.join([pmhc['M']['info']['locus'],pmhc['M']['info']['allele']])\n",
    "        if 'N' in pmhc:\n",
    "            mhc_allele+='/'+'*'.join([pmhc['N']['info']['locus'],pmhc['N']['info']['allele']])\n",
    "        print('{:15s} {:20s}'.format(pepseq,mhc_allele))\n",
    "        for u in v:\n",
    "            pdbnum=pmhcs[u]['pep_pdbnum']\n",
    "            pdb_ids=[a[0] for a in pmhcs[u]['pdbs']]\n",
    "            print('{:25s} {}'.format(pdbnum.replace(' ',''),pdb_ids))\n",
    "        print()"
   ]
  },
  {
   "cell_type": "markdown",
   "id": "7a22cf1a",
   "metadata": {
    "heading_collapsed": true,
    "hidden": true
   },
   "source": [
    "### How to Create/Update"
   ]
  },
  {
   "cell_type": "markdown",
   "id": "9ba9ae1c",
   "metadata": {
    "hidden": true
   },
   "source": [
    "To create the database, you need to use MHC and TCR MSAs from `./data/msas` to search the PDB database using `tfold_MSA_tools.py`. Then you need to run `process_pdb.py` on each pdb file, and afterwards aggregate and cluster the data. \n",
    "-  these operations are run from the notebook `create_structure_database.ipynb`. The code there is pretty straightforward, but currently is not well-annotated\n",
    "-  the main workhorse is the tool `process_pdbs.py` that parses a pdb file\n",
    "-  the process is rather slow. To process the thousands of pdb files found by RCSB searching, it is recommended to run processing on a cluster"
   ]
  },
  {
   "cell_type": "markdown",
   "id": "4adf389d",
   "metadata": {
    "hidden": true
   },
   "source": [
    "Here is an example of processing a pdb file. The output directory has the same structure and contains the same kind of data as `$database`."
   ]
  },
  {
   "cell_type": "code",
   "execution_count": 25,
   "id": "191beca4",
   "metadata": {
    "hidden": true
   },
   "outputs": [
    {
     "name": "stdout",
     "output_type": "stream",
     "text": [
      "processing structure 1ao7...\n",
      "completed in  10.4 s\n",
      "what is in the output dir:\n",
      "['pdb', 'proteins', 'pdb_info', 'debug']\n"
     ]
    }
   ],
   "source": [
    "pdb_id='1ao7'\n",
    "\n",
    "import process_pdbs\n",
    "import time\n",
    "pdb_source_dir='./data/experimental_structures/pdb_source'\n",
    "input_file=pdb_source_dir+f'/{pdb_id}.pdb'\n",
    "output_dir='./tmp/processed'\n",
    "\n",
    "t0=time.time()\n",
    "process_pdbs.process_structure(input_file,output_dir)\n",
    "print('completed in {:5.1f} s'.format(time.time()-t0))\n",
    "\n",
    "print('what is in the output dir:')\n",
    "print(os.listdir(output_dir))"
   ]
  },
  {
   "cell_type": "code",
   "execution_count": null,
   "id": "3a9e3843",
   "metadata": {
    "hidden": true
   },
   "outputs": [],
   "source": []
  }
 ],
 "metadata": {
  "kernelspec": {
   "display_name": "Python 3 (ipykernel)",
   "language": "python",
   "name": "python3"
  },
  "language_info": {
   "codemirror_mode": {
    "name": "ipython",
    "version": 3
   },
   "file_extension": ".py",
   "mimetype": "text/x-python",
   "name": "python",
   "nbconvert_exporter": "python",
   "pygments_lexer": "ipython3",
   "version": "3.8.13"
  }
 },
 "nbformat": 4,
 "nbformat_minor": 5
}
