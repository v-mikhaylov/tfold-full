{
 "cells": [
  {
   "cell_type": "code",
   "execution_count": 1,
   "id": "c345d365",
   "metadata": {},
   "outputs": [
    {
     "name": "stdout",
     "output_type": "stream",
     "text": [
      "MHC loading from MHC.pckl. To update the pickle file, set use_pickle to False\n",
      "loaded 26122 MHC sequences in  1.5 s\n",
      "MHC loading from MHC.pckl. To update the pickle file, set use_pickle to False\n",
      "loaded 26122 MHC sequences in  1.5 s\n",
      "['peptides_A2', 'iedb_ii_2009', 'iedb_i_2013', 'train_i.pckl', 'test_i.pckl', 'train_ii.pckl', 'netmhcpan_i41_ii40', 'iedb_pmhc_assays', 'test_ii.pckl', 'netmhc_predictions', 'train_clustered']\n"
     ]
    }
   ],
   "source": [
    "import os\n",
    "import stat\n",
    "import time\n",
    "import re\n",
    "import csv\n",
    "import itertools\n",
    "import pickle\n",
    "import numpy as np\n",
    "import pandas as pd\n",
    "import xml.etree.ElementTree as ET\n",
    "\n",
    "from scipy import cluster\n",
    "from scipy.spatial.distance import squareform #for distance matrix conversion\n",
    "\n",
    "from matplotlib import pyplot as plt\n",
    "\n",
    "import tfold.utils.utils as utils\n",
    "import tfold.utils.seq_tools as seq_tools\n",
    "seq_tools.load_mhcs()\n",
    "\n",
    "import tfold.utils.netmhc_tools as netmhc_tools\n",
    "#import importlib\n",
    "#importlib.reload(netmhc_tools)\n",
    "\n",
    "aa_array=np.array(list('ACDEFGHIKLMNPQRSTVWXY'))\n",
    "\n",
    "print(os.listdir('./data/pmhc_assays'))"
   ]
  },
  {
   "cell_type": "markdown",
   "id": "46800a1d",
   "metadata": {
    "heading_collapsed": true
   },
   "source": [
    "# IEDB pmhc assays"
   ]
  },
  {
   "cell_type": "markdown",
   "id": "ebd8dc7a",
   "metadata": {
    "hidden": true
   },
   "source": [
    "note: multi-file download from IEDB with aria2c, then unzip from the command line;\n",
    "previously: single file download, unzip from mc, gave defective csv file \n",
    "(not sure whether unzip or download was the problem)"
   ]
  },
  {
   "cell_type": "code",
   "execution_count": 18,
   "id": "044c4b83",
   "metadata": {
    "hidden": true
   },
   "outputs": [
    {
     "name": "stdout",
     "output_type": "stream",
     "text": [
      "completed in  91.09996056556702\n",
      "total lines: 3939820\n"
     ]
    }
   ],
   "source": [
    "#merge multifile into single csv\n",
    "mfdir='./data/pmhc_assays/iedb_pmhc_assays/multi_file'\n",
    "t0=time.time()\n",
    "lines=[]\n",
    "for x in os.listdir(mfdir):\n",
    "    with open(mfdir+'/'+x) as f:\n",
    "        s=f.read().split('\\n')\n",
    "    lines+=[x for x in s if len(x)>0]\n",
    "s='\\n'.join(lines)\n",
    "with open('./data/pmhc_assays/iedb_pmhc_assays/mhc_ligand_full_merged.csv','w') as f:\n",
    "    f.write(s)\n",
    "print('completed in ',time.time()-t0)\n",
    "print('total lines:',len(lines))"
   ]
  },
  {
   "cell_type": "code",
   "execution_count": 19,
   "id": "e61ea4f1",
   "metadata": {
    "hidden": true,
    "scrolled": true
   },
   "outputs": [
    {
     "name": "stdout",
     "output_type": "stream",
     "text": [
      " 0 Reference                 Assay IRI                 http://www.iedb.org/assay/26\n",
      " 1 Reference                 Reference IRI             http://www.iedb.org/reference/274\n",
      " 2 Reference                 Type                      Literature               \n",
      " 3 Reference                 PubMed ID                 15448372                 \n",
      " 4 Reference                 Authors                   Yi-Hsiang Huang; Mi-Hua Tao; Cheng-Po Hu; Wan-Jr Syu; Jaw-Ching Wu\n",
      " 5 Reference                 Journal                   J Gen Virol              \n",
      " 6 Reference                 Date                      2004                     \n",
      " 7 Reference                 Title                     Identification of novel HLA-A*0201-restricted CD8+ T-cell epitopes on hepatitis delta virus.\n",
      " 8 Reference                 Submission ID                                      \n",
      " 9 Epitope                   Epitope IRI               http://www.iedb.org/epitope/31803\n",
      "10 Epitope                   Object Type               Linear peptide           \n",
      "11 Epitope                   Description               KLEDLERDL                \n",
      "12 Epitope                   Starting Position         26                       \n",
      "13 Epitope                   Ending Position           34                       \n",
      "14 Epitope                   Non-peptidic epitope IRI                           \n",
      "15 Epitope                   Antigen Name              large delta antigen      \n",
      "16 Epitope                   Antigen IRI               http://www.ncbi.nlm.nih.gov/protein/AAG26087.1\n",
      "17 Epitope                   Parent Protein                                     \n",
      "18 Epitope                   Parent Protein IRI        http://www.uniprot.org/uniprot/P29996\n",
      "19 Epitope                   Organism Name             Hepatitis delta virus TW2667\n",
      "20 Epitope                   Organism IRI              https://ontology.iedb.org/ontology/ONTIE_0000432\n",
      "21 Epitope                   Parent Species            Hepatitis delta virus TW2667\n",
      "22 Epitope                   Parent Species IRI        https://ontology.iedb.org/taxon/10000523\n",
      "23 Epitope                   Epitope Comments                                   \n",
      "24 Related Object            Epitope Relationship                               \n",
      "25 Related Object            Object Type                                        \n",
      "26 Related Object            Description                                        \n",
      "27 Related Object            Starting Position                                  \n",
      "28 Related Object            Ending Position                                    \n",
      "29 Related Object            Non-peptidic object IRI                            \n",
      "30 Related Object            Synonyms                                           \n",
      "31 Related Object            Antigen Name                                       \n",
      "32 Related Object            Antigen IRI                                        \n",
      "33 Related Object            Parent Protein                                     \n",
      "34 Related Object            Parent Protein IRI        http://www.uniprot.org/uniprot/P29996\n",
      "35 Related Object            Organism Name                                      \n",
      "36 Related Object            Organism IRI                                       \n",
      "37 Related Object            Parent Organism                                    \n",
      "38 Related Object            Parent Organism IRI                                \n",
      "39 Host                      Name                      human (Homo sapiens)     \n",
      "40 Host                      Host IRI                  http://purl.obolibrary.org/obo/NCBITaxon_9606\n",
      "41 Host                      Geolocation                                        \n",
      "42 Host                      Geolocation IRI                                    \n",
      "43 Host                      MHC Types Present                                  \n",
      "44 In vivo Process           Process Type                                       \n",
      "45 In vivo Process           Disease State                                      \n",
      "46 In vivo Process           Disease IRI                                        \n",
      "47 In vivo Process           Disease Stage                                      \n",
      "48 In vivo Process           Processed Antigen Epitope Relation                          \n",
      "49 In vivo Process           Processed Antigen Object Type                          \n",
      "50 In vivo Process           Processed Antigen Description                          \n",
      "51 In vivo Process           Processed Antigen Starting Position                          \n",
      "52 In vivo Process           Processed Antigen Ending Position                          \n",
      "53 In vivo Process           Non-peptidic Processed Antigen IRI                          \n",
      "54 In vivo Process           Processed Antigen Source Molecule Name                          \n",
      "55 In vivo Process           Processed Antigen Source Molecule IRI                          \n",
      "56 In vivo Process           Processed Antigen protein parent Name                          \n",
      "57 In vivo Process           Processed Antigen protein parent IRI                          \n",
      "58 In vivo Process           Processed Antigen Organism Name                          \n",
      "59 In vivo Process           Processed Antigen Organism IRI                          \n",
      "60 In vivo Process           Processed Antigen Organism Species                          \n",
      "61 In vivo Process           Processed Antigen Organism Species IRI                          \n",
      "62 In vitro Process          In vitro administration type                          \n",
      "63 In vitro Process          Processed Antigen Epitope Relation                          \n",
      "64 In vitro Process          Processed Antigen Object Type                          \n",
      "65 In vitro Process          Processed Antigen Description                          \n",
      "66 In vitro Process          Processed Antigen Starting Position                          \n",
      "67 In vitro Process          Processed Antigen Ending Position                          \n",
      "68 In vitro Process          Non-peptidic Processed Antigen ChEBI ID                          \n",
      "69 In vitro Process          Processed Antigen Source Molecule Name                          \n",
      "70 In vitro Process          Processed Antigen Source Molecule IRI                          \n",
      "71 In vitro Process          Protein Parent Name                                \n",
      "72 In vitro Process          Protein Parent IRI                                 \n",
      "73 In vitro Process          Processed Antigen Organism Name                          \n",
      "74 In vitro Process          Processed Antigen Organism IRI                          \n",
      "75 In vitro Process          Immunogen Organism Species                          \n",
      "76 In vitro Process          Immunogen Organism Species IRI                          \n",
      "77 Processed Antigen Comments Processed Antigen Comments                          \n",
      "78 Assay                     Location of assay data in the manuscript Figure 1                 \n",
      "79 Assay                     Method/Technique          cellular MHC/direct/fluorescence\n",
      "80 Assay                     Assay Group               qualitative binding      \n",
      "81 Assay                     Units                                              \n",
      "82 Assay                     Assay Type IRI            http://purl.obolibrary.org/obo/OBI_0001606\n",
      "83 Assay                     Qualitative Measure       Positive-Low             \n",
      "84 Assay                     Measurement Inequality                             \n",
      "85 Assay                     Quantitative measurement                           \n",
      "86 Assay                     Number of Subjects Tested                          \n",
      "87 Assay                     Number of Subjects Responded                          \n",
      "88 Assay                     Response Frequency                                 \n",
      "89 Assay                     PDB ID                                             \n",
      "90 Antigen Processing Cells  Cell Tissue Type                                   \n",
      "91 Antigen Processing Cells  APC Cell Tissue Type IRI                           \n",
      "92 Antigen Processing Cells  Cell Type                                          \n",
      "93 Antigen Processing Cells  APC Cell Type IRI                                  \n",
      "94 Antigen Processing Cells  Cell Culture Conditions                            \n",
      "95 MHC                       Allele Name               HLA-A*02:01              \n",
      "96 MHC                       Allele IRI                http://purl.obolibrary.org/obo/MRO_0001007\n",
      "97 MHC                       Allele Evidence Code                               \n",
      "98 MHC                       MHC allele class          I                        \n",
      "99 Assay Comments            Assay Comments                                     \n"
     ]
    }
   ],
   "source": [
    "#print assays header\n",
    "with open('./data/pmhc_assays/iedb_pmhc_assays/mhc_ligand_full_merged.csv') as f:\n",
    "    f_csv=csv.reader(f)\n",
    "    x=next(f_csv)\n",
    "    y=next(f_csv)\n",
    "    z=next(f_csv)\n",
    "for i,a in enumerate(zip(x,y,z)):\n",
    "    print('{:2d} {:25s} {:25s} {:25s}'.format(i,*a))\n",
    "    \n",
    "def load_assay_column(c,unique=True):    \n",
    "    column=[]\n",
    "    with open('./data/pmhc_assays/iedb_pmhc_assays/mhc_ligand_full_merged.csv') as f:\n",
    "        f_csv=csv.reader(f)\n",
    "        next(f_csv)\n",
    "        next(f_csv)\n",
    "        for line in f_csv:\n",
    "            if len(line)>c:\n",
    "                column.append(line[c])    \n",
    "    if unique:\n",
    "        return np.unique(column)\n",
    "    else:\n",
    "        return np.array(column)"
   ]
  },
  {
   "cell_type": "markdown",
   "id": "aa0a22f7",
   "metadata": {
    "heading_collapsed": true,
    "hidden": true
   },
   "source": [
    "## prepare MHCs for IEDB"
   ]
  },
  {
   "cell_type": "code",
   "execution_count": 20,
   "id": "88286c41",
   "metadata": {
    "hidden": true
   },
   "outputs": [
    {
     "name": "stdout",
     "output_type": "stream",
     "text": [
      "total entries in mhc data: 22667\n",
      "completed in 67.51644206047058\n",
      "unique alleles in assays: 751\n",
      "unique alleles in mhc data, restricted: 751\n"
     ]
    }
   ],
   "source": [
    "#parse IEDB MHC notations\n",
    "tree=ET.parse('./data/pmhc_assays/iedb_pmhc_assays/MhcAlleleNameList.xml')\n",
    "root=tree.getroot()\n",
    "mhc_list=[] #[DisplayedRestriction, Organism, OrganismNcbiTaxId, Class, Locus, Molecule, Chain1Name, Chain2Name]\n",
    "for x in root:\n",
    "    d={}\n",
    "    for y in x:        \n",
    "        d[y.tag]=y.text\n",
    "    mhc_list.append([d['DisplayedRestriction'],d['Organism'],d['OrganismNcbiTaxId'],\n",
    "                     d['Class'], d.setdefault('Locus',''),d.setdefault('Molecule',''),\n",
    "                     d.setdefault('Chain1Name',''),d.setdefault('Chain2Name','')])    \n",
    "mhc_list_df=pd.DataFrame(mhc_list,columns=['name','organism','organism_id','class','locus','molecule','chain1','chain2'])\n",
    "print('total entries in mhc data:',len(mhc_list_df))\n",
    "\n",
    "#load mhcs from assays\n",
    "t0=time.time()    \n",
    "mhc_alleles_u=load_assay_column(95)\n",
    "print('completed in {}'.format(time.time()-t0))\n",
    "print('unique alleles in assays:',len(mhc_alleles_u))\n",
    "\n",
    "#restrict mhc data to mhcs used in assays\n",
    "mhc_list_df=mhc_list_df[mhc_list_df['name'].isin(mhc_alleles_u)]\n",
    "print('unique alleles in mhc data, restricted:',len(mhc_list_df))"
   ]
  },
  {
   "cell_type": "code",
   "execution_count": 21,
   "id": "ec9000ef",
   "metadata": {
    "hidden": true
   },
   "outputs": [],
   "source": [
    "#functions for parsing mhc data\n",
    "\n",
    "def parse_standard_chain(x):\n",
    "    if x.count('-')==1 and x.count('*')==1:\n",
    "        prefix,x=x.split('-')\n",
    "        locus,allele=x.split('*')\n",
    "        return prefix,locus,allele,''\n",
    "    else:\n",
    "        return None,None,None,'nonstandard chain'\n",
    "\n",
    "def parse_rodent_chain(x,locus,cl):\n",
    "    #x should start with 'H2-' or 'RT1-'\n",
    "    #locus should follow in x after prefix\n",
    "    #after locus and before chain assumed to be allele\n",
    "    chain_dict={'alpha':'A','beta':'B'}    \n",
    "    prefix,locus,allele=None,locus,None\n",
    "    if x.startswith('H2-'):\n",
    "        prefix='H2'\n",
    "        x=x[3:]\n",
    "    elif x.startswith('RT1-'):\n",
    "        prefix='RT1'\n",
    "        x=x[4:]\n",
    "    else:        \n",
    "        return prefix,locus,allele,'not rodent'\n",
    "    if cl=='II':\n",
    "        x,chain=x.split()\n",
    "        chain=chain_dict[chain]\n",
    "    elif cl=='I':\n",
    "        chain=''\n",
    "    else:\n",
    "        return prefix,locus,allele,'rodent mhc class not recognized'\n",
    "    if x.startswith(locus):\n",
    "        allele=x[len(locus):]\n",
    "        locus=locus+chain\n",
    "        return prefix,locus,allele,''\n",
    "    else:\n",
    "        return prefix,locus,allele,'rodent locus not recognized'          \n",
    "\n",
    "def process_mutants(x,cl):\n",
    "    mut=['','']    \n",
    "    if 'mutant' in x:\n",
    "        if x=='HLA-B*27:05 D74Y D77N mutant':  #fix a typo\n",
    "            x='HLA-B*27:05 D74Y, D77N mutant'\n",
    "        if cl=='II':\n",
    "            if '/' in x:\n",
    "                xa,xb=x.split('/')\n",
    "                if 'mutant' in xa:\n",
    "                    x=xa\n",
    "                    chain=0 #A\n",
    "                else:\n",
    "                    x=xb\n",
    "                    chain=1 #B\n",
    "            else:\n",
    "                if re.match('^HLA-D[P,Q,R]B',x):\n",
    "                    chain=1\n",
    "                else:\n",
    "                    return mut,'cl II mutant chain undefined'\n",
    "        else:\n",
    "            chain=0\n",
    "        x=re.sub(', ',',',x)\n",
    "        xx=x.split()\n",
    "        if xx[-1]!='mutant':\n",
    "            return mut,'mutant parsing error'\n",
    "        mut[chain]=xx[-2]\n",
    "    else:\n",
    "        pass    \n",
    "    return mut,''     \n",
    "\n",
    "def parse_mhc_record(y):\n",
    "    '''\n",
    "    returns [species, species_id, species_prefix, class, locus_A, allele_A, mut_A, locus_B, allele_B, mut_B], error    \n",
    "    '''            \n",
    "    x=y['name']\n",
    "    cl=y['class']\n",
    "    locus=y['locus']\n",
    "    species=y['organism']\n",
    "    species_id=y['organism_id']\n",
    "    ch1=y['chain1']\n",
    "    ch2=y['chain2']\n",
    "    error=''\n",
    "    species_prefix, locus_A, allele_A, locus_B, allele_B=None,locus,None,locus,None\n",
    "    \n",
    "    #set class to 'I' for non-classical HLA-E,F,G\n",
    "    if x.startswith(('HLA-E','HLA-F','HLA-G')):\n",
    "        cl='I'         \n",
    "    \n",
    "    #parse mutations, if any\n",
    "    mut,error_mut=process_mutants(x,cl)\n",
    "    error+=error_mut\n",
    "    \n",
    "    #parse when chain info present\n",
    "    if cl=='I':\n",
    "        if ch1:     \n",
    "            locus_B,allele_B='b2m',''\n",
    "            species_prefix,locus_A,allele_A,error_A=parse_standard_chain(ch1)\n",
    "            if error_A:\n",
    "                species_prefix,locus_A,allele_A,error_A=parse_rodent_chain(ch1,locus,cl)           \n",
    "            if error_A:\n",
    "                error='cannot parse chain A; '            \n",
    "        else:\n",
    "            error+='chain info missing; '\n",
    "    elif cl=='II':\n",
    "        if ch1 and ch2:\n",
    "            if ch1.endswith('DRA'): #impute DRA allele 01:01, assuming low variability, esp. in antigen-binding region\n",
    "                ch1+='*01:01'\n",
    "            species_prefix,locus_A,allele_A,error_A=parse_standard_chain(ch1)\n",
    "            if error_A:\n",
    "                species_prefix,locus_A,allele_A,error_A=parse_rodent_chain(ch1,locus,cl)             \n",
    "            if error_A:\n",
    "                error+='cannot parse chain A; '\n",
    "            species_prefix,locus_B,allele_B,error_B=parse_standard_chain(ch2)\n",
    "            if error_B:\n",
    "                species_prefix,locus_B,allele_B,error_B=parse_rodent_chain(ch2,locus,cl)               \n",
    "            if error_B:\n",
    "                error+='cannot parse chain B; '            \n",
    "        else:\n",
    "            error+='chain info missing; '\n",
    "    else:\n",
    "        error+='non-classical; '    \n",
    "    return [species, species_id, species_prefix, cl, locus_A, allele_A, mut[0], locus_B, allele_B, mut[1]], error"
   ]
  },
  {
   "cell_type": "code",
   "execution_count": 24,
   "id": "40ca6b1c",
   "metadata": {
    "hidden": true
   },
   "outputs": [],
   "source": [
    "# keep errors here\n",
    "bad_mhcs=[] #[key,error]"
   ]
  },
  {
   "cell_type": "code",
   "execution_count": 25,
   "id": "4aec1849",
   "metadata": {
    "hidden": true
   },
   "outputs": [
    {
     "name": "stdout",
     "output_type": "stream",
     "text": [
      "good 545, bad 206\n",
      "cannot parse chain A;  23\n",
      "cannot parse chain B;  4\n",
      "chain info missing;  151\n",
      "cl II mutant chain undefined 3\n",
      "non-classical;  25\n"
     ]
    }
   ],
   "source": [
    "#do parsing\n",
    "\n",
    "results=[]\n",
    "errors=[]\n",
    "bad_mhcs=[]\n",
    "n_good=0\n",
    "n_bad=0\n",
    "for x in mhc_list_df.iterrows():\n",
    "    x=x[1]\n",
    "    result,error=parse_mhc_record(x)\n",
    "    result=[x['name']]+result\n",
    "    if error:        \n",
    "        errors.append(error)\n",
    "        bad_mhcs.append([x['name'],error])\n",
    "        n_bad+=1\n",
    "    else:\n",
    "        results.append(result)\n",
    "        n_good+=1\n",
    "results_df=pd.DataFrame(np.array(results),columns=['name','species','species_id','species_prefix','class',\n",
    "                                                   'locus_A','allele_A','mut_A','locus_B','allele_B','mut_B'])\n",
    "errors=np.array(errors)\n",
    "print('good {}, bad {}'.format(n_good,n_bad))\n",
    "for x in np.unique(errors):    #errors summary\n",
    "    print(x,np.sum(errors==x))\n",
    "    \n",
    "#save results\n",
    "#results_df.to_pickle('./data/pmhc_assays/iedb_pmhc_assays/mhc_data_summary.pckl')   #no point in saving\n",
    "\n",
    "#before multi-file\n",
    "#464 196\n",
    "#23, 4, 142, 3, 24\n",
    "\n",
    "#after multi-file\n",
    "#545 206\n",
    "#23, 4, 151, 3, 25"
   ]
  },
  {
   "cell_type": "code",
   "execution_count": 26,
   "id": "1329d44d",
   "metadata": {
    "hidden": true
   },
   "outputs": [
    {
     "name": "stdout",
     "output_type": "stream",
     "text": [
      "mhcs identified: 490\n",
      "mhcs missing: 55\n",
      "species missing: 7\n",
      "{'9986', '9685', '9337', '9402', '8839'}\n"
     ]
    }
   ],
   "source": [
    "# find alleles, do mutations\n",
    "def transform_mutations(m):\n",
    "    return ['|'.join([x[0],x[1:-1],x[-1]]) for x in m.split(',')]\n",
    "\n",
    "errors_before=len(bad_mhcs)\n",
    "mhcs_dict={}\n",
    "species_missing=[]\n",
    "for x in results_df.iterrows():\n",
    "    x=x[1]\n",
    "    k=x['species_id'],x['locus_A'],x['allele_A']\n",
    "    if x['species_id'] not in seq_tools.mhcs_df['species_id'].values:\n",
    "        species_missing.append(x['species_id'])\n",
    "        bad_mhcs.append([x['name'],'species missing'])\n",
    "        continue\n",
    "    if k in seq_tools.mhcs:\n",
    "        mhc_A=seq_tools.mhcs[k]\n",
    "        if x['mut_A']:\n",
    "            if ':' in x['mut_A']: #'B:I66A' for B*08:01; is it mutation in B2M?\n",
    "                bad_mhcs.append([x['name'],'mut A error: unrecognized symbol'])\n",
    "                continue\n",
    "            m=transform_mutations(x['mut_A'])\n",
    "            mhc_A,mut_err=mhc_A.mutate(m,0)\n",
    "            if mut_err:\n",
    "                bad_mhcs.append([x['name'],'mut A error:'+mut_err])\n",
    "                continue\n",
    "        mhc_A=mhc_A.dump()\n",
    "    else:\n",
    "        bad_mhcs.append([x['name'],'chain A seq missing'])\n",
    "        continue\n",
    "    if x['class']=='II':\n",
    "        k=x['species_id'],x['locus_B'],x['allele_B']\n",
    "        if k in seq_tools.mhcs:\n",
    "            mhc_B=seq_tools.mhcs[k]\n",
    "            if x['mut_B']:\n",
    "                m=transform_mutations(x['mut_B'])\n",
    "                mhc_B,mut_err=mhc_B.mutate(m,0)\n",
    "                if mut_err:\n",
    "                    bad_mhcs.append([x['name'],'mut B error:'+mut_err])\n",
    "                    continue\n",
    "            mhc_B=mhc_B.dump()\n",
    "        else:\n",
    "            bad_mhcs.append([x['name'],'chain B seq missing'])\n",
    "            continue\n",
    "    else:\n",
    "        mhc_B=None\n",
    "    mhcs_dict[x['name']]=[mhc_A,mhc_B]\n",
    "errors_new=len(bad_mhcs)-errors_before\n",
    "print('mhcs identified:',len(mhcs_dict))\n",
    "print('mhcs missing:',errors_new)\n",
    "print('species missing:',len(species_missing))\n",
    "print(set(species_missing))\n",
    "\n",
    "#save dict {mhc_iedb_name: [{data_A,info_A}, None or {data_B,info_B}]}\n",
    "with open('./data/pmhc_assays/iedb_pmhc_assays/iedb_mhc_dict.pckl','wb') as f:\n",
    "    pickle.dump(mhcs_dict,f)\n",
    "    \n",
    "#before multi-file\n",
    "#412\n",
    "#52\n",
    "#5 {'8839', '9685', '9986', '9402'}\n",
    "\n",
    "#after multi-file\n",
    "#490\n",
    "#55\n",
    "#7 {'9986', '9685', '9337', '9402', '8839'}"
   ]
  },
  {
   "cell_type": "code",
   "execution_count": 27,
   "id": "d1500fdf",
   "metadata": {
    "hidden": true
   },
   "outputs": [
    {
     "name": "stdout",
     "output_type": "stream",
     "text": [
      "cannot parse chain A;             23\n",
      "cannot parse chain B;              4\n",
      "chain A seq missing               36\n",
      "chain B seq missing                2\n",
      "chain info missing;              151\n",
      "cl II mutant chain undefined       3\n",
      "mut A error: unrecognized symbol   1\n",
      "mut B error:C|30|S|0;              1\n",
      "mut B error:D|57|A|0;              1\n",
      "mut B error:D|57|A|0;Y|60|H|0;     1\n",
      "mut B error:D|57|V|0;              1\n",
      "mut B error:D|57|V|0;Y|60|S|0;     1\n",
      "mut B error:G|86|Y|0;              1\n",
      "mut B error:N|82|A|0;              1\n",
      "mut B error:Q|74|R|0;              2\n",
      "non-classical;                    25\n",
      "species missing                    7\n"
     ]
    }
   ],
   "source": [
    "#check errors\n",
    "bad_mhcs=np.array(bad_mhcs)\n",
    "utils.print_hist(bad_mhcs[:,1])"
   ]
  },
  {
   "cell_type": "code",
   "execution_count": 28,
   "id": "c8385129",
   "metadata": {
    "hidden": true
   },
   "outputs": [
    {
     "name": "stdout",
     "output_type": "stream",
     "text": [
      "total assays: 3939818\n",
      "assays with recognized mhc: 2269757\n",
      "unrecognized mhcs and numbers of dropped assays:\n",
      "chain info missing;       1648349\n",
      "non-classical;              1846\n",
      "chain A seq missing         5536\n",
      "cannot parse chain A;       7012\n",
      "cl II mutant chain undefined     60\n",
      "chain B seq missing           27\n",
      "mut B error:D|57|A|0;         21\n",
      "mut B error:D|57|A|0;Y|60|H|0;     21\n",
      "mut B error:D|57|V|0;         21\n",
      "mut B error:D|57|V|0;Y|60|S|0;     21\n",
      "mut B error:G|86|Y|0;          3\n",
      "mut A error: unrecognized symbol      2\n",
      "cannot parse chain B;        360\n",
      "mut B error:C|30|S|0;        888\n",
      "mut B error:Q|74|R|0;         52\n",
      "species missing             5839\n",
      "mut B error:N|82|A|0;          3\n"
     ]
    }
   ],
   "source": [
    "#count assays dropped due to missing mhc\n",
    "mhcs_in_assays=load_assay_column(95,unique=False)\n",
    "print('total assays:',len(mhcs_in_assays))\n",
    "n_good=0\n",
    "bad_dict={}\n",
    "for x in mhcs_in_assays:\n",
    "    if x in mhcs_dict:\n",
    "        n_good+=1\n",
    "    else:\n",
    "        k=bad_mhcs[bad_mhcs[:,0]==x][0,1]\n",
    "        bad_dict.setdefault(k,0)\n",
    "        bad_dict[k]+=1\n",
    "print('assays with recognized mhc:',n_good)\n",
    "print('unrecognized mhcs and numbers of dropped assays:')\n",
    "for k,v in bad_dict.items():\n",
    "    print('{:25s} {:6d}'.format(k,v))\n",
    "    \n",
    "#most likely dropped due to things like 'HLA class I' or 'HLA-A2', i.e. unresolved allele\n",
    "\n",
    "#before multi-file\n",
    "#1731608, 1109469 (chain info missing  608986)\n",
    "#after multi-file\n",
    "#3939818, 2269757 (chain info missing 1648349)"
   ]
  },
  {
   "cell_type": "markdown",
   "id": "b2cf9524",
   "metadata": {
    "heading_collapsed": true,
    "hidden": true
   },
   "source": [
    "## prepare IEDB assays"
   ]
  },
  {
   "cell_type": "code",
   "execution_count": 85,
   "id": "6501d610",
   "metadata": {
    "hidden": true
   },
   "outputs": [
    {
     "name": "stdout",
     "output_type": "stream",
     "text": [
      "490\n",
      "dict_keys(['data', 'info'])\n",
      "{'species': '9606', 'class': 'I', 'chain': 'A', 'locus': 'B', 'allele': '08:01', 'gaps': array([],\n",
      "      dtype=[('seq', '<U3'), ('num', '<i2'), ('ins', '<U1'), ('pdbnum', '<U5'), ('ss', '<U15'), ('mutations', '<U3')])}\n"
     ]
    }
   ],
   "source": [
    "#load processed mhcs\n",
    "with open('./data/pmhc_assays/iedb_pmhc_assays/iedb_mhc_dict.pckl','rb') as f:\n",
    "    mhcs_dict=pickle.load(f)\n",
    "print(len(mhcs_dict))\n",
    "x=mhcs_dict['HLA-B*08:01 N80I mutant']\n",
    "print(x[0].keys())\n",
    "#print(x[0]['data'])\n",
    "print(x[0]['info'])\n",
    "#412->490"
   ]
  },
  {
   "cell_type": "code",
   "execution_count": 86,
   "id": "d274acee",
   "metadata": {
    "hidden": true
   },
   "outputs": [
    {
     "name": "stdout",
     "output_type": "stream",
     "text": [
      "completed in  139.4083800315857\n",
      "total saved: 2179615 of 3939818\n"
     ]
    }
   ],
   "source": [
    "#read assays and reduce columns\n",
    "#keep only linear antigens, canonical aa, resolved mhc\n",
    "\n",
    "aa_set=set(list('ACDEFGHIKLMNPQRSTVWY'))\n",
    "assays=[]\n",
    "n=0\n",
    "t0=time.time()\n",
    "with open(f'./data/pmhc_assays/iedb_pmhc_assays/mhc_ligand_full_merged.csv') as f:\n",
    "    f_csv=csv.reader(f)\n",
    "    next(f_csv)\n",
    "    next(f_csv)\n",
    "    for line in f_csv:\n",
    "        if len(line)>=96:\n",
    "            n+=1\n",
    "            antigen_type=line[10]\n",
    "            pep=line[11]\n",
    "            mhc=line[95]\n",
    "            ref_date=line[6]\n",
    "            a_method=line[79]\n",
    "            a_group=line[80]        \n",
    "            a_qual=line[83]\n",
    "            a_units=line[81]\n",
    "            a_quant_ineq=line[84]\n",
    "            a_quant_value=line[85]\n",
    "            if (antigen_type=='Linear peptide') and not (set(list(pep))-aa_set) and (mhc in mhcs_dict):\n",
    "                mhc1=mhcs_dict[mhc]               \n",
    "                m=mhc1[0]['info']\n",
    "                cl,species,locus,allele=m['class'],m['species'],m['locus'],m['allele']\n",
    "                n_mut=np.sum(mhc1[0]['data']['mutations']!='')\n",
    "                if cl=='II':\n",
    "                    m=mhc1[1]['info']\n",
    "                    species_B,locus_B,allele_B=m['species'],m['locus'],m['allele']\n",
    "                    n_mut+=np.sum(mhc1[1]['data']['mutations']!='')\n",
    "                else:\n",
    "                    species_B,locus_B,allele_B=None,None,None                    \n",
    "                assays.append([pep,mhc,cl,(species,locus,allele),(species_B,locus_B,allele_B),n_mut,\n",
    "                               ref_date,a_method,a_group,a_qual,a_units,a_quant_ineq,a_quant_value])\n",
    "        else: #short lines means defective file. Fixed\n",
    "            print(n,fname,line)\n",
    "print('completed in ',time.time()-t0)\n",
    "print('total saved: {} of {}'.format(len(assays),n))\n",
    "assays=pd.DataFrame(assays,columns=['pep','mhc_iedb','class','mhc_a','mhc_b','n_mutations',\n",
    "                                    'date','method','group','qual','units','quant_ineq','quant_value'])\n",
    "assays['quant_value']=pd.to_numeric(assays['quant_value']) #str to float\n",
    "assays.to_pickle('./data/pmhc_assays/iedb_pmhc_assays/assays.pckl')\n",
    "\n",
    "#   2157321 of 3939806\n",
    "#-> 2179615 of 3939818 (multi-file, mhc properly restricted)"
   ]
  },
  {
   "cell_type": "code",
   "execution_count": 87,
   "id": "5f80731b",
   "metadata": {
    "hidden": true,
    "scrolled": true
   },
   "outputs": [
    {
     "name": "stdout",
     "output_type": "stream",
     "text": [
      "Index(['pep', 'mhc_iedb', 'class', 'mhc_a', 'mhc_b', 'n_mutations', 'date',\n",
      "       'method', 'group', 'qual', 'units', 'quant_ineq', 'quant_value'],\n",
      "      dtype='object')\n",
      "\n",
      "group:\n",
      "ligand presentation                             1468258\n",
      "qualitative binding                              468196\n",
      "dissociation constant KD (~IC50)                  86456\n",
      "half maximal inhibitory concentration (IC50)      66799\n",
      "dissociation constant KD (~EC50)                  56631\n",
      "dissociation constant KD                          18937\n",
      "half life                                         11009\n",
      "half maximal effective concentration (EC50)        1532\n",
      "3D structure                                       1015\n",
      "50% dissociation temperature                        685\n",
      "off rate                                             65\n",
      "on rate                                              32\n",
      "Name: group, dtype: int64\n",
      "\n",
      "method:\n",
      "cellular MHC/mass spectrometry            1193607\n",
      "purified MHC/direct/fluorescence           504579\n",
      "mass spectrometry                          231578\n",
      "purified MHC/competitive/radioactivity     135686\n",
      "secreted MHC/mass spectrometry              42139\n",
      "purified MHC/competitive/fluorescence       39522\n",
      "cellular MHC/direct/fluorescence            10412\n",
      "cellular MHC/competitive/fluorescence        8808\n",
      "purified MHC/direct/radioactivity            7017\n",
      "purified MHC                                 1942\n",
      "x-ray crystallography                        1015\n",
      "cellular MHC/T cell inhibition                881\n",
      "Edman degradation                             697\n",
      "binding assay                                 377\n",
      "cellular MHC/competitive/radioactivity        376\n",
      "purified MHC/direct/phage display             264\n",
      "lysate MHC/direct/radioactivity               211\n",
      "T cell recognition                            136\n",
      "lysate MHC/direct/fluorescence                107\n",
      "cellular MHC                                  102\n",
      "coelution                                     101\n",
      "cellular MHC/direct/radioactivity              48\n",
      "lysate MHC                                     10\n",
      "Name: method, dtype: int64\n",
      "\n",
      "qual:\n",
      "Positive                 1476489\n",
      "Negative                  558384\n",
      "Positive-High              50822\n",
      "Positive-Low               50421\n",
      "Positive-Intermediate      43499\n",
      "Name: qual, dtype: int64\n",
      "\n",
      "class:\n",
      "I     1316976\n",
      "II     862639\n",
      "Name: class, dtype: int64\n",
      "\n",
      "mutations: 14792\n"
     ]
    }
   ],
   "source": [
    "assays=pd.read_pickle('./data/pmhc_assays/iedb_pmhc_assays/assays.pckl')\n",
    "print(assays.columns)\n",
    "print()\n",
    "print('group:')\n",
    "print(assays['group'].value_counts())\n",
    "print()\n",
    "print('method:')\n",
    "print(assays['method'].value_counts())\n",
    "print()\n",
    "print('qual:')\n",
    "print(assays['qual'].value_counts())\n",
    "print()\n",
    "print('class:')\n",
    "print(assays['class'].value_counts())\n",
    "print()\n",
    "print('mutations:',np.sum(assays['n_mutations']>0))"
   ]
  },
  {
   "cell_type": "code",
   "execution_count": 88,
   "id": "1f8b055f",
   "metadata": {
    "hidden": true
   },
   "outputs": [
    {
     "data": {
      "image/png": "[encoded data removed]",
      "text/plain": [
       "<Figure size 504x504 with 1 Axes>"
      ]
     },
     "metadata": {
      "needs_background": "light"
     },
     "output_type": "display_data"
    }
   ],
   "source": [
    "#assay groups for Kd: check calibration\n",
    "assays_pos=assays[assays['qual'].isin(('Positive','Positive-High','Positive-Intermediate'))]\n",
    "#lim0,lim1=1,5e4\n",
    "lim0,lim1=1,1e4\n",
    "n=100\n",
    "colors=['black','red','green','blue','gray']\n",
    "delta=(lim1-lim0)/n\n",
    "bins=np.arange(lim0,lim1+delta,delta)\n",
    "plt.figure(figsize=(7,7))\n",
    "groups=['dissociation constant KD (~IC50)','dissociation constant KD (~EC50)','dissociation constant KD',\n",
    "        'half maximal inhibitory concentration (IC50)','half maximal effective concentration (EC50)']\n",
    "for i,g in enumerate(groups):\n",
    "    series=assays_pos[assays_pos['group']==g]['quant_value']    \n",
    "    plt.hist(series,bins=bins,histtype='step',cumulative=1,density=True,color=colors[i])    \n",
    "plt.legend(groups,loc='lower right')\n",
    "plt.grid()\n",
    "plt.show()\n",
    "#conclusion: things with 'KD' in the title are fine, the other two are not"
   ]
  },
  {
   "cell_type": "markdown",
   "id": "238d1fe4",
   "metadata": {
    "heading_collapsed": true,
    "hidden": true
   },
   "source": [
    "## Kd assays"
   ]
  },
  {
   "cell_type": "markdown",
   "id": "f6b94943",
   "metadata": {
    "hidden": true
   },
   "source": [
    "assays with Kd, merged by geometric mean, with minimal date assigned\n",
    "\n",
    "save as `assays_Kd.pckl`"
   ]
  },
  {
   "cell_type": "code",
   "execution_count": 93,
   "id": "f5582a86",
   "metadata": {
    "hidden": true
   },
   "outputs": [
    {
     "name": "stdout",
     "output_type": "stream",
     "text": [
      "units:\n",
      "nM    230355\n",
      "Name: units, dtype: int64\n",
      "\n",
      "ineq:\n",
      "      113627\n",
      ">      58242\n",
      "=      56676\n",
      "<       1510\n",
      ">=       257\n",
      "<=        43\n",
      "Name: quant_ineq, dtype: int64\n",
      "\n",
      "qual:\n",
      "Negative                 92971\n",
      "Positive-Low             46696\n",
      "Positive-High            44808\n",
      "Positive-Intermediate    40514\n",
      "Positive                  5366\n",
      "Name: qual, dtype: int64\n"
     ]
    }
   ],
   "source": [
    "assays=pd.read_pickle('./data/pmhc_assays/iedb_pmhc_assays/assays.pckl')\n",
    "#Kd assay groups\n",
    "\n",
    "#three groups (better choice)\n",
    "#groups=['dissociation constant KD (~IC50)','dissociation constant KD (~EC50)','dissociation constant KD']\n",
    "\n",
    "#five groups\n",
    "groups=['dissociation constant KD (~IC50)','dissociation constant KD (~EC50)','dissociation constant KD',\n",
    "        'half maximal inhibitory concentration (IC50)','half maximal effective concentration (EC50)']\n",
    "\n",
    "assays_kd=assays[assays['group'].isin(groups)]\n",
    "assays_kd=assays_kd.drop(['method','group'],axis=1)\n",
    "#check units, ineq, qual\n",
    "print('units:')\n",
    "print(assays_kd['units'].value_counts())\n",
    "print()\n",
    "print('ineq:')\n",
    "print(assays_kd['quant_ineq'].value_counts())\n",
    "print()\n",
    "print('qual:')\n",
    "print(assays_kd['qual'].value_counts())"
   ]
  },
  {
   "cell_type": "code",
   "execution_count": 94,
   "id": "0f7b501b",
   "metadata": {
    "hidden": true
   },
   "outputs": [
    {
     "name": "stdout",
     "output_type": "stream",
     "text": [
      "230355\n",
      "220404\n",
      "195053\n",
      "completed in 27.804668188095093\n",
      "with mutations: 9\n"
     ]
    }
   ],
   "source": [
    "t0=time.time()\n",
    "df=assays_kd.copy()\n",
    "print(len(df))\n",
    "#filter uninformative inequalities, drop quant_ineq\n",
    "df=df[(df['quant_ineq'].isin(['>','>='])&(df['quant_value']>=20000.))|\n",
    "      (df['quant_ineq'].isin(['<','<='])&(df['quant_value']<=100.))|\n",
    "      (df['quant_ineq'].isin(['','=']))]\n",
    "print(len(df))\n",
    "#set Kd to cutoff for Negative with Kd nan\n",
    "df.loc[df['quant_value'].isna()&(df['qual']=='Negative'),'quant_value']=50000.\n",
    "df['kd']=df['quant_value']\n",
    "df=df.drop(['quant_ineq','units','qual','quant_value'],axis=1)\n",
    "\n",
    "#take geometric mean on Kds\n",
    "df_kd=df.copy()\n",
    "df_kd['kd']=np.log(df_kd['kd'])\n",
    "df_kd=df_kd.groupby(['pep','mhc_iedb'])['kd'].mean().reset_index()\n",
    "df_kd['kd']=np.exp(df_kd['kd'])\n",
    "#take min dates\n",
    "df_date=df.copy()\n",
    "df_date=df.groupby(['pep','mhc_iedb'])['date'].min().reset_index()\n",
    "#merge\n",
    "df=df.drop(['date','kd'],axis=1).drop_duplicates()\n",
    "df=df.merge(df_date,on=['pep','mhc_iedb'])\n",
    "df=df.merge(df_kd,on=['pep','mhc_iedb'])\n",
    "\n",
    "print(len(df))\n",
    "print('completed in',time.time()-t0)\n",
    "\n",
    "print('with mutations:',np.sum(df['n_mutations']>0))\n",
    "#for three groups: only 7 pmhcs with mutations => drop for simplicity\n",
    "#for five groups: 9 with mutations (keep for completeness)\n",
    "if len(groups)==3: #use for three groups\n",
    "    df=df[df['n_mutations']==0]\n",
    "    df=df.drop('n_mutations',axis=1)\n",
    "    print('with mutations dropped:',len(df))\n",
    "    df.to_pickle('./data/pmhc_assays/iedb_pmhc_assays/assays_Kd.pckl') #only keep three BA groups with Kd\n",
    "elif len(groups)==5:\n",
    "    df.to_pickle('./data/pmhc_assays/iedb_pmhc_assays/assays_Kd5.pckl') #keep all five BA groups\n",
    "else:\n",
    "    print(groups)"
   ]
  },
  {
   "cell_type": "code",
   "execution_count": 92,
   "id": "3dfa3c46",
   "metadata": {
    "hidden": true
   },
   "outputs": [
    {
     "name": "stdout",
     "output_type": "stream",
     "text": [
      "cl I: 112766 cl II: 36001\n"
     ]
    }
   ],
   "source": [
    "df=pd.read_pickle('./data/pmhc_assays/iedb_pmhc_assays/assays_Kd.pckl')\n",
    "print('cl I:',np.sum(df['class']=='I'),'cl II:',np.sum(df['class']=='II'))"
   ]
  },
  {
   "cell_type": "code",
   "execution_count": 118,
   "id": "42de9967",
   "metadata": {
    "hidden": true
   },
   "outputs": [
    {
     "data": {
      "image/png": "[encoded data removed]",
      "text/plain": [
       "<Figure size 720x360 with 1 Axes>"
      ]
     },
     "metadata": {
      "needs_background": "light"
     },
     "output_type": "display_data"
    }
   ],
   "source": [
    "#histogram by date\n",
    "x=df['date'].value_counts()\n",
    "years=x.index.values\n",
    "numbers=x.values\n",
    "ind=np.argsort(years)\n",
    "years,numbers=years[ind],numbers[ind]\n",
    "xx=np.arange(len(years))\n",
    "plt.figure(figsize=(10,5))\n",
    "plt.bar(xx,numbers)\n",
    "plt.xticks(xx,years,rotation='vertical')\n",
    "plt.title('Kd assays by year')\n",
    "plt.show()"
   ]
  },
  {
   "cell_type": "code",
   "execution_count": 119,
   "id": "213f0996",
   "metadata": {
    "hidden": true
   },
   "outputs": [
    {
     "name": "stdout",
     "output_type": "stream",
     "text": [
      "   50 27076\n",
      "  100 34498\n",
      "  500 53290\n",
      " 1000 62204\n",
      " 5000 80657\n",
      "out of 148767\n"
     ]
    }
   ],
   "source": [
    "#histogram by Kd\n",
    "for limit in [50,100,500,1000,5000]:\n",
    "    print('{:5d}'.format(limit), len(df[df['kd']<limit]))\n",
    "print('out of',len(df))"
   ]
  },
  {
   "cell_type": "code",
   "execution_count": 120,
   "id": "2a39196d",
   "metadata": {
    "hidden": true,
    "scrolled": true
   },
   "outputs": [
    {
     "name": "stdout",
     "output_type": "stream",
     "text": [
      "HLA-A*02:01       8147\n",
      "HLA-DRB1*01:01    5940\n",
      "HLA-A*03:01       5381\n",
      "HLA-A*11:01       4606\n",
      "HLA-A*31:01       4464\n",
      "HLA-A*68:02       3895\n",
      "HLA-A*02:03       3764\n",
      "HLA-A*01:01       3253\n",
      "HLA-B*15:01       3198\n",
      "HLA-A*02:06       3195\n",
      "HLA-A*26:01       3140\n",
      "HLA-B*07:02       2817\n",
      "HLA-A*68:01       2757\n",
      "HLA-A*33:01       2739\n",
      "HLA-A*02:02       2555\n",
      "HLA-B*40:01       2343\n",
      "HLA-A*69:01       2301\n",
      "HLA-B*58:01       2273\n",
      "HLA-B*57:01       2161\n",
      "Mamu-A1*001:01    2142\n",
      "HLA-B*18:01       2084\n",
      "HLA-B*51:01       2076\n",
      "H2-Kb             1957\n",
      "HLA-B*08:01       1952\n",
      "HLA-A*29:02       1782\n",
      "HLA-B*27:05       1749\n",
      "H2-Db             1682\n",
      "HLA-A*23:01       1672\n",
      "HLA-B*46:01       1661\n",
      "HLA-B*44:02       1633\n",
      "HLA-A*24:02       1582\n",
      "HLA-B*15:17       1405\n",
      "HLA-B*35:01       1399\n",
      "HLA-B*39:01       1290\n",
      "HLA-DRB1*04:01    1279\n",
      "HLA-A*30:01       1274\n",
      "HLA-A*30:02       1176\n",
      "HLA-A*24:03       1132\n",
      "HLA-DRB1*07:01    1125\n",
      "HLA-DRB1*15:01    1111\n",
      "HLA-A*80:01       1105\n",
      "HLA-DRB1*11:01    1097\n",
      "HLA-DRB1*03:01    1093\n",
      "HLA-DRB1*13:02     997\n",
      "HLA-DRB5*01:01     974\n",
      "HLA-DRB1*08:02     959\n",
      "HLA-B*53:01        907\n",
      "Mamu-A1*011:01     904\n",
      "HLA-A*02:12        888\n",
      "HLA-A*25:01        881\n",
      "Name: mhc_iedb, dtype: int64\n"
     ]
    }
   ],
   "source": [
    "#by mhc\n",
    "print(df['mhc_iedb'].value_counts().head(50))"
   ]
  },
  {
   "cell_type": "markdown",
   "id": "6f28d2e0",
   "metadata": {
    "heading_collapsed": true,
    "hidden": true
   },
   "source": [
    "## assays merged by qual"
   ]
  },
  {
   "cell_type": "markdown",
   "id": "5cf11a1c",
   "metadata": {
    "hidden": true
   },
   "source": [
    "all assays merged by qual (according to some chosen numerical scores), with minimal dates assigned\n",
    "\n",
    "save as `assays_qual.pckl`"
   ]
  },
  {
   "cell_type": "code",
   "execution_count": 121,
   "id": "1e503397",
   "metadata": {
    "hidden": true
   },
   "outputs": [
    {
     "name": "stdout",
     "output_type": "stream",
     "text": [
      "total: 2179615\n",
      "qual:\n",
      "Positive                 1476489\n",
      "Negative                  558384\n",
      "Positive-High              50822\n",
      "Positive-Low               50421\n",
      "Positive-Intermediate      43499\n",
      "Name: qual, dtype: int64\n",
      "with mutations: 14792\n"
     ]
    }
   ],
   "source": [
    "assays=pd.read_pickle('./data/pmhc_assays/iedb_pmhc_assays/assays.pckl')\n",
    "print('total:',len(assays))\n",
    "print('qual:')\n",
    "print(assays['qual'].value_counts())\n",
    "print('with mutations:',np.sum(assays['n_mutations']>0))"
   ]
  },
  {
   "cell_type": "code",
   "execution_count": 122,
   "id": "38e3dee1",
   "metadata": {
    "hidden": true
   },
   "outputs": [
    {
     "name": "stdout",
     "output_type": "stream",
     "text": [
      "completed in 198.40239024162292\n",
      "total merged: 1473774\n"
     ]
    }
   ],
   "source": [
    "#merge qual scores\n",
    "\n",
    "qual_scores={'Negative':-1.,'Positive-Low':0.5,'Positive-Intermediate':1.,'Positive-High':2.,'Positive':1.}\n",
    "assays['qual_score']=assays['qual'].map(qual_scores)\n",
    "\n",
    "#assays=assays.sample(10000)\n",
    "\n",
    "t0=time.time()\n",
    "#take mean scores\n",
    "df_score=assays.groupby(['pep','mhc_iedb'])['qual_score'].mean().reset_index()\n",
    "#take min dates\n",
    "df_date=assays.groupby(['pep','mhc_iedb'])['date'].min().reset_index()\n",
    "#merge\n",
    "df=assays.drop(['date','method','group','qual','qual_score','units','quant_ineq','quant_value'],axis=1)\n",
    "df=df.drop_duplicates()\n",
    "df=df.merge(df_date,on=['pep','mhc_iedb'])\n",
    "df=df.merge(df_score,on=['pep','mhc_iedb'])\n",
    "print('completed in',time.time()-t0)\n",
    "print('total merged:',len(df))\n",
    "df.to_pickle('./data/pmhc_assays/iedb_pmhc_assays/assays_qual.pckl')"
   ]
  },
  {
   "cell_type": "code",
   "execution_count": 128,
   "id": "d70b6ea2",
   "metadata": {
    "hidden": true
   },
   "outputs": [
    {
     "data": {
      "image/png": "[encoded data removed]",
      "text/plain": [
       "<Figure size 432x288 with 1 Axes>"
      ]
     },
     "metadata": {
      "needs_background": "light"
     },
     "output_type": "display_data"
    }
   ],
   "source": [
    "#qual score distribution\n",
    "plt.figure()\n",
    "bins=-0.05+np.arange(-1,3,0.1)\n",
    "plt.hist(df['qual_score'],bins=bins)\n",
    "plt.show()"
   ]
  },
  {
   "cell_type": "markdown",
   "id": "a4bc9920",
   "metadata": {
    "hidden": true
   },
   "source": [
    "## time assays"
   ]
  },
  {
   "cell_type": "code",
   "execution_count": 143,
   "id": "44c79c54",
   "metadata": {
    "hidden": true
   },
   "outputs": [
    {
     "name": "stdout",
     "output_type": "stream",
     "text": [
      "units:\n",
      "min    11009\n",
      "Name: units, dtype: int64\n",
      "\n",
      "ineq:\n",
      "=     6982\n",
      "      3872\n",
      ">      102\n",
      "<       49\n",
      ">=       4\n",
      "Name: quant_ineq, dtype: int64\n",
      "\n",
      "qual:\n",
      "Positive                 3665\n",
      "Positive-High            2575\n",
      "Positive-Intermediate    1891\n",
      "Positive-Low             1741\n",
      "Negative                 1137\n",
      "Name: qual, dtype: int64\n",
      "mutations: 12\n",
      "10843\n",
      "final: 10695\n"
     ]
    }
   ],
   "source": [
    "assays=pd.read_pickle('./data/pmhc_assays/iedb_pmhc_assays/assays.pckl')\n",
    "assays_t=assays[assays['group'].isin(['half life'])]\n",
    "#check units, ineq, qual\n",
    "print('units:')\n",
    "print(assays_t['units'].value_counts())\n",
    "print()\n",
    "print('ineq:')\n",
    "print(assays_t['quant_ineq'].value_counts())\n",
    "print()\n",
    "print('qual:')\n",
    "print(assays_t['qual'].value_counts())\n",
    "\n",
    "print('mutations:',np.sum(assays_t['n_mutations']>0))\n",
    "#just 12 mutations => drop for simplicity\n",
    "assays_t=assays_t[assays_t['n_mutations']==0]\n",
    "assays_t=assays_t.drop('n_mutations',axis=1)\n",
    "\n",
    "#for simplicity, drop data with inequalities; they are only 1.4% of the total\n",
    "assays_t=assays_t[assays_t['quant_ineq'].isin(['=',''])]\n",
    "print(len(assays_t))\n",
    "\n",
    "#drop where time is nan\n",
    "assays_t=assays_t[~assays_t['quant_value'].isna()]\n",
    "print('final:',len(assays_t))"
   ]
  },
  {
   "cell_type": "code",
   "execution_count": 144,
   "id": "692b6b1c",
   "metadata": {
    "hidden": true
   },
   "outputs": [
    {
     "data": {
      "image/png": "[encoded data removed]",
      "text/plain": [
       "<Figure size 720x504 with 1 Axes>"
      ]
     },
     "metadata": {
      "needs_background": "light"
     },
     "output_type": "display_data"
    }
   ],
   "source": [
    "#get an idea of qual-quant correspondence\n",
    "quals=['Negative','Positive-Low','Positive-Intermediate','Positive','Positive-High']#assays_t['qual'].unique()\n",
    "colors=['blue','gray','green','yellow','black']\n",
    "plt.figure(figsize=(10,7))\n",
    "bins=np.arange(0,600,5)\n",
    "for i,q in enumerate(quals):\n",
    "    plt.hist(assays_t[assays_t['qual']==q]['quant_value'],bins=bins,histtype='step',color=colors[i],density=True,cumulative=1)\n",
    "plt.legend(quals,loc='lower right')\n",
    "plt.show()"
   ]
  },
  {
   "cell_type": "code",
   "execution_count": 145,
   "id": "eb9812fb",
   "metadata": {
    "hidden": true
   },
   "outputs": [
    {
     "name": "stdout",
     "output_type": "stream",
     "text": [
      "before merging: 10695\n",
      "completed in 1.3867995738983154\n",
      "total merged: 10404\n"
     ]
    }
   ],
   "source": [
    "t0=time.time()\n",
    "print('before merging:',len(assays_t))\n",
    "#take mean scores\n",
    "df_score=assays_t.groupby(['pep','mhc_iedb'])['quant_value'].mean().reset_index()\n",
    "#take min dates\n",
    "df_date=assays_t.groupby(['pep','mhc_iedb'])['date'].min().reset_index()\n",
    "#merge\n",
    "df=assays_t.drop(['quant_value','date','method','group','qual','units','quant_ineq'],axis=1)\n",
    "df=df.drop_duplicates()\n",
    "df=df.merge(df_date,on=['pep','mhc_iedb'])\n",
    "df=df.merge(df_score,on=['pep','mhc_iedb'])\n",
    "print('completed in',time.time()-t0)\n",
    "print('total merged:',len(df))\n",
    "df.to_pickle('./data/pmhc_assays/iedb_pmhc_assays/assays_time.pckl')"
   ]
  },
  {
   "cell_type": "code",
   "execution_count": 147,
   "id": "6a113957",
   "metadata": {
    "hidden": true
   },
   "outputs": [
    {
     "name": "stdout",
     "output_type": "stream",
     "text": [
      "I     10067\n",
      "II      337\n",
      "Name: class, dtype: int64\n"
     ]
    }
   ],
   "source": [
    "#by class\n",
    "print(df['class'].value_counts())"
   ]
  },
  {
   "cell_type": "code",
   "execution_count": 148,
   "id": "fc7eb6c6",
   "metadata": {
    "hidden": true
   },
   "outputs": [
    {
     "data": {
      "image/png": "[encoded data removed]",
      "text/plain": [
       "<Figure size 432x288 with 1 Axes>"
      ]
     },
     "metadata": {
      "needs_background": "light"
     },
     "output_type": "display_data"
    },
    {
     "name": "stdout",
     "output_type": "stream",
     "text": [
      "above upper limit: 411 (0.0395040369088812)\n"
     ]
    }
   ],
   "source": [
    "#time distribution in the output\n",
    "plt.figure()\n",
    "bins=np.arange(0,2000,50)\n",
    "plt.hist(df['quant_value'],bins=bins)\n",
    "plt.show()\n",
    "n_above=np.sum(df['quant_value']>bins[-1])\n",
    "n_total=len(df)\n",
    "print(f'above upper limit: {n_above} ({n_above/n_total})')"
   ]
  },
  {
   "cell_type": "markdown",
   "id": "c3ca8603",
   "metadata": {
    "hidden": true
   },
   "source": [
    "## length distribution"
   ]
  },
  {
   "cell_type": "code",
   "execution_count": 3,
   "id": "2e9944f4",
   "metadata": {
    "hidden": true
   },
   "outputs": [
    {
     "name": "stdout",
     "output_type": "stream",
     "text": [
      "2179615\n"
     ]
    }
   ],
   "source": [
    "with open('./data/pmhc_assays/iedb_pmhc_assays/assays.pckl','rb') as f:\n",
    "    assays=pickle.load(f)\n",
    "print(len(assays))"
   ]
  },
  {
   "cell_type": "code",
   "execution_count": 13,
   "id": "6114064b",
   "metadata": {
    "hidden": true
   },
   "outputs": [
    {
     "name": "stdout",
     "output_type": "stream",
     "text": [
      "1193607\n"
     ]
    }
   ],
   "source": [
    "df=assays[assays['method']=='cellular MHC/mass spectrometry']\n",
    "print(len(df))"
   ]
  },
  {
   "cell_type": "code",
   "execution_count": 37,
   "id": "f0bd3733",
   "metadata": {
    "hidden": true
   },
   "outputs": [
    {
     "name": "stdout",
     "output_type": "stream",
     "text": [
      "cl I 8 to 12: 0.938\n",
      "cl II 12 to 20: 0.932\n"
     ]
    },
    {
     "data": {
      "image/png": "[encoded data removed]",
      "text/plain": [
       "<Figure size 1080x720 with 4 Axes>"
      ]
     },
     "metadata": {
      "needs_background": "light"
     },
     "output_type": "display_data"
    }
   ],
   "source": [
    "lim1=[6,20]\n",
    "bins1=np.arange(xlim1[0],xlim1[1]+2)-0.5\n",
    "lim2=[6,30]\n",
    "bins2=np.arange(xlim2[0],xlim2[1]+2)-0.5\n",
    "plt.figure(figsize=(15,10))\n",
    "plt.subplot(221)\n",
    "x=df[df['class']=='I']['pep'].map(len)\n",
    "lmin,lmax=8,12\n",
    "print('cl I {:d} to {:d}: {:5.3f}'.format(lmin,lmax,np.sum((x>=lmin)&(x<=lmax))/len(x)))\n",
    "xu=np.sort(x.unique())\n",
    "plt.bar(xu,np.array([np.sum(x==a) for a in xu])/len(x))\n",
    "plt.xticks(xu)\n",
    "plt.xlim(*lim1)\n",
    "plt.subplot(222)\n",
    "plt.grid()\n",
    "plt.hist(x,histtype='step',cumulative=1,bins=bins1,density=True)\n",
    "plt.hist(x,histtype='step',cumulative=-1,bins=bins1,density=True)\n",
    "plt.axhline(0.9)\n",
    "plt.xlim(*lim1)\n",
    "plt.subplot(223)\n",
    "x=df[df['class']=='II']['pep'].map(len)\n",
    "lmin,lmax=12,20\n",
    "print('cl II {:d} to {:d}: {:5.3f}'.format(lmin,lmax,np.sum((x>=lmin)&(x<=lmax))/len(x)))\n",
    "xu=np.sort(x.unique())\n",
    "plt.bar(xu,np.array([np.sum(x==a) for a in xu])/len(x))\n",
    "plt.xticks(xu,rotation=90)\n",
    "plt.xlim(*lim2)\n",
    "plt.subplot(224)\n",
    "plt.grid()\n",
    "plt.hist(x,histtype='step',cumulative=1,bins=bins2,density=True)\n",
    "plt.hist(x,histtype='step',cumulative=-1,bins=bins2,density=True)\n",
    "plt.axhline(0.9)\n",
    "plt.xlim(*lim2)\n",
    "plt.tight_layout()\n",
    "plt.show()"
   ]
  },
  {
   "cell_type": "code",
   "execution_count": null,
   "id": "52c744e5",
   "metadata": {
    "hidden": true
   },
   "outputs": [],
   "source": []
  },
  {
   "cell_type": "markdown",
   "id": "6f0aa447",
   "metadata": {
    "heading_collapsed": true
   },
   "source": [
    "# IEDB 2013 cl I"
   ]
  },
  {
   "cell_type": "markdown",
   "id": "7cb71a72",
   "metadata": {
    "hidden": true
   },
   "source": [
    "`http://tools.iedb.org/main/datasets/`<br>\n",
    "`http://tools.iedb.org/mhci/download/`"
   ]
  },
  {
   "cell_type": "markdown",
   "id": "5b63e90e",
   "metadata": {
    "hidden": true
   },
   "source": [
    "\"Dataset used for retraining the IEDB class I binding prediction tools\" from `http://tools.iedb.org/mhci/download/`:   \"Description of the dataset: The dataset is largely identical to that of Kim et al (2014), described above, but includes additional data that was not publicly available at the time. Date of the dataset generation: 2013.\n",
    "Details on the dataset generation: The dataset was compiled from three sources: the IEDB, the Sette lab, and the Buus lab. If a peptide/allele combination had more than 1 measurement among the three sources, its geometric mean was taken."
   ]
  },
  {
   "cell_type": "code",
   "execution_count": 3,
   "id": "3c9d577e",
   "metadata": {
    "hidden": true,
    "scrolled": true
   },
   "outputs": [
    {
     "name": "stdout",
     "output_type": "stream",
     "text": [
      "total assays loaded: 170433\n",
      "dropped because of bad mhc: 16251\n",
      "BoLA-AW10    167\n",
      "BoLA-D18.4   259\n",
      "BoLA-HD6     268\n",
      "BoLA-JSP.1   160\n",
      "BoLA-T2C      90\n",
      "BoLA-T2a     167\n",
      "BoLA-T2b     157\n",
      "ELA-A1        14\n",
      "Gogo-B*0101   15\n",
      "H-2-Kbm8       2\n",
      "HLA-A1         1\n",
      "HLA-A11       74\n",
      "HLA-A2        63\n",
      "HLA-A24        2\n",
      "HLA-A26        4\n",
      "HLA-A3         6\n",
      "HLA-A3/11      2\n",
      "HLA-B27        2\n",
      "HLA-B44        5\n",
      "HLA-B51        3\n",
      "HLA-B60        5\n",
      "HLA-B7        67\n",
      "HLA-B8         1\n",
      "HLA-Cw1        4\n",
      "HLA-Cw4        2\n",
      "Mamu-A*01   2590\n",
      "Mamu-A*02   1358\n",
      "Mamu-A*07    681\n",
      "Mamu-A*11   1261\n",
      "Mamu-A*2201  689\n",
      "Mamu-A*2601  206\n",
      "Mamu-B*01    880\n",
      "Mamu-B*03   1136\n",
      "Mamu-B*04      2\n",
      "Mamu-B*08   1127\n",
      "Mamu-B*1001  159\n",
      "Mamu-B*17   1650\n",
      "Mamu-B*3901  459\n",
      "Mamu-B*52    894\n",
      "Mamu-B*6601  101\n",
      "Mamu-B*8301  432\n",
      "Mamu-B*8701  155\n",
      "Patr-B*0101  784\n",
      "Patr-B*0901    1\n",
      "RT1-Bl         7\n",
      "RT1A         139\n"
     ]
    }
   ],
   "source": [
    "with open('./data/pmhc_assays/iedb_pmhc_assays/iedb_mhc_dict.pckl','rb') as f:\n",
    "    mhcs_dict=pickle.load(f)\n",
    "sdict={'Mamu':'9544','SLA':'9823','Patr':'9598','Gogo':'9593','BoLA':'9913','RT1':'10116'}\n",
    "def convert_iedb_extra_mhc1(x):        \n",
    "    if x.startswith('H-2'):\n",
    "        species,locus,allele='10090',x[4],x[5:]\n",
    "    else:\n",
    "        try:\n",
    "            species,x=x.split('-')\n",
    "            species=sdict[species]\n",
    "            locus,allele=x.split('*')\n",
    "            if len(allele)>2:\n",
    "                allele=allele[:2]+':'+allele[2:]\n",
    "            else:\n",
    "                allele+=':01'\n",
    "        except Exception:\n",
    "            species,locus,allele=None,None,None\n",
    "    return species,locus,allele\n",
    "\n",
    "with open('./data/pmhc_assays/iedb_i_2013/bdata.20130222.mhci.txt') as f:\n",
    "    s=f.read().split('\\n')\n",
    "\n",
    "iedb_extra=[]\n",
    "bad_mhc=[]\n",
    "for line in s[1:]:\n",
    "    if len(line)>0:\n",
    "        line=line.split()\n",
    "        mhc=line[1]\n",
    "        if mhc in mhcs_dict:\n",
    "            x=mhcs_dict[mhc][0]['info']\n",
    "            line[1]=x['species'],x['locus'],x['allele']\n",
    "        else:\n",
    "            x=convert_iedb_extra_mhc1(mhc)\n",
    "            if x in seq_tools.mhcs:\n",
    "                line[1]=x\n",
    "            else:\n",
    "                bad_mhc.append(line)\n",
    "                continue        \n",
    "        iedb_extra.append(line)\n",
    "iedb_extra=pd.DataFrame(iedb_extra,columns=['species','mhc','len','pep','ineq','kd'])\n",
    "iedb_extra['kd']=pd.to_numeric(iedb_extra['kd'])\n",
    "iedb_extra=iedb_extra[['pep','mhc','ineq','kd']]\n",
    "bad_mhc=np.array(bad_mhc)\n",
    "print('total assays loaded:',len(iedb_extra))\n",
    "print('dropped because of bad mhc:',len(bad_mhc))\n",
    "utils.print_hist(bad_mhc[:,1])"
   ]
  },
  {
   "cell_type": "code",
   "execution_count": 4,
   "id": "d9c3ec3e",
   "metadata": {
    "hidden": true
   },
   "outputs": [
    {
     "name": "stdout",
     "output_type": "stream",
     "text": [
      "170433\n",
      "165196\n",
      "165196\n",
      "completed in 0.32720398902893066\n"
     ]
    }
   ],
   "source": [
    "t0=time.time()\n",
    "df=iedb_extra.copy()\n",
    "print(len(df))\n",
    "#filter uninformative inequalities\n",
    "df=df[(df['ineq'].isin(['>','>='])&(df['kd']>=20000.))|\n",
    "      (df['ineq'].isin(['<','<='])&(df['kd']<=100.))|\n",
    "      (df['ineq'].isin(['','=']))]\n",
    "print(len(df))\n",
    "df=df.drop(['ineq'],axis=1)\n",
    "\n",
    "#take geometric mean on Kds\n",
    "df_kd=df.copy()\n",
    "df_kd['kd']=np.log(df_kd['kd'])\n",
    "df_kd=df_kd.groupby(['pep','mhc'])['kd'].mean().reset_index()\n",
    "df_kd['kd']=np.exp(df_kd['kd'])\n",
    "#merge\n",
    "df=df.drop(['kd'],axis=1).drop_duplicates()\n",
    "df=df.merge(df_kd,on=['pep','mhc'])\n",
    "print(len(df))\n",
    "print('completed in',time.time()-t0)\n",
    "\n",
    "df.to_pickle('./data/pmhc_assays/iedb_i_2013/assays.pckl')"
   ]
  },
  {
   "cell_type": "markdown",
   "id": "c8fe4669",
   "metadata": {
    "heading_collapsed": true
   },
   "source": [
    "# IEDB 2009 cl II"
   ]
  },
  {
   "cell_type": "code",
   "execution_count": 37,
   "id": "84aa47c6",
   "metadata": {
    "hidden": true
   },
   "outputs": [],
   "source": [
    "def convert_netmhc_mhc2(x):\n",
    "    if x.startswith('HLA-DRB'):\n",
    "        locus_b,allele_b=x[4:].split('*')\n",
    "        allele_b=allele_b[:2]+':'+allele_b[2:]\n",
    "        return ('9606','DRA','01:01'),('9606',locus_b,allele_b)\n",
    "    elif x.startswith('HLA'):\n",
    "        xa,xb=x[4:].split('/')\n",
    "        if xa=='DPA1*01':  \n",
    "            xa+='03'      #this is not a great guess: there are many alleles differing in digits 3-4, with dif. seq\n",
    "        locus_a,allele_a=xa.split('*')        \n",
    "        locus_b,allele_b=xb.split('*')        \n",
    "        allele_a=allele_a[:2]+':'+allele_a[2:]\n",
    "        allele_b=allele_b[:2]+':'+allele_b[2:]\n",
    "        return ('9606',locus_a,allele_a),('9606',locus_b,allele_b)\n",
    "    elif x.startswith('H-2'):\n",
    "        locus=x[4:6]\n",
    "        allele=x[6:]\n",
    "        return ('10090',locus+'A',allele),('10090',locus+'B',allele)\n",
    "    else:\n",
    "        return None,None    "
   ]
  },
  {
   "cell_type": "code",
   "execution_count": 42,
   "id": "9bad17a6",
   "metadata": {
    "hidden": true
   },
   "outputs": [
    {
     "name": "stdout",
     "output_type": "stream",
     "text": [
      "229775\n",
      "45816\n",
      "bad mhcs 0\n"
     ]
    }
   ],
   "source": [
    "cdir='./data/pmhc_assays/iedb_ii_2009/class_II_all_split_5cv'\n",
    "assays=[]\n",
    "bad_mhcs=[]\n",
    "for x in os.listdir(cdir):\n",
    "    with open(cdir+'/'+x) as f:\n",
    "        lines=f.read().split('\\n')\n",
    "        for l in lines:\n",
    "            if len(l)>0:\n",
    "                _1,mhc,_2,_3,pep,ineq,kd=l.split('\\t')\n",
    "                mhc_a,mhc_b=convert_netmhc_mhc2(mhc)\n",
    "                if (mhc_a in seq_tools.mhcs) and (mhc_a in seq_tools.mhcs):\n",
    "                    assays.append([pep,mhc_a,mhc_b,ineq,kd])   \n",
    "                else:\n",
    "                    bad_mhcs.append(mhc)\n",
    "print(len(assays))\n",
    "iedb=pd.DataFrame(assays,columns=['pep','mhc_a','mhc_b','ineq','kd'])\n",
    "iedb=iedb.drop_duplicates()\n",
    "iedb['kd']=pd.to_numeric(iedb['kd'])\n",
    "print(len(iedb))\n",
    "print('bad mhcs',len(bad_mhcs))"
   ]
  },
  {
   "cell_type": "code",
   "execution_count": 51,
   "id": "17a06d46",
   "metadata": {
    "hidden": true
   },
   "outputs": [
    {
     "name": "stdout",
     "output_type": "stream",
     "text": [
      "45806\n"
     ]
    }
   ],
   "source": [
    "df=iedb.copy()\n",
    "\n",
    "#filter uninformative inequalities, drop quant_ineq\n",
    "df=df[(df['ineq'].isin(['>','>='])&(df['kd']>=20000.))|\n",
    "      (df['ineq'].isin(['<','<='])&(df['kd']<=100.))|\n",
    "      (df['ineq'].isin(['','=']))]\n",
    "df=df.drop(['ineq'],axis=1)\n",
    "print(len(df))\n",
    "#set Kd to cutoff for Negative with Kd nan\n",
    "#df.loc[df['quant_value'].isna()&(df['qual']=='Negative'),'quant_value']=50000.\n",
    "#df=df.drop(['quant_ineq','units','qual'],axis=1)\n",
    "#take geometric mean on Kds\n",
    "df_kd=df.copy()\n",
    "df_kd['kd']=np.log(df_kd['kd'])\n",
    "df_kd=df_kd.groupby(['pep','mhc_a','mhc_b'])['kd'].mean().reset_index()\n",
    "df_kd['kd']=np.exp(df_kd['kd'])\n",
    "#merge\n",
    "df=df.drop(['kd'],axis=1).drop_duplicates()\n",
    "df=df.merge(df_kd,on=['pep','mhc_a','mhc_b'])\n",
    "#save\n",
    "df.to_pickle('./data/pmhc_assays/iedb_ii_2009/assays.pckl')"
   ]
  },
  {
   "cell_type": "markdown",
   "id": "155f0b2d",
   "metadata": {
    "heading_collapsed": true
   },
   "source": [
    "# netMHCpan 4.1 training data"
   ]
  },
  {
   "cell_type": "markdown",
   "id": "30e8ca3e",
   "metadata": {
    "hidden": true
   },
   "source": [
    "source: `https://services.healthtech.dtu.dk/suppl/immunology/NAR_NetMHCpan_NetMHCIIpan/`\n",
    "        \n",
    "(see also `http://tools.iedb.org/main/datasets/`)        "
   ]
  },
  {
   "cell_type": "markdown",
   "id": "b650b120",
   "metadata": {
    "hidden": true
   },
   "source": [
    "According to the supplementary info, \"BA data was gathered from Alvarez. et al (2) and the IEDB (5)\". Alvarez reference is the NNAlign_MA paper which says \"HLA class I: SA data - both binding affinity (BA), and MS MHC\n",
    "eluted ligands (EL) - was extracted from Jurtz et al. (14).\" Jurtz is the netMHCpan 4.0 paper. There is no information about the source of BA data anywhere in that paper or in any suppl. materials. But IEDB (`http://tools.iedb.org/mhci/download/`) says for netMHCpan 4.0: \"BA data - binding affinity - are identical to the ones used for training of NetMHC-4.0 and NetMHCpan-3.0.\" (There is also a link to the actual data.) NetMHCpan 3.0 says \"The MHC class I binding dataset was downloaded from the IEDB (`http://tools.immuneepitope.org/main/data-sets`; dataset used for retraining the IEDB class I binding prediction tools). This dataset consists of 186,684 peptide-MHC binding affinity measurements covering 172 MHC molecules from human, mouse, primates, cattle, and swine.\" NetMHC 4.0 paper is \"Gapped sequence alignment...\" by Andreatta and Nielsen. It says \"The prediction method for MHC class I affinity prediction was trained on a large set of quantitative peptide-MHC class I affinity measurements from the IEDB\". Thus, no traces of data sources other than IEDB. <br>\n",
    "The IEDB 2013 \"Dataset used for retraining the IEDB class I binding prediction tools\" is IEDB plus Sette and Buus datasets. I suspect that these two extra datasets is all that there is for cl I BA apart from IEDB proper."
   ]
  },
  {
   "cell_type": "code",
   "execution_count": 53,
   "id": "a852b85b",
   "metadata": {
    "hidden": true
   },
   "outputs": [],
   "source": [
    "#tools for reading netmhc mhc notations\n",
    "def convert_netmhc_mhc1(x):    \n",
    "    if x.startswith('HLA'):        \n",
    "        return '9606',x[4],x[5:]\n",
    "    elif x.startswith('H-2'):\n",
    "        return '10090',x[4],x[5:]\n",
    "    elif x.startswith('Mamu'):\n",
    "        locus,allele=x[5:].split('*')\n",
    "        allele=allele[:3]+':'+allele[3:]\n",
    "        if allele[:3]=='001':\n",
    "            allele='01'+allele[3:]\n",
    "        return '9544',locus,allele\n",
    "    elif x.startswith('BoLA'):\n",
    "        if x=='BoLA-T2C':\n",
    "            return '9913',None,None\n",
    "        locus,allele=x[5:].split(':')\n",
    "        allele=allele[:3]+':'+allele[3:]\n",
    "        return '9913',locus,allele\n",
    "    elif x.startswith('SLA'):\n",
    "        return '9823',x[4],x[5:]\n",
    "    elif x.startswith('Patr'):\n",
    "        return '9598',x[5],x[6:]\n",
    "    elif x.startswith('Eqca'):\n",
    "        locus=x[5:-5]\n",
    "        allele=x[-5:]\n",
    "        allele=allele[:3]+':'+allele[3:]\n",
    "        return '9796',locus,allele\n",
    "    elif x.startswith('Gogo'):\n",
    "        locus=x[5]\n",
    "        allele=x[6:]\n",
    "        allele=allele[:2]+':'+allele[2:]\n",
    "        return '9593',locus,allele\n",
    "    else:\n",
    "        return None,None,None        "
   ]
  },
  {
   "cell_type": "code",
   "execution_count": 61,
   "id": "a43beaef",
   "metadata": {
    "hidden": true
   },
   "outputs": [
    {
     "name": "stdout",
     "output_type": "stream",
     "text": [
      "[]\n",
      "[]\n",
      "[]\n",
      "[]\n",
      "[]\n",
      "198001\n",
      "BoLA-T2C       190\n",
      "Gogo-B0101     114\n",
      "Mamu-A1*00101 2689\n",
      "Mamu-B*00101   980\n",
      "Mamu-B*01001   259\n",
      "Mamu-B*01701  1750\n",
      "Mamu-B*01704  1460\n",
      "Mamu-B*03901   556\n",
      "Mamu-B*05201   992\n",
      "Mamu-B*06502   117\n",
      "Patr-B01:01    884\n",
      "Patr-B09:01    101\n"
     ]
    }
   ],
   "source": [
    "#cl I BA training data\n",
    "\n",
    "#note: their log_kd is 1-log(Kd)/log(50000), clamped to [0,1]\n",
    "\n",
    "cl1_ba=[]\n",
    "bad_mhcs=[]\n",
    "for i in range(5):\n",
    "    with open(f'./data/pmhc_assays/netmhcpan_i41_ii40/NetMHCpan_train/c00{i}_ba') as f:\n",
    "        s=f.read()\n",
    "    for line in s.split('\\n'):\n",
    "        line=line.split()\n",
    "        if len(line)!=3:\n",
    "            print(line)\n",
    "        else:\n",
    "            pep,kd,mhc0=line\n",
    "            mhc=convert_netmhc_mhc1(mhc0)\n",
    "            if mhc in seq_tools.mhcs:\n",
    "                cl1_ba.append([pep,kd,mhc])\n",
    "            else:\n",
    "                bad_mhcs.append(mhc0)\n",
    "cl1_ba=pd.DataFrame(cl1_ba,columns=['pep','log_kd','mhc'])\n",
    "cl1_ba['log_kd']=pd.to_numeric(cl1_ba['log_kd'])\n",
    "cl1_ba['kd']=50000**(1-cl1_ba['log_kd'])\n",
    "cl1_ba=cl1_ba.drop(['log_kd'],axis=1)\n",
    "print(len(cl1_ba))\n",
    "#bad mhcs\n",
    "utils.print_hist(bad_mhcs)\n",
    "\n",
    "#save \n",
    "cl1_ba.to_pickle('./data/pmhc_assays/netmhcpan_i41_ii40/assays_i.pckl')"
   ]
  },
  {
   "cell_type": "code",
   "execution_count": 64,
   "id": "26bf6f34",
   "metadata": {
    "hidden": true
   },
   "outputs": [
    {
     "data": {
      "text/plain": [
       "1    198001\n",
       "dtype: int64"
      ]
     },
     "execution_count": 64,
     "metadata": {},
     "output_type": "execute_result"
    }
   ],
   "source": [
    "#check uniqueness\n",
    "cl1_ba.groupby(['pep','mhc']).apply(len).value_counts()"
   ]
  },
  {
   "cell_type": "code",
   "execution_count": 60,
   "id": "682f5415",
   "metadata": {
    "hidden": true
   },
   "outputs": [
    {
     "data": {
      "image/png": "[encoded data removed]",
      "text/plain": [
       "<Figure size 432x288 with 1 Axes>"
      ]
     },
     "metadata": {
      "needs_background": "light"
     },
     "output_type": "display_data"
    }
   ],
   "source": [
    "plt.figure()\n",
    "plt.hist(cl1_ba['kd'],bins=50)\n",
    "plt.show()"
   ]
  },
  {
   "cell_type": "markdown",
   "id": "25b88212",
   "metadata": {
    "heading_collapsed": true
   },
   "source": [
    "# netMHCIIpan 4.0 training data (cl II)"
   ]
  },
  {
   "cell_type": "markdown",
   "id": "6365b36f",
   "metadata": {
    "hidden": true
   },
   "source": [
    "source: `https://services.healthtech.dtu.dk/suppl/immunology/NAR_NetMHCpan_NetMHCIIpan/`\n",
    "        \n",
    "(see also `http://tools.iedb.org/main/datasets/`)        "
   ]
  },
  {
   "cell_type": "markdown",
   "id": "99d08755",
   "metadata": {
    "hidden": true
   },
   "source": [
    "According to the paper, BA data taken from (19), which is Jensen et al, \"Improved methods...\", J Immunol 2018, which is netMHCII-2.3 and netMHCIIpan-3.2. That paper in turn says their dataset \"contains peptide–MHC II\n",
    "binding affinities retrieved from the IEDB `(www.iedb.org)` in 2016.\" It cannot be just IEDB, so it must be some other training dataset from 2016. There are no netmhcii/netmhciipan versions from 2016. In netmhciipan version history, for 3.2 they say \"Method retrained on an extensive dataset of over 100,000 datapoints, covering 36 HLA-DR, 27 HLA-DQ, 9 HLA-DP, and 8 mouse MHC-II molecules\". So, apparently in v.3.2 they added a lot of data, but the source of it is unclear. In fact, v.3.2 claims 134281 datapts, while in 4.0 data I find only 108362 unique pmhcs."
   ]
  },
  {
   "cell_type": "code",
   "execution_count": 82,
   "id": "277f1703",
   "metadata": {
    "hidden": true
   },
   "outputs": [],
   "source": [
    "def convert_netmhc_mhc2(x):\n",
    "    if x.startswith('DRB'):\n",
    "        locus_b,allele_b=x.split('_')\n",
    "        allele_b=allele_b[:2]+':'+allele_b[2:]\n",
    "        return ('9606','DRA','01:01'),('9606',locus_b,allele_b)\n",
    "    elif x.startswith('HLA'):\n",
    "        _,xa,xb=x.split('-')\n",
    "        locus_a,allele_a=xa[:4],xa[4:]\n",
    "        locus_b,allele_b=xb[:4],xb[4:]\n",
    "        allele_a=allele_a[:2]+':'+allele_a[2:]\n",
    "        allele_b=allele_b[:2]+':'+allele_b[2:]\n",
    "        return ('9606',locus_a,allele_a),('9606',locus_b,allele_b)\n",
    "    elif x.startswith('H-2'):\n",
    "        locus=x[4:6]\n",
    "        allele=x[6:]\n",
    "        return ('10090',locus+'A',allele),('10090',locus+'B',allele)\n",
    "    else:\n",
    "        return None,None"
   ]
  },
  {
   "cell_type": "code",
   "execution_count": 83,
   "id": "4e2a393f",
   "metadata": {
    "hidden": true
   },
   "outputs": [
    {
     "name": "stdout",
     "output_type": "stream",
     "text": [
      "[]\n",
      "[]\n",
      "[]\n",
      "[]\n",
      "[]\n",
      "[]\n",
      "[]\n",
      "[]\n",
      "[]\n",
      "[]\n",
      "train:  435836 test:  108959\n",
      "saved:  544795\n",
      "bad_mhcs: 0\n",
      "5     107765\n",
      "10       597\n",
      "dtype: int64\n",
      "108362\n"
     ]
    }
   ],
   "source": [
    "#cl II BA training data\n",
    "cl2_ba=[]\n",
    "bad_mhcs=[]\n",
    "n_train=0\n",
    "n_test=0\n",
    "for a in ['train','test']:\n",
    "    for i in range(5):\n",
    "        with open(f'./data/pmhc_assays/netmhcpan_i41_ii40/NetMHCIIpan_train/{a}_BA{i+1}.txt') as f:\n",
    "            s=f.read()\n",
    "        for line in s.split('\\n'):\n",
    "            line=line.split()\n",
    "            if len(line)!=4:\n",
    "                print(line)\n",
    "            else:\n",
    "                if a=='train':\n",
    "                    n_train+=1\n",
    "                else:\n",
    "                    n_test+=1\n",
    "                pep,kd,mhc0,_=line  #drop 'context'\n",
    "                mhc=convert_netmhc_mhc2(mhc0)\n",
    "                if (mhc[0] in seq_tools.mhcs) and (mhc[1] in seq_tools.mhcs):\n",
    "                    cl2_ba.append([pep,kd,mhc[0],mhc[1]])\n",
    "                else:\n",
    "                    bad_mhcs.append('_'.join(mhc[0])+'/'+'_'.join(mhc[1]))\n",
    "cl2_ba=pd.DataFrame(cl2_ba,columns=['pep','log_kd','mhc_a','mhc_b'])\n",
    "cl2_ba['log_kd']=pd.to_numeric(cl2_ba['log_kd'])\n",
    "print('train: ',n_train,'test: ',n_test)\n",
    "print('saved: ',len(cl2_ba))\n",
    "print('bad_mhcs:',len(bad_mhcs))\n",
    "\n",
    "#count and remove repeats\n",
    "print(cl2_ba.groupby(['pep','mhc_a','mhc_b']).apply(len).value_counts())\n",
    "#every entry repeats 5 or 10 times; related to context?\n",
    "df=cl2_ba.copy()\n",
    "df_kd=df.groupby(['pep','mhc_a','mhc_b'])['log_kd'].mean()\n",
    "df=df.drop('log_kd',axis=1).drop_duplicates()\n",
    "cl2_ba=df.merge(df_kd,on=['pep','mhc_a','mhc_b'])\n",
    "cl2_ba['kd']=50000**(1-cl2_ba['log_kd'])  #restore Kd from netmhc score, which is 1-log(Kd)/log(50000)\n",
    "cl2_ba=cl2_ba.drop('log_kd',axis=1)\n",
    "print(len(cl2_ba))\n",
    "\n",
    "#save \n",
    "cl2_ba.to_pickle('./data/pmhc_assays/netmhcpan_i41_ii40/assays_ii.pckl')"
   ]
  },
  {
   "cell_type": "code",
   "execution_count": 74,
   "id": "cdabfb66",
   "metadata": {
    "hidden": true
   },
   "outputs": [
    {
     "data": {
      "image/png": "[encoded data removed]",
      "text/plain": [
       "<Figure size 432x288 with 1 Axes>"
      ]
     },
     "metadata": {
      "needs_background": "light"
     },
     "output_type": "display_data"
    }
   ],
   "source": [
    "plt.figure()\n",
    "plt.hist(cl2_ba['kd'],bins=50)\n",
    "plt.show()"
   ]
  },
  {
   "cell_type": "markdown",
   "id": "575d4803",
   "metadata": {
    "heading_collapsed": true
   },
   "source": [
    "# contact res and mhc pseudosequences"
   ]
  },
  {
   "cell_type": "markdown",
   "id": "d9185ec2",
   "metadata": {
    "heading_collapsed": true,
    "hidden": true
   },
   "source": [
    "## cl 1"
   ]
  },
  {
   "cell_type": "code",
   "execution_count": 205,
   "id": "29f5d921",
   "metadata": {
    "hidden": true
   },
   "outputs": [
    {
     "name": "stdout",
     "output_type": "stream",
     "text": [
      "loaded: 8903\n",
      "bad mhcs: 2470\n",
      "[[('9913', '1', '009:01'), 'YYSMYREISENVYGSNLYLLYRDYTWEYLNYRWY'], [('9913', '1', '009:02'), 'YYSEYREISENVYESNLYLLYRDYTWEYLNYRWY'], [('9913', '1', '019:01'), 'YHTKYREISENVYGSNLYYDYDYYTWAVFNYRGY'], [('9913', '1', '020:01'), 'YHTKYREISENVYGSNLYFLYMDYTWAVFNYRGY'], [('9913', '1', '021:01'), 'YYTKYREISENVYGSNLYFQFRYYTWADFNYEGY']]\n"
     ]
    }
   ],
   "source": [
    "with open('./data/pmhc_assays/netmhc_data/NetMHCpan_train/MHC_pseudo.dat') as f:\n",
    "    s=f.read().split('\\n')\n",
    "pairings=[]\n",
    "bad_mhcs=[]\n",
    "for line in s:\n",
    "    if len(line)>1:        \n",
    "        mhc0,pseq=line.split()\n",
    "        try:\n",
    "            mhc=convert_netmhc_mhc1(mhc0)\n",
    "            if mhc in seq_tools.mhcs:\n",
    "                pairings.append([mhc,pseq])\n",
    "            else:\n",
    "                bad_mhcs.append(mhc0)\n",
    "        except Exception as e:\n",
    "            bad_mhcs.append(mhc0+' '+str(e))\n",
    "print('loaded:',len(pairings))\n",
    "print('bad mhcs:',len(bad_mhcs))\n",
    "print(pairings[:5]) #pseq len 34"
   ]
  },
  {
   "cell_type": "code",
   "execution_count": 208,
   "id": "e397ac05",
   "metadata": {
    "hidden": true
   },
   "outputs": [
    {
     "name": "stdout",
     "output_type": "stream",
     "text": [
      "completed in  0.5212602615356445\n"
     ]
    }
   ],
   "source": [
    "N_iter=1\n",
    "N_pairings=1000\n",
    "\n",
    "t0=time.time()\n",
    "sets_iterations=[]\n",
    "for ii in range(N_iter):\n",
    "    set0=set(list(seq_tools.mhcs['9606','A','02:01'].data['pdbnum']))\n",
    "    sets=[set0.copy() for x in pairings[0][1]]\n",
    "    for x in np.random.permutation(pairings)[:N_pairings]:\n",
    "        y=seq_tools.mhcs[x[0]].data\n",
    "        sets1=[]\n",
    "        for i,s in enumerate(sets):\n",
    "            s1=set(list(y['pdbnum'][y['seq']==x[1][i]]))                   \n",
    "            sets1.append(s&s1)\n",
    "        sets=sets1\n",
    "    sets_iterations.append(sets)\n",
    "print('completed in ',time.time()-t0)"
   ]
  },
  {
   "cell_type": "code",
   "execution_count": 209,
   "id": "70cf22dd",
   "metadata": {
    "hidden": true
   },
   "outputs": [
    {
     "name": "stdout",
     "output_type": "stream",
     "text": [
      "['   7 ', '   9 ', '  24 ', '  45 ', '  59 ', '  62 ', '  63 ', '  66 ', '  67 ', '  69 ', '  70 ', '  73 ', '  74 ', '  76 ', '  77 ', '  80 ', '  81 ', '  84 ', '1005 ', '1007 ', '1009 ', '1024 ', '1026 ', '1028 ', '1055 ', '1059 ', '1061A', '1063 ', '1067 ', '1069 ', '1070 ', '1073 ', '1077 ', '1081 ']\n"
     ]
    }
   ],
   "source": [
    "def print_one(l):\n",
    "    if len(l)>0:\n",
    "        return np.random.permutation(l)[0]\n",
    "    else:\n",
    "        return '     '\n",
    "print([print_first(list(x[0])) for x in list(zip(*sets_iterations))])"
   ]
  },
  {
   "cell_type": "markdown",
   "id": "71a06a22",
   "metadata": {
    "heading_collapsed": true,
    "hidden": true
   },
   "source": [
    "## cl 2"
   ]
  },
  {
   "cell_type": "code",
   "execution_count": 210,
   "id": "23fd38d5",
   "metadata": {
    "hidden": true
   },
   "outputs": [
    {
     "name": "stdout",
     "output_type": "stream",
     "text": [
      "loaded: 4983\n",
      "bad mhcs: 657\n"
     ]
    }
   ],
   "source": [
    "with open('./data/pmhc_assays/netmhc_data/NetMHCIIpan_train/pseudosequence.2016.all.X.dat') as f:\n",
    "    s=f.read().split('\\n')\n",
    "pairings=[]\n",
    "bad_mhcs=[]\n",
    "for line in s:\n",
    "    if len(line)>1:        \n",
    "        mhc0,pseq=line.split()\n",
    "        try:\n",
    "            mhc=convert_netmhc_mhc2(mhc0)\n",
    "            if (mhc[0] in seq_tools.mhcs) and (mhc[1] in seq_tools.mhcs):\n",
    "                pairings.append([mhc[0],mhc[1],pseq])\n",
    "            else:\n",
    "                bad_mhcs.append(mhc0)\n",
    "        except Exception as e:\n",
    "            bad_mhcs.append(mhc0+' '+str(e))\n",
    "print('loaded:',len(pairings))\n",
    "print('bad mhcs:',len(bad_mhcs))"
   ]
  },
  {
   "cell_type": "code",
   "execution_count": 228,
   "id": "89d230fb",
   "metadata": {
    "hidden": true
   },
   "outputs": [
    {
     "name": "stdout",
     "output_type": "stream",
     "text": [
      "completed in  0.15828299522399902\n"
     ]
    }
   ],
   "source": [
    "N_iter=10\n",
    "N_pairings=5\n",
    "\n",
    "data0=np.concatenate([seq_tools.mhcs['9606','DRA','01:01'].data,seq_tools.mhcs['9606','DRB1','01:01'].data])\n",
    "set0=set(list(data0['pdbnum']))\n",
    "t0=time.time()\n",
    "sets_iterations=[]\n",
    "for ii in range(N_iter):        \n",
    "    sets=[set0.copy() for x in pairings[0][2]]\n",
    "    for x in np.random.permutation(pairings)[:N_pairings]:\n",
    "        y=np.concatenate([seq_tools.mhcs[x[0]].data,seq_tools.mhcs[x[1]].data])\n",
    "        sets1=[]\n",
    "        for i,s in enumerate(sets):\n",
    "            s1=set(list(y['pdbnum'][y['seq']==x[2][i]]))                   \n",
    "            sets1.append(s&s1)\n",
    "        sets=sets1\n",
    "    sets_iterations.append(sets)\n",
    "print('completed in ',time.time()-t0)"
   ]
  },
  {
   "cell_type": "code",
   "execution_count": 226,
   "id": "404f6b19",
   "metadata": {
    "hidden": true
   },
   "outputs": [
    {
     "name": "stdout",
     "output_type": "stream",
     "text": [
      "['   7 ', '   9 ', '  24 ', '  26 ', '  33 ', '  60 ', '     ', '  66 ', '  67 ', '  69 ', '  73 ', '  74 ', '  76 ', '  80 ', '  81 ', '     ', '1007 ', '1009 ', '1022 ', '1024 ', '1026 ', '1045 ', '1055 ', '1063 ', '1066 ', '1067 ', '1070 ', '1072A', '1073 ', '1076 ', '1080 ', '1081 ', '1084 ', '1085 ']\n"
     ]
    }
   ],
   "source": [
    "def print_one(l):\n",
    "    if len(l)>0:\n",
    "        return np.random.permutation(l)[0]\n",
    "    else:\n",
    "        return '     '\n",
    "print([print_first(list(x[0])) for x in list(zip(*sets_iterations))])"
   ]
  },
  {
   "cell_type": "code",
   "execution_count": 229,
   "id": "bc8ddca5",
   "metadata": {
    "hidden": true
   },
   "outputs": [
    {
     "name": "stdout",
     "output_type": "stream",
     "text": [
      "({'   7 '}, {'   7 '}, {'   7 '}, {'   7 '}, {'   7 '}, {'   7 '}, {'   7 '}, {'1026 ', '1078 ', '   7 ', '  35 ', '1028 ', '1058 ', '1012 '}, {'   7 '}, {'1078 ', '   7 ', '  35 ', '1028 ', '1058 ', '1012 '})\n",
      "({'   1 ', '   9 '}, {'   9 '}, {'   9 '}, {'   9 '}, {'   9 ', '  79 '}, {'   9 '}, {'   9 '}, {'   9 '}, {'   9 ', '  79 '}, {'   9 '})\n",
      "({'  10 ', '  52 ', '  28 ', '  34 ', '1036 ', '  24 ', '1014 ', '  62 ', '  26 '}, {'  24 '}, {'  24 '}, {'  24 '}, {'  24 '}, {'  24 '}, {'  24 '}, {'  24 ', '1045 '}, {'  24 '}, {'  24 '})\n",
      "({'  10 ', '  52 ', '  28 ', '  34 ', '1036 ', '  24 ', '1014 ', '  62 ', '  26 '}, {'  26 '}, {'  26 '}, {'  26 '}, {'  26 '}, {'  26 '}, {'  26 '}, {'  26 '}, {'  26 '}, {'  26 '})\n",
      "({'  33 '}, {'  33 '}, {'  33 '}, {'  33 '}, {'  33 '}, {'  33 '}, {'  33 '}, {'  33 '}, {'  33 '}, {'  33 '})\n",
      "({'  60 '}, {'  60 '}, {'  60 '}, {'  60 '}, {'  60 '}, {'  60 '}, {'  60 '}, {'  60 '}, {'  60 '}, {'  60 '})\n",
      "({'1061 ', '  61 ', '  85 ', '1038 '}, set(), {'  61 '}, set(), set(), set(), set(), set(), set(), set())\n",
      "({'  66 ', '  53 ', '1016 ', '1052 ', '1043 ', '  22 '}, {'  66 '}, {'  66 ', '1016 ', '1052 ', '1043 ', '  22 '}, {'  66 '}, {'  66 '}, {'  66 '}, {'  66 '}, {'  66 '}, {'  66 '}, {'  66 '})\n",
      "({'  67 '}, {'  67 '}, {'  67 '}, {'  67 '}, {'1047 ', '  72 ', '  67 ', '1069 '}, {'  67 '}, {'  67 '}, {'  67 '}, {'1047 ', '  72 ', '  67 ', '1069 '}, {'  67 '})\n",
      "({'   8 ', '1047 ', '1069 ', '  69 ', '  72 ', '  64 '}, {'  69 '}, {'  69 '}, {'  69 '}, {'  69 '}, {'  69 '}, {'  69 '}, {'  69 '}, {'  69 '}, {'  69 '})\n",
      "({'  73 '}, {'  73 '}, {'  73 '}, {'  73 '}, {'  36 ', '   4 ', '1042 ', '1048 ', '1020 ', '  73 '}, {'  73 '}, {'  73 '}, {'  73 '}, {'  36 ', '  46 ', '   4 ', '1042 ', '1048 ', '1020 ', '  73 '}, {'  73 '})\n",
      "({'  74 '}, {'  74 '}, {'  74 '}, {'  74 '}, {'  74 '}, {'  74 '}, {'  74 '}, {'  74 ', '1064 ', '  68 ', '1086 ', '  81 ', '1080 ', '  49 ', '1051 ', '  38 ', '  78 '}, {'  74 '}, {'  74 ', '1064 ', '  68 ', '1086 ', '  81 ', '  49 ', '  38 ', '  78 '})\n",
      "({'  76 '}, {'  76 '}, {'  76 '}, {'  76 '}, {'  76 '}, {'  76 '}, {'  76 '}, {'  76 '}, {'  76 '}, {'  76 '})\n",
      "({'  71 ', '  80 ', '   02'}, {'  80 '}, {'  80 '}, {'  80 '}, {'  80 '}, {'  80 '}, {'  80 ', '   6 '}, {'  21 ', '  80 ', '  13 ', '   6 '}, {'  80 '}, {'  21 ', '  80 ', '  13 ', '   6 '})\n",
      "({'  81 '}, {'  81 '}, {'  81 '}, {'  81 ', '  38 '}, {'  81 '}, {'  81 '}, {'  81 ', '  38 '}, {'  74 ', '1064 ', '  68 ', '1086 ', '  81 ', '1080 ', '  49 ', '1051 ', '  38 ', '  78 '}, {'  81 ', '  38 '}, {'  74 ', '1064 ', '  68 ', '1086 ', '  81 ', '  49 ', '  38 ', '  78 '})\n",
      "(set(), {'1005 '}, {'1005 '}, {'1005 '}, {'1005 '}, set(), {'1005 '}, set(), {'1005 '}, {'1005 '})\n",
      "({'1007 '}, {'1007 '}, {'1007 '}, {'1007 '}, {'1007 '}, {'1007 '}, {'1007 '}, {'1007 '}, {'1007 '}, {'1007 '})\n",
      "({'1009 '}, {'1009 '}, {'1009 '}, {'1009 '}, {'1009 '}, {'1009 '}, {'1009 '}, {'1009 '}, {'1009 '}, {'1009 '})\n",
      "({'1022 '}, {'1022 ', '  10 ', '  52 '}, {'1022 ', '  10 '}, {'1022 ', '  10 ', '  52 '}, {'1022 ', '  10 '}, {'1022 '}, {'1022 '}, {'1022 '}, {'1022 '}, {'1022 ', '  10 ', '  52 '})\n",
      "({'1024 '}, {'1024 '}, {'1024 '}, {'1024 '}, {'1024 '}, {'1024 '}, {'1024 '}, {'1024 '}, {'1024 '}, {'1024 '})\n",
      "({'1026 '}, {'1026 '}, {'1026 '}, {'1026 '}, {'1026 '}, {'1026 '}, {'1026 ', '1078 '}, {'1026 ', '1078 ', '   7 ', '  35 ', '1028 ', '1058 ', '1012 '}, {'1026 '}, {'1026 '})\n",
      "({'1045 '}, {'1045 '}, {'1045 '}, {'1045 '}, {'1045 '}, {'1045 '}, {'1045 '}, {'  24 ', '1045 '}, {'1045 '}, {'1045 '})\n",
      "({'1055 '}, {'1055 '}, {'1055 '}, {'1055 '}, {'1055 '}, {'1055 '}, {'1055 '}, {'1055 '}, {'1055 '}, {'1055 '})\n",
      "({'1063 '}, {'1063 '}, {'1063 '}, {'1063 '}, {'1063 '}, {'1063 '}, {'1063 '}, {'  71 ', '1063 ', '1027 ', '  82 '}, {'1063 '}, {'1063 '})\n",
      "({'  27 ', '1066 '}, {'1066 '}, {'1066 '}, {'1066 '}, {'1066 '}, {'1066 '}, {'1066 '}, {'1065 ', '1066 ', '1032 ', '  32 ', '1057 ', '  44 ', '  27 ', '1031 '}, {'1066 '}, {'1066 '})\n",
      "({'1067 '}, {'1067 '}, {'1067 '}, {'1067 '}, {'1067 '}, {'1067 '}, {'1067 '}, {'1067 '}, {'1067 '}, {'1067 '})\n",
      "({'1070 '}, {'1070 '}, {'1070 '}, {'1070 '}, {'1070 '}, {'1070 '}, {'1070 '}, {'1070 '}, {'1070 '}, {'1070 '})\n",
      "({'1072A'}, {'1072A'}, {'1072A'}, {'1072A'}, {'1072A'}, {'1072A'}, {'1072A'}, {'1072A'}, {'1072A'}, {'1072A'})\n",
      "({'1073 '}, {'1073 '}, {'1073 '}, {'1073 '}, {'1073 '}, {'1073 '}, {'1073 '}, {'1073 '}, {'1073 '}, {'1073 '})\n",
      "({'1076 ', '   3 '}, {'1076 ', '   3 '}, {'1076 ', '   3 '}, {'   3 ', '1076 '}, {'1076 ', '   3 '}, {'1076 ', '   3 '}, {'   3 ', '1076 '}, {'   3 ', '1076 '}, {'   3 ', '1076 '}, {'   3 ', '1076 '})\n",
      "({'1086 ', '1080 '}, {'1080 '}, {'1080 '}, {'1080 '}, {'1080 '}, {'1080 '}, {'1086 ', '1080 '}, {'  74 ', '1064 ', '  68 ', '1086 ', '  81 ', '1080 ', '  49 ', '1051 ', '  38 ', '  78 '}, {'1080 '}, {'1080 '})\n",
      "({'1081 ', '  30 '}, {'1081 '}, {'1081 '}, {'1081 '}, {'1081 '}, {'1081 '}, {'1081 '}, {'1081 '}, {'1081 '}, {'1081 '})\n",
      "({'1084 '}, {'1084 '}, {'1084 '}, {'1084 '}, {'1084 '}, {'1084 '}, {'1084 '}, {'1084 '}, {'1084 '}, {'1084 '})\n",
      "({'1085 ', '1017 ', '  88 ', '1049 ', '  45 '}, {'1085 '}, {'1085 '}, {'1085 ', '1017 ', '  91 ', '  88 ', '  45 '}, {'1085 '}, {'1085 '}, {'1085 ', '1017 ', '  91 ', '  88 ', '1049 ', '  45 '}, {'1085 ', '1017 ', '  91 ', '  88 ', '1049 ', '  45 '}, {'1085 '}, {'1085 '})\n"
     ]
    }
   ],
   "source": [
    "for x in list(zip(*sets_iterations)):\n",
    "    print(x)\n",
    "    \n",
    "# 7,9,24,26,33,60,??,66,67,69,73,74,76,80,81,1005?,1007,1009,1022,1024,1026,1045,1055,1063,1066,1067,1070,1072A,\n",
    "# 1073,1076?,1080,1081,1084,1085"
   ]
  },
  {
   "cell_type": "markdown",
   "id": "dc44bc64",
   "metadata": {
    "hidden": true
   },
   "source": [
    "## results"
   ]
  },
  {
   "cell_type": "code",
   "execution_count": 219,
   "id": "4d74c426",
   "metadata": {
    "hidden": true
   },
   "outputs": [],
   "source": [
    "#cl 1:\n",
    "#from their contact list\n",
    "#['   7 ', '   9 ', '  24 ', '  45 ', '  59 ', '  62 ', '  63 ', '  66 ', '  67 ', '  69 ', '  70 ', '  73 ', '  74 ', '  76 ', '  77 ', '  80 ', '  81 ', '  84 ', '1005 ', '1007 ', '1009 ', '1024 ', '1026 ', '1028 ', '1055 ', '1059 ', '1061A', '1063 ', '1067 ', '1069 ', '1070 ', '1073 ', '1077 ', '1081 ']\n",
    "#from intersection\n",
    "#['   7 ', '   9 ', '  24 ', '  45 ', '  59 ', '  62 ', '  63 ', '  66 ', '  67 ', '  69 ', '  70 ', '  73 ', '  74 ', '  76 ', '  77 ', '  80 ', '  81 ', '  84 ', '1005 ', '1007 ', '1009 ', '1024 ', '1026 ', '1028 ', '1055 ', '1059 ', '1061A', '1063 ', '1067 ', '1069 ', '1070 ', '1073 ', '1077 ', '1081 ']\n",
    "#['   7 ', '   9 ', '  24 ', '  45 ', '  59 ', '  62 ', '  63 ', '  66 ', '  67 ', '  69 ', '  70 ', '  73 ', '  74 ', '  76 ', '  77 ', '  80 ', '  81 ', '  84 ', '1005 ', '1007 ', '1009 ', '1024 ', '1026 ', '1028 ', '1055 ', '1059 ', '1061A', '1063 ', '1067 ', '1069 ', '1070 ', '1073 ', '1077 ', '1081 ']\n",
    "#['   7 ', '   9 ', '  24 ', '  45 ', '  59 ', '  62 ', '  63 ', '  66 ', '  67 ', '  69 ', '  70 ', '  73 ', '  74 ', '  76 ', '  77 ', '  80 ', '  81 ', '  84 ', '1005 ', '1007 ', '1009 ', '1024 ', '1026 ', '1028 ', '1055 ', '1059 ', '1061A', '1063 ', '1067 ', '1069 ', '1070 ', '1073 ', '1077 ', '1081 ']\n",
    "#['   7 ', '   9 ', '  24 ', '  45 ', '  59 ', '  62 ', '  63 ', '  66 ', '  67 ', '  69 ', '  70 ', '  73 ', '  74 ', '  76 ', '  77 ', '     ', '     ', '  84 ', '1005 ', '1007 ', '1009 ', '1024 ', '1026 ', '1028 ', '1055 ', '1059 ', '1061A', '1063 ', '1067 ', '1069 ', '1070 ', '1073 ', '1077 ', '1081 ']\n",
    "#     x                                                    x        x                           x        x                          x                          x                        x                                   x   1058  x                   1066                     x                x         x \n",
    "#^^top contacts^^\n",
    "\n",
    "#cl 2:\n",
    "#from their contact list\n",
    "#['   7 ', '   9 ', '  24 ', '  26 ', '  33 ', '  60 ', '  61 ', '  66 ', '  67 ', '  69 ', '  73 ', '  74 ', '  76 ', '  80 ', '  81 ', '1005 ', '1007 ', '1009 ', '1022 ', '1024 ', '1026 ', '1045 ', '1055 ', '1063 ', '1066 ', '1067 ', '1070 ', '1072A', '1073 ', '1076 ', '1080 ', '1081 ', '1084 ', '1085 ']\n",
    "#from intersection\n",
    "#['   7 ', '   9 ', '     ', '  26 ', '     ', '  60 ', '     ', '  66 ', '  67 ', '  69 ', '  73 ', '  74 ', '  76 ', '  80 ', '  81 ', '     ', '1007 ', '1009 ', '1022 ', '1024 ', '1026 ', '1045 ', '1055 ', '1063 ', '1066 ', '1067 ', '1070 ', '1072A', '1073 ', '1076 ', '1080 ', '1081 ', '1084 ', '1085 ']\n",
    "#['     ', '     ', '     ', '  26 ', '     ', '  60 ', '     ', '  66 ', '  67 ', '  69 ', '  73 ', '  74 ', '  76 ', '  80 ', '  81 ', '     ', '1007 ', '1009 ', '1022 ', '1024 ', '1026 ', '1045 ', '1055 ', '1063 ', '1066 ', '1067 ', '1070 ', '1072A', '1073 ', '1076 ', '1080 ', '1081 ', '1084 ', '1085 ']\n",
    "#['   7 ', '   9 ', '  24 ', '  26 ', '  33 ', '  60 ', '     ', '  66 ', '  67 ', '  69 ', '  73 ', '  74 ', '  76 ', '  80 ', '  81 ', '     ', '1007 ', '1009 ', '1022 ', '1024 ', '1026 ', '1045 ', '1055 ', '1063 ', '1066 ', '1067 ', '1070 ', '1072A', '1073 ', '   3 ', '1080 ', '1081 ', '1084 ', '1085 ']\n",
    "#['   7 ', '   9 ', '  24 ', '  26 ', '  33 ', '  60 ', '     ', '  66 ', '  67 ', '  69 ', '  73 ', '  74 ', '  76 ', '  80 ', '  81 ', '     ', '1007 ', '1009 ', '1022 ', '1024 ', '1026 ', '1045 ', '1055 ', '1063 ', '1066 ', '1067 ', '1070 ', '1072A', '1073 ', '   3 ', '1080 ', '1081 ', '1084 ', '1085 ']\n",
    "#consensus\n",
    "#['   7 ', '   9 ', '  24 ', '  26 ', '  33 ', '  60 ', '  61 ', '  66 ', '  67 ', '  69 ', '  73 ', '  74 ', '  76 ', '  80 ', '  81 ', '1005 ', '1007 ', '1009 ', '1022 ', '1024 ', '1026 ', '1045 ', '1055 ', '1063 ', '1066 ', '1067 ', '1070 ', '1072A', '1073 ', '1076 ', '1080 ', '1081 ', '1084 ', '1085 ']\n",
    "#     x                                                    x                             70    x                    77                               x       x                                             x 1058,1059                x                          x       x   1077  x                          \n",
    "#^^top contacts^^\n",
    "#note: numbering inconsistencies, especially for pos 61"
   ]
  },
  {
   "cell_type": "code",
   "execution_count": 141,
   "id": "54a5cca3",
   "metadata": {
    "hidden": true
   },
   "outputs": [
    {
     "name": "stdout",
     "output_type": "stream",
     "text": [
      "34\n",
      "['   7 ', '   9 ', '  24 ', '  45 ', '  59 ', '  62 ', '  63 ', '  66 ', '  67 ', '  69 ', '  70 ', '  73 ', '  74 ', '  76 ', '  77 ', '  80 ', '  81 ', '  84 ', '1005 ', '1007 ', '1009 ', '1024 ', '1026 ', '1028 ', '1055 ', '1059 ', '1061A', '1063 ', '1067 ', '1069 ', '1070 ', '1073 ', '1077 ', '1081 ']\n"
     ]
    }
   ],
   "source": [
    "#check their list for cl 1\n",
    "with open('/home/vmikhayl/netMHCpan-4.1/data/all_varcontacts.nlist') as f:\n",
    "    contacts1=[int(x) for x in f.read().split()]\n",
    "print(len(contacts1))\n",
    "contact_pdbnums=[seq_tools.mhcs['9606','B','07:02'].data['pdbnum'][i-1] for i in contacts1]\n",
    "print(contact_pdbnums)"
   ]
  },
  {
   "cell_type": "code",
   "execution_count": 144,
   "id": "7e02e3fd",
   "metadata": {
    "hidden": true
   },
   "outputs": [
    {
     "name": "stdout",
     "output_type": "stream",
     "text": [
      "15 19\n",
      "['   7 ', '   9 ', '  24 ', '  26 ', '  33 ', '  60 ', '  61 ', '  66 ', '  67 ', '  69 ', '  73 ', '  74 ', '  76 ', '  80 ', '  81 ', '1005 ', '1007 ', '1009 ', '1022 ', '1024 ', '1026 ', '1045 ', '1055 ', '1063 ', '1066 ', '1067 ', '1070 ', '1072A', '1073 ', '1076 ', '1080 ', '1081 ', '1084 ', '1085 ']\n"
     ]
    }
   ],
   "source": [
    "#check their list for cl 2\n",
    "with open('/home/vmikhayl/netMHCIIpan-4.1/data/full_alpha.positions') as f:\n",
    "    contacts2a=[int(x) for x in f.read().split()]\n",
    "with open('/home/vmikhayl/netMHCIIpan-4.1/data/full_beta.positions') as f:\n",
    "    contacts2b=[int(x) for x in f.read().split()]\n",
    "print(len(contacts2a),len(contacts2b))\n",
    "contact_pdbnums=[]\n",
    "b_shift=4 #necessary to match intersection; indeed, their DRB1 seq has extra 4aa in the beginning\n",
    "contact_pdbnums+=[seq_tools.mhcs['9606','DRA','01:01'].data['pdbnum'][i-1] for i in contacts2a]\n",
    "contact_pdbnums+=[seq_tools.mhcs['9606','DRB1','01:01'].data['pdbnum'][i-1-b_shift] for i in contacts2b]\n",
    "print(contact_pdbnums)"
   ]
  },
  {
   "cell_type": "code",
   "execution_count": 188,
   "id": "5d770e37",
   "metadata": {
    "hidden": true
   },
   "outputs": [
    {
     "name": "stdout",
     "output_type": "stream",
     "text": [
      "IKEEHVIIQAEFYLNPDQSGEFMFDFDGDEIFHVDMAKKETVWRLEEFGRFASFEAQGALANIAVDKANLEIMTKRSNYTPITN\n",
      "IVADHVASCGVNLYQFYGPSGQYTHEFDGDEEFYVDLERKETAWRWPEFSKFGGFDPQGALRNMAVAKHNLNIMIKRYNSTAATN\n"
     ]
    }
   ],
   "source": [
    "mhc1=seq_tools.mhcs['9606','DRA','01:01']\n",
    "mhc2=seq_tools.mhcs['9606','DQA1','01:01']\n",
    "#mhc2=seq_tools.mhcs['10090','IAB','d']\n",
    "#print(mhc1.data['pdbnum'])\n",
    "#print(mhc2.data['pdbnum'])\n",
    "print(mhc1.seq())\n",
    "print(mhc2.seq())"
   ]
  },
  {
   "cell_type": "code",
   "execution_count": 157,
   "id": "3267c834",
   "metadata": {
    "hidden": true
   },
   "outputs": [],
   "source": [
    "from Bio import pairwise2\n",
    "from Bio.SubsMat import MatrixInfo as matlist\n",
    "blosum62=matlist.blosum62"
   ]
  },
  {
   "cell_type": "code",
   "execution_count": 191,
   "id": "8127244a",
   "metadata": {
    "hidden": true
   },
   "outputs": [
    {
     "name": "stdout",
     "output_type": "stream",
     "text": [
      "IKEEHVI-IQAEFYLNPDQSGEFMFDFDGDEIFHVDMAKKETVWRLEEFGRFASFEAQGALANIAVDKANLEIMTKRSNYTPITN\n",
      "IVADHVASCGVNLYQFYGPSGQYTHEFDGDEEFYVDLERKETAWRWPEFSKFGGFDPQGALRNMAVAKHNLNIMIKRYNSTAATN\n",
      "GNYHEGGGARVAHIM\n",
      "CNYHEGGGARVAHIM\n"
     ]
    }
   ],
   "source": [
    "y=pairwise2.align.globaldd(mhc1.seq(),mhc2.seq(),blosum62,\n",
    "                               openA=-10,extendA=-10,openB=-10,extendB=-10,penalize_end_gaps=(False,False),\n",
    "                               one_alignment_only=True)[0]    \n",
    "print(y.seqA)\n",
    "print(y.seqB)\n",
    "seqBcor=''\n",
    "for a,b in zip(y.seqA,y.seqB):\n",
    "    if a!='-':\n",
    "        seqBcor+=b\n",
    "s=''\n",
    "for i in contacts2a: #contacts2b:\n",
    "    s+=seqBcor[i-1]   #-b_shift]\n",
    "print(s)\n",
    "print(''.join(mhc2.get_residues_by_pdbnums(contact_pdbnums)).replace('-',''))"
   ]
  },
  {
   "cell_type": "code",
   "execution_count": 187,
   "id": "d7caffb9",
   "metadata": {
    "hidden": true
   },
   "outputs": [
    {
     "name": "stdout",
     "output_type": "stream",
     "text": [
      "('9606', 'DQA1', '01:01')\n",
      "('9606', 'DQA1', '01:02')\n",
      "('9606', 'DQA1', '01:03')\n",
      "('9606', 'DQA1', '01:04')\n",
      "('9606', 'DQA1', '01:05')\n",
      "('9606', 'DQA1', '01:06')\n",
      "('9606', 'DQA1', '01:07Q')\n",
      "('9606', 'DQA1', '01:08')\n",
      "('9606', 'DQA1', '01:09')\n",
      "('9606', 'DQA1', '01:10')\n",
      "('9606', 'DQA1', '01:11')\n",
      "('9606', 'DQA1', '01:12')\n",
      "('9606', 'DQA1', '01:13')\n",
      "('9606', 'DQA1', '01:14')\n",
      "('9606', 'DQA1', '01:17')\n",
      "('9606', 'DQA1', '01:18')\n",
      "('9606', 'DQA1', '01:19')\n",
      "('9606', 'DQA1', '01:20')\n",
      "('9606', 'DQA1', '01:21')\n",
      "('9606', 'DQA1', '01:22')\n",
      "('9606', 'DQA1', '01:23')\n",
      "('9606', 'DQA1', '01:24')\n",
      "('9606', 'DQA1', '01:25')\n",
      "('9606', 'DQA1', '01:26')\n",
      "('9606', 'DQA1', '01:27')\n",
      "('9606', 'DQA1', '01:28')\n",
      "('9606', 'DQA1', '01:29')\n",
      "('9606', 'DQA1', '01:30')\n",
      "('9606', 'DQA1', '01:31')\n",
      "('9606', 'DQA1', '01:32')\n",
      "('9606', 'DQA1', '01:33')\n",
      "('9606', 'DQA1', '01:34')\n",
      "('9606', 'DQA1', '01:35')\n",
      "('9606', 'DQA1', '01:36')\n",
      "('9606', 'DQA1', '01:37')\n",
      "('9606', 'DQA1', '01:38')\n",
      "('9606', 'DQA1', '01:39')\n",
      "('9606', 'DQA1', '01:41')\n",
      "('9606', 'DQA1', '01:42')\n",
      "('9606', 'DQA1', '01:43')\n",
      "('9606', 'DQA1', '01:44')\n",
      "('9606', 'DQA1', '01:45')\n",
      "('9606', 'DQA1', '01:46')\n",
      "('9606', 'DQA1', '01:47')\n",
      "('9606', 'DQA1', '01:48')\n",
      "('9606', 'DQA1', '01:49')\n",
      "('9606', 'DQA1', '01:50')\n",
      "('9606', 'DQA1', '01:51')\n",
      "('9606', 'DQA1', '01:52')\n",
      "('9606', 'DQA1', '01:53')\n",
      "('9606', 'DQA1', '01:54')\n",
      "('9606', 'DQA1', '01:55')\n",
      "('9606', 'DQA1', '01:56')\n",
      "('9606', 'DQA1', '01:57')\n",
      "('9606', 'DQA1', '01:58')\n",
      "('9606', 'DQA1', '01:59')\n",
      "('9606', 'DQA1', '01:60')\n",
      "('9606', 'DQA1', '01:61')\n",
      "('9606', 'DQA1', '01:62')\n",
      "('9606', 'DQA1', '01:63')\n",
      "('9606', 'DQA1', '01:64')\n",
      "('9606', 'DQA1', '01:65')\n",
      "('9606', 'DQA1', '01:66')\n",
      "('9606', 'DQA1', '01:67')\n",
      "('9606', 'DQA1', '01:68')\n",
      "('9606', 'DQA1', '01:69')\n",
      "('9606', 'DQA1', '01:70')\n",
      "('9606', 'DQA1', '01:71')\n",
      "('9606', 'DQA1', '01:72')\n",
      "('9606', 'DQA1', '01:73')\n",
      "('9606', 'DQA1', '01:74')\n",
      "('9606', 'DQA1', '01:75')\n",
      "('9606', 'DQA1', '02:01')\n",
      "('9606', 'DQA1', '02:03')\n",
      "('9606', 'DQA1', '02:04')\n",
      "('9606', 'DQA1', '02:05')\n",
      "('9606', 'DQA1', '02:07')\n",
      "('9606', 'DQA1', '02:08')\n",
      "('9606', 'DQA1', '02:09')\n",
      "('9606', 'DQA1', '02:10')\n",
      "('9606', 'DQA1', '02:11')\n",
      "('9606', 'DQA1', '02:12')\n",
      "('9606', 'DQA1', '02:13')\n",
      "('9606', 'DQA1', '02:14')\n",
      "('9606', 'DQA1', '02:15')\n",
      "('9606', 'DQA1', '02:16')\n",
      "('9606', 'DQA1', '02:17')\n",
      "('9606', 'DQA1', '02:18')\n",
      "('9606', 'DQA1', '02:19')\n",
      "('9606', 'DQA1', '02:20')\n",
      "('9606', 'DQA1', '02:21')\n",
      "('9606', 'DQA1', '02:22')\n",
      "('9606', 'DQA1', '02:23')\n",
      "('9606', 'DQA1', '03:01')\n",
      "('9606', 'DQA1', '03:02')\n",
      "('9606', 'DQA1', '03:03')\n",
      "('9606', 'DQA1', '03:04')\n",
      "('9606', 'DQA1', '03:05')\n",
      "('9606', 'DQA1', '03:06')\n",
      "('9606', 'DQA1', '03:07')\n",
      "('9606', 'DQA1', '03:08')\n",
      "('9606', 'DQA1', '03:09')\n",
      "('9606', 'DQA1', '03:10')\n",
      "('9606', 'DQA1', '03:11')\n",
      "('9606', 'DQA1', '03:12')\n",
      "('9606', 'DQA1', '03:13')\n",
      "('9606', 'DQA1', '03:14')\n",
      "('9606', 'DQA1', '03:15')\n",
      "('9606', 'DQA1', '03:16')\n",
      "('9606', 'DQA1', '03:17')\n",
      "('9606', 'DQA1', '03:18')\n",
      "('9606', 'DQA1', '03:19')\n",
      "('9606', 'DQA1', '03:20')\n",
      "('9606', 'DQA1', '03:21')\n",
      "('9606', 'DQA1', '03:22')\n",
      "('9606', 'DQA1', '03:23')\n",
      "('9606', 'DQA1', '03:24')\n",
      "('9606', 'DQA1', '03:25')\n",
      "('9606', 'DQA1', '04:01')\n",
      "('9606', 'DQA1', '04:02')\n",
      "('9606', 'DQA1', '04:04')\n",
      "('9606', 'DQA1', '04:05')\n",
      "('9606', 'DQA1', '04:06')\n",
      "('9606', 'DQA1', '04:07')\n",
      "('9606', 'DQA1', '04:08')\n",
      "('9606', 'DQA1', '04:09')\n",
      "('9606', 'DQA1', '05:01')\n",
      "('9606', 'DQA1', '05:02')\n",
      "('9606', 'DQA1', '05:03')\n",
      "('9606', 'DQA1', '05:04')\n",
      "('9606', 'DQA1', '05:05')\n",
      "('9606', 'DQA1', '05:06')\n",
      "('9606', 'DQA1', '05:07')\n",
      "('9606', 'DQA1', '05:08')\n",
      "('9606', 'DQA1', '05:09')\n",
      "('9606', 'DQA1', '05:10')\n",
      "('9606', 'DQA1', '05:11')\n",
      "('9606', 'DQA1', '05:12')\n",
      "('9606', 'DQA1', '05:13')\n",
      "('9606', 'DQA1', '05:14')\n",
      "('9606', 'DQA1', '05:16')\n",
      "('9606', 'DQA1', '05:18')\n",
      "('9606', 'DQA1', '05:19')\n",
      "('9606', 'DQA1', '05:20')\n",
      "('9606', 'DQA1', '05:21')\n",
      "('9606', 'DQA1', '05:22')\n",
      "('9606', 'DQA1', '05:23')\n",
      "('9606', 'DQA1', '05:24')\n",
      "('9606', 'DQA1', '05:25')\n",
      "('9606', 'DQA1', '05:26')\n",
      "('9606', 'DQA1', '05:27')\n",
      "('9606', 'DQA1', '05:28')\n",
      "('9606', 'DQA1', '05:29Q')\n",
      "('9606', 'DQA1', '05:30')\n",
      "('9606', 'DQA1', '05:31')\n",
      "('9606', 'DQA1', '05:32')\n",
      "('9606', 'DQA1', '05:33')\n",
      "('9606', 'DQA1', '05:34')\n",
      "('9606', 'DQA1', '05:35')\n",
      "('9606', 'DQA1', '05:37')\n",
      "('9606', 'DQA1', '05:38')\n",
      "('9606', 'DQA1', '05:39')\n",
      "('9606', 'DQA1', '05:40')\n",
      "('9606', 'DQA1', '05:41')\n",
      "('9606', 'DQA1', '05:42')\n",
      "('9606', 'DQA1', '05:43')\n",
      "('9606', 'DQA1', '05:44')\n",
      "('9606', 'DQA1', '05:45')\n",
      "('9606', 'DQA1', '06:01')\n",
      "('9606', 'DQA1', '06:02')\n",
      "('9606', 'DQA1', '06:03')\n"
     ]
    }
   ],
   "source": [
    "for x in seq_tools.mhcs:\n",
    "    if x[0]=='9606' and x[1].startswith('DQA'):\n",
    "        print(x)"
   ]
  },
  {
   "cell_type": "markdown",
   "id": "8407beee",
   "metadata": {
    "hidden": true
   },
   "source": [
    "## choose pep contact residues"
   ]
  },
  {
   "cell_type": "raw",
   "id": "43207429",
   "metadata": {
    "hidden": true
   },
   "source": [
    "with open('./data/experimental_structures/processed_updated/contact_maps_pep-mhc.pckl','rb') as f:\n",
    "    contact_maps=pickle.load(f)\n",
    "    \n",
    "mhc_contacts={}\n",
    "for cl in ['I','II']:\n",
    "    x=[[k,np.average(v)] for k,v in contact_maps['res_contacts2'][cl].items()]\n",
    "    mhc_contacts[cl]=pd.DataFrame(x,columns=['res','contacts']).sort_values('contacts',ascending=False)\n",
    "    mhc_contacts[cl]['res']=mhc_contacts[cl]['res'].map(lambda a:a[1:])\n",
    "    \n",
    "with open('./data/obj/pmhc_contacts_av.pckl','wb') as f:\n",
    "    pickle.dump(mhc_contacts,f)"
   ]
  },
  {
   "cell_type": "code",
   "execution_count": 2,
   "id": "0fcfd8d3",
   "metadata": {
    "hidden": true
   },
   "outputs": [
    {
     "name": "stdout",
     "output_type": "stream",
     "text": [
      "cl 1: 366\n",
      "cl 2: 621\n"
     ]
    }
   ],
   "source": [
    "#compute entropies for MHC positions\n",
    "\n",
    "def aa_entropy(aa_list):\n",
    "    aa_list=np.array(aa_list)\n",
    "    p=np.array([np.sum(aa_list==a) for a in np.unique(aa_list)])\n",
    "    p=p/np.sum(p)\n",
    "    return np.exp(-np.sum(p*np.log(p)))\n",
    "\n",
    "#cl 1\n",
    "#sample\n",
    "df=seq_tools.mhcs_df\n",
    "df=df[df['cl']=='I'].sample(frac=1).groupby('species_id').head(10)\n",
    "print('cl 1:',len(df))\n",
    "#count\n",
    "resnums={}\n",
    "for x in df.iterrows():\n",
    "    x=x[1]\n",
    "    mhc=seq_tools.mhcs[x['species_id'],x['locus'],x['allele']]\n",
    "    for y in mhc.data:\n",
    "        resnums.setdefault(y['pdbnum'],[]).append(y['seq'])\n",
    "res_entropy_i={k:aa_entropy(v) for k,v in resnums.items()}\n",
    "\n",
    "#cl 2\n",
    "#sample\n",
    "df=seq_tools.mhcs_df\n",
    "df_A=df[(df['cl']=='II')&(df['chain']=='A')].sample(frac=1).groupby('species_id').head(10)\n",
    "df_B=df[(df['cl']=='II')&(df['chain']=='B')].sample(frac=1).groupby('species_id').head(10)\n",
    "df=pd.concat([df_A,df_B])\n",
    "print('cl 2:',len(df))\n",
    "#count\n",
    "resnums={}\n",
    "for x in df.iterrows():\n",
    "    x=x[1]\n",
    "    mhc=seq_tools.mhcs[x['species_id'],x['locus'],x['allele']]\n",
    "    for y in mhc.data:\n",
    "        resnums.setdefault(y['pdbnum'],[]).append(y['seq'])\n",
    "res_entropy_ii={k:aa_entropy(v) for k,v in resnums.items()}"
   ]
  },
  {
   "cell_type": "code",
   "execution_count": 3,
   "id": "9040222c",
   "metadata": {
    "hidden": true
   },
   "outputs": [],
   "source": [
    "mhc_contacts=pd.read_pickle('./data/obj/pmhc_contacts_av.pckl')"
   ]
  },
  {
   "cell_type": "code",
   "execution_count": 24,
   "id": "5bee17a0",
   "metadata": {
    "hidden": true
   },
   "outputs": [
    {
     "name": "stdout",
     "output_type": "stream",
     "text": [
      "34 34\n"
     ]
    }
   ],
   "source": [
    "netmhc_pseq1=['   7 ', '   9 ', '  24 ', '  45 ', '  59 ', '  62 ', '  63 ', '  66 ', '  67 ', '  69 ', '  70 ', '  73 ', '  74 ', '  76 ', '  77 ', '  80 ', '  81 ', '  84 ', '1005 ', '1007 ', '1009 ', '1024 ', '1026 ', '1028 ', '1055 ', '1059 ', '1061A', '1063 ', '1067 ', '1069 ', '1070 ', '1073 ', '1077 ', '1081 ']\n",
    "netmhc_pseq2=['   7 ', '   9 ', '  24 ', '  26 ', '  33 ', '  60 ', '  61 ', '  66 ', '  67 ', '  69 ', '  73 ', '  74 ', '  76 ', '  80 ', '  81 ', '1005 ', '1007 ', '1009 ', '1022 ', '1024 ', '1026 ', '1045 ', '1055 ', '1063 ', '1066 ', '1067 ', '1070 ', '1072A', '1073 ', '1076 ', '1080 ', '1081 ', '1084 ', '1085 ']\n",
    "ind=mhc_contacts['I']['res'].isin(netmhc_pseq1)\n",
    "colors1=np.array(['blue','red'])[ind.values.astype(int)]\n",
    "ind=mhc_contacts['II']['res'].isin(netmhc_pseq2)\n",
    "colors2=np.array(['blue','red'])[ind.values.astype(int)]\n",
    "print(len(netmhc_pseq1),len(netmhc_pseq2))"
   ]
  },
  {
   "cell_type": "code",
   "execution_count": 17,
   "id": "aff6f354",
   "metadata": {
    "hidden": true
   },
   "outputs": [
    {
     "data": {
      "image/png": "[encoded data removed]",
      "text/plain": [
       "<Figure size 1080x720 with 2 Axes>"
      ]
     },
     "metadata": {
      "needs_background": "light"
     },
     "output_type": "display_data"
    }
   ],
   "source": [
    "#contact numbers\n",
    "#red -> included in netmhcpan pseudoseq, blue -> not included\n",
    "n=40\n",
    "#n_keep1=20\n",
    "#n_keep2=25\n",
    "x_space=np.arange(n)\n",
    "plt.figure(figsize=(15,10))\n",
    "plt.subplot(211)\n",
    "df=mhc_contacts['I'].head(n)\n",
    "bar1=plt.bar(np.arange(n),df['contacts'],width=0.5,color=colors1[:n])\n",
    "plt.bar_label(bar1,df['res'].map({k:'{:3.1f}'.format(v) for k,v in res_entropy_i.items()}))\n",
    "plt.xticks(np.arange(n),df['res'],rotation=90)\n",
    "#plt.axvline(n_keep1-0.5)\n",
    "plt.title('cl I')\n",
    "plt.subplot(212)\n",
    "df=mhc_contacts['II'].head(n)\n",
    "bar2=plt.bar(np.arange(n),df['contacts'],width=0.5,color=colors2[:n])\n",
    "plt.bar_label(bar2,df['res'].map({k:'{:3.1f}'.format(v) for k,v in res_entropy_ii.items()}))\n",
    "plt.xticks(np.arange(n),df['res'],rotation=90)\n",
    "#plt.axvline(n_keep2-0.5)\n",
    "plt.title('cl II')\n",
    "plt.tight_layout()\n",
    "plt.show()"
   ]
  },
  {
   "cell_type": "code",
   "execution_count": 35,
   "id": "f01d6dda",
   "metadata": {
    "hidden": true
   },
   "outputs": [
    {
     "name": "stdout",
     "output_type": "stream",
     "text": [
      "   7  1.023285348856394\n",
      "   9  4.320596786313641\n",
      "  24  2.3873360098280427\n",
      "  45  4.297460655331075\n",
      "  59  1.0172878850667326\n",
      "  62  2.5512330857379246\n",
      "  63  1.8964321398661064\n",
      "  66  3.0008929316830906\n",
      "  67  4.7106797164053145\n",
      "  69  3.033720748301068\n",
      "  70  3.3822536009500754\n",
      "  73  1.7831833602216611\n",
      "  74  2.2961844084217464\n",
      "  76  2.4185892601886545\n",
      "  77  2.9225226954112284\n",
      "  80  3.528087172752674\n",
      "  81  1.630529002673261\n",
      "  84  1.0400011014330106\n",
      "1005  3.1548073430720556\n",
      "1007  4.670374577689581\n",
      "1009  1.8088138076810778\n",
      "1024  4.474602623544526\n",
      "1026  4.684101010035508\n",
      "1028  1.0209801818051574\n",
      "1055  1.1628158700065387\n",
      "1059  1.4006739108495556\n",
      "1061A 1.154500557291467\n",
      "1063  3.078529649352068\n",
      "1067  3.6038498439137405\n",
      "1069  1.290444873805912\n",
      "1070  1.0129122025309525\n",
      "1073  3.173403828861726\n",
      "1077  1.5315300256725934\n",
      "1081  1.2701412089778015\n"
     ]
    }
   ],
   "source": [
    "#check how polymorphic\n",
    "resnum_list=['1066 ','1058 ','1033 '] #cl 1 missing\n",
    "resnum_list=['1059 ','  70 ','  77 ','1077 ','1058 ','  62 ','  84 '] #cl 2 missing\n",
    "resnum_list=netmhc_pseq1\n",
    "#resnum_list=netmhc_pseq2\n",
    "\n",
    "\n",
    "res_list=[]\n",
    "for x in seq_tools.mhcs:\n",
    "    if x[0]=='9606' and (x[1] in ['A','B','C']):\n",
    "        mhc=seq_tools.mhcs[x]\n",
    "        res=mhc.get_residues_by_pdbnums(resnum_list,show_gaps=True)\n",
    "        if len(res)==len(resnum_list):\n",
    "            res_list.append(res)\n",
    "res_list=np.array(res_list)\n",
    "for i,r in enumerate(resnum_list):\n",
    "    print(r,aa_entropy([x for x in res_list[:,i] if x!='-']))    \n",
    "    \n",
    "#conclusion: some indeed are not polymorphic"
   ]
  },
  {
   "cell_type": "markdown",
   "id": "145b4b68",
   "metadata": {
    "heading_collapsed": true
   },
   "source": [
    "# compare"
   ]
  },
  {
   "cell_type": "code",
   "execution_count": 18,
   "id": "b1c8e7a9",
   "metadata": {
    "hidden": true
   },
   "outputs": [],
   "source": [
    "#comparing two datasets\n",
    "def compare_dfs(x1,x2,columns):    \n",
    "    key1=x1[columns].apply(tuple,axis=1)\n",
    "    key2=x2[columns].apply(tuple,axis=1)    \n",
    "    ind1=key1.isin(key2.values)\n",
    "    ind2=key2.isin(key1.values)\n",
    "    return x1[ind1],x1[~ind1],x2[ind2],x2[~ind2]"
   ]
  },
  {
   "cell_type": "code",
   "execution_count": 19,
   "id": "3d877c45",
   "metadata": {
    "hidden": true
   },
   "outputs": [
    {
     "name": "stdout",
     "output_type": "stream",
     "text": [
      "iedb pmhc Kd assays:\n",
      "cl I:\n",
      "three, five groups\n",
      "Index(['pep', 'mhc_iedb', 'class', 'mhc', 'date', 'kd'], dtype='object') Index(['pep', 'mhc_iedb', 'class', 'mhc', 'n_mutations', 'date', 'kd'], dtype='object')\n",
      "112766 124575\n",
      "cl II:\n",
      "three, five groups\n",
      "Index(['pep', 'mhc_iedb', 'class', 'mhc_a', 'mhc_b', 'date', 'kd'], dtype='object') Index(['pep', 'mhc_iedb', 'class', 'mhc_a', 'mhc_b', 'n_mutations', 'date',\n",
      "       'kd'],\n",
      "      dtype='object')\n",
      "36001 70478\n",
      "netmhcpan 4.1:\n",
      "Index(['pep', 'mhc', 'kd'], dtype='object')\n",
      "198001\n",
      "netmhcIIpan 4.0:\n",
      "Index(['pep', 'mhc_a', 'mhc_b', 'kd'], dtype='object')\n",
      "108362\n",
      "iedb i 2013:\n",
      "Index(['pep', 'mhc', 'kd'], dtype='object')\n",
      "165196\n",
      "iedb ii 2009:\n",
      "Index(['pep', 'mhc_a', 'mhc_b', 'kd'], dtype='object')\n",
      "45014\n"
     ]
    }
   ],
   "source": [
    "#load data\n",
    "#iedb assays\n",
    "iedb=pd.read_pickle('./data/pmhc_assays/iedb_pmhc_assays/assays_Kd.pckl')\n",
    "iedb5=pd.read_pickle('./data/pmhc_assays/iedb_pmhc_assays/assays_Kd5.pckl')\n",
    "iedb_i,iedb_ii=iedb[iedb['class']=='I'],iedb[iedb['class']=='II']\n",
    "iedb_i5,iedb_ii5=iedb5[iedb5['class']=='I'],iedb5[iedb5['class']=='II']\n",
    "iedb_i=iedb_i.rename({'mhc_a':'mhc'},axis=1)\n",
    "iedb_i5=iedb_i5.rename({'mhc_a':'mhc'},axis=1)\n",
    "iedb_i=iedb_i.drop('mhc_b',axis=1)\n",
    "iedb_i5=iedb_i5.drop('mhc_b',axis=1)\n",
    "print('iedb pmhc Kd assays:')\n",
    "print('cl I:')\n",
    "print('three, five groups')\n",
    "print(iedb_i.columns,iedb_i5.columns)\n",
    "print(len(iedb_i),len(iedb_i5))\n",
    "print('cl II:')\n",
    "print('three, five groups')\n",
    "print(iedb_ii.columns,iedb_ii5.columns)\n",
    "print(len(iedb_ii),len(iedb_ii5))\n",
    "#netmhc training data\n",
    "netmhc1=pd.read_pickle('./data/pmhc_assays/netmhcpan_i41_ii40/assays_i.pckl')\n",
    "print('netmhcpan 4.1:')\n",
    "print(netmhc1.columns)\n",
    "print(len(netmhc1))\n",
    "netmhc2=pd.read_pickle('./data/pmhc_assays/netmhcpan_i41_ii40/assays_ii.pckl')\n",
    "print('netmhcIIpan 4.0:')\n",
    "print(netmhc2.columns)\n",
    "print(len(netmhc2))\n",
    "#2013 dataset\n",
    "iedb_2013=pd.read_pickle('./data/pmhc_assays/iedb_i_2013/assays.pckl')\n",
    "print('iedb i 2013:')\n",
    "print(iedb_2013.columns)\n",
    "print(len(iedb_2013))\n",
    "#2009 dataset\n",
    "iedb_2009=pd.read_pickle('./data/pmhc_assays/iedb_ii_2009/assays.pckl')\n",
    "print('iedb ii 2009:')\n",
    "print(iedb_2009.columns)\n",
    "print(len(iedb_2009))"
   ]
  },
  {
   "cell_type": "markdown",
   "id": "0ca62882",
   "metadata": {
    "heading_collapsed": true,
    "hidden": true
   },
   "source": [
    "## cl 1"
   ]
  },
  {
   "cell_type": "code",
   "execution_count": 125,
   "id": "683232db",
   "metadata": {
    "hidden": true
   },
   "outputs": [
    {
     "name": "stdout",
     "output_type": "stream",
     "text": [
      "198001 173965\n",
      "169581 28420 169581 4384\n"
     ]
    }
   ],
   "source": [
    "df=pd.concat([iedb_i5[['pep','mhc']],iedb_2013[['pep','mhc']]])\n",
    "df=df.drop_duplicates()\n",
    "df12,df1n2,df21,df2n1=compare_dfs(netmhc1,df,['pep','mhc'])\n",
    "print(len(netmhc1),len(df))\n",
    "print(len(df12),len(df1n2),len(df21),len(df2n1))"
   ]
  },
  {
   "cell_type": "code",
   "execution_count": 131,
   "id": "634bc3fa",
   "metadata": {
    "hidden": true
   },
   "outputs": [
    {
     "name": "stdout",
     "output_type": "stream",
     "text": [
      "total human and mouse: 17655 out of 28420\n",
      "10090_D_b    128\n",
      "10090_D_d    100\n",
      "10090_K_b    111\n",
      "10090_K_d    101\n",
      "10090_K_k    101\n",
      "10090_L_d    100\n",
      "10090_L_q    100\n",
      "9606_A_01:01 298\n",
      "9606_A_02:01 371\n",
      "9606_A_02:02 138\n",
      "9606_A_02:03 147\n",
      "9606_A_02:04 101\n",
      "9606_A_02:05 140\n",
      "9606_A_02:06 141\n",
      "9606_A_02:07 101\n",
      "9606_A_02:10 100\n",
      "9606_A_02:11 106\n",
      "9606_A_02:12 109\n",
      "9606_A_02:16 107\n",
      "9606_A_02:17 100\n",
      "9606_A_02:19 119\n",
      "9606_A_02:50 100\n",
      "9606_A_03:01 269\n",
      "9606_A_03:02 100\n",
      "9606_A_03:19 100\n",
      "9606_A_11:01 283\n",
      "9606_A_11:02 100\n",
      "9606_A_23:01 189\n",
      "9606_A_24:02 141\n",
      "9606_A_24:03 194\n",
      "9606_A_25:01 100\n",
      "9606_A_26:01 226\n",
      "9606_A_26:02 100\n",
      "9606_A_26:03 101\n",
      "9606_A_29:02 224\n",
      "9606_A_30:01 299\n",
      "9606_A_30:02 251\n",
      "9606_A_31:01 149\n",
      "9606_A_32:01 100\n",
      "9606_A_32:07  99\n",
      "9606_A_32:15 100\n",
      "9606_A_33:01 160\n",
      "9606_A_66:01 272\n",
      "9606_A_68:01 130\n",
      "9606_A_68:02 168\n",
      "9606_A_68:23 100\n",
      "9606_A_69:01 122\n",
      "9606_A_74:01 100\n",
      "9606_A_80:01 118\n",
      "9606_B_07:02 331\n",
      "9606_B_08:01 264\n",
      "9606_B_08:02 104\n",
      "9606_B_08:03 100\n",
      "9606_B_13:02 100\n",
      "9606_B_14:01 100\n",
      "9606_B_14:02 250\n",
      "9606_B_15:01 238\n",
      "9606_B_15:02 101\n",
      "9606_B_15:03 100\n",
      "9606_B_15:09 104\n",
      "9606_B_15:10 100\n",
      "9606_B_15:17 102\n",
      "9606_B_15:42 444\n",
      "9606_B_18:01 216\n",
      "9606_B_27:01 100\n",
      "9606_B_27:02 102\n",
      "9606_B_27:03 100\n",
      "9606_B_27:04 102\n",
      "9606_B_27:05 257\n",
      "9606_B_27:06 100\n",
      "9606_B_27:09 100\n",
      "9606_B_27:10 100\n",
      "9606_B_27:20 100\n",
      "9606_B_35:01 160\n",
      "9606_B_35:03 100\n",
      "9606_B_35:08 110\n",
      "9606_B_37:01 100\n",
      "9606_B_38:01  99\n",
      "9606_B_39:01 231\n",
      "9606_B_39:06 100\n",
      "9606_B_39:09 100\n",
      "9606_B_40:01 261\n",
      "9606_B_40:02 111\n",
      "9606_B_40:13 100\n",
      "9606_B_42:01 100\n",
      "9606_B_42:02 100\n",
      "9606_B_44:02 274\n",
      "9606_B_44:03 109\n",
      "9606_B_45:01 100\n",
      "9606_B_45:06 446\n",
      "9606_B_46:01 115\n",
      "9606_B_48:01 102\n",
      "9606_B_51:01 257\n",
      "9606_B_52:01 100\n",
      "9606_B_53:01 296\n",
      "9606_B_54:01 119\n",
      "9606_B_55:01 100\n",
      "9606_B_57:01 238\n",
      "9606_B_57:02 100\n",
      "9606_B_57:03 100\n",
      "9606_B_58:01 281\n",
      "9606_B_58:02 100\n",
      "9606_B_73:01 118\n",
      "9606_B_81:01 100\n",
      "9606_B_83:01 365\n",
      "9606_C_03:03 100\n",
      "9606_C_04:01 434\n",
      "9606_C_05:01 100\n",
      "9606_C_06:02 100\n",
      "9606_C_07:01 100\n",
      "9606_C_07:02 100\n",
      "9606_C_08:02 100\n",
      "9606_C_08:03 100\n",
      "9606_C_12:03 100\n",
      "9606_C_14:02 100\n",
      "9606_C_15:02 100\n",
      "9606_E_01:01 100\n",
      "9606_E_01:03 100\n"
     ]
    }
   ],
   "source": [
    "#count human and mouse assays from netmhc training set missing in my data\n",
    "mhcs_missing=[]\n",
    "for x in df1n2['mhc']:\n",
    "    if x[0] in ['9606','10090']:\n",
    "        mhcs_missing.append('_'.join(x))\n",
    "print('total human and mouse:',len(mhcs_missing),'out of',len(df1n2))        \n",
    "utils.print_hist(mhcs_missing)"
   ]
  },
  {
   "cell_type": "code",
   "execution_count": 132,
   "id": "4f728332",
   "metadata": {
    "hidden": true
   },
   "outputs": [
    {
     "name": "stdout",
     "output_type": "stream",
     "text": [
      "198001 112766\n",
      "109508 88493 109508 3258\n"
     ]
    }
   ],
   "source": [
    "#compare to iedb_i (3 groups)\n",
    "df12,df1n2,df21,df2n1=compare_dfs(netmhc1,iedb_i,['pep','mhc'])\n",
    "print(len(netmhc1),len(iedb_i))\n",
    "print(len(df12),len(df1n2),len(df21),len(df2n1))"
   ]
  },
  {
   "cell_type": "code",
   "execution_count": 140,
   "id": "895d07eb",
   "metadata": {
    "hidden": true
   },
   "outputs": [
    {
     "name": "stdout",
     "output_type": "stream",
     "text": [
      "470\n",
      "2021    369\n",
      "2020     30\n",
      "2009     23\n",
      "2019     19\n",
      "1997     12\n",
      "2013     11\n",
      "2007      2\n",
      "2006      2\n",
      "1991      1\n",
      "1995      1\n",
      "Name: date, dtype: int64\n",
      "(9606, A, 02:01)    79\n",
      "(9606, B, 07:02)    53\n",
      "(9606, A, 03:01)    48\n",
      "(9606, A, 01:01)    46\n",
      "(9606, B, 44:02)    43\n",
      "(9606, A, 33:03)    38\n",
      "(9606, A, 24:02)    32\n",
      "(9606, B, 15:01)    24\n",
      "(9606, E, 01:03)    17\n",
      "(9606, A, 26:01)    14\n",
      "(10090, D, b)       12\n",
      "(9606, B, 18:01)    11\n",
      "(9606, C, 01:02)    10\n",
      "(9606, E, 01:01)     9\n",
      "(9606, B, 44:03)     8\n",
      "(9606, B, 51:01)     7\n",
      "(9606, B, 08:01)     6\n",
      "(9606, B, 14:02)     6\n",
      "(10090, K, b)        2\n",
      "(10090, K, d)        2\n",
      "(10090, K, k)        1\n",
      "(9606, A, 11:01)     1\n",
      "(9606, C, 07:01)     1\n",
      "Name: mhc, dtype: int64\n"
     ]
    },
    {
     "data": {
      "image/png": "[encoded data removed]",
      "text/plain": [
       "<Figure size 432x288 with 1 Axes>"
      ]
     },
     "metadata": {
      "needs_background": "light"
     },
     "output_type": "display_data"
    },
    {
     "name": "stdout",
     "output_type": "stream",
     "text": [
      "binders: 138 non-binders: 332\n"
     ]
    }
   ],
   "source": [
    "def check_sp(x):\n",
    "    return x[0] in ['9606','10090']\n",
    "x=df2n1[df2n1['mhc'].map(check_sp)]\n",
    "print(len(x))\n",
    "print(x['date'].value_counts())\n",
    "print(x['mhc'].value_counts())\n",
    "plt.figure()\n",
    "plt.hist(x['kd'],bins=50)\n",
    "plt.show()\n",
    "print('binders:',np.sum(x['kd']<500),'non-binders:',np.sum(x['kd']>500))"
   ]
  },
  {
   "cell_type": "markdown",
   "id": "d64f1b09",
   "metadata": {
    "heading_collapsed": true,
    "hidden": true
   },
   "source": [
    "## cl 2"
   ]
  },
  {
   "cell_type": "code",
   "execution_count": 20,
   "id": "a7a07bfb",
   "metadata": {
    "hidden": true
   },
   "outputs": [
    {
     "name": "stdout",
     "output_type": "stream",
     "text": [
      "108362 86928\n",
      "62975 45387 62975 23953\n"
     ]
    }
   ],
   "source": [
    "#5 group\n",
    "df=pd.concat([iedb_ii5[['pep','mhc_a','mhc_b']],iedb_2009[['pep','mhc_a','mhc_b']]])\n",
    "df=df.drop_duplicates()\n",
    "df12,df1n2,df21,df2n1=compare_dfs(netmhc2,df,['pep','mhc_a','mhc_b'])\n",
    "print(len(netmhc2),len(df))\n",
    "print(len(df12),len(df1n2),len(df21),len(df2n1))"
   ]
  },
  {
   "cell_type": "code",
   "execution_count": 23,
   "id": "5d90e7b8",
   "metadata": {
    "hidden": true,
    "scrolled": true
   },
   "outputs": [
    {
     "name": "stdout",
     "output_type": "stream",
     "text": [
      "13  1610\n",
      "14   686\n",
      "15 36873\n",
      "16  1656\n",
      "17   869\n",
      "18   688\n",
      "19   426\n",
      "20  2470\n",
      "21   109\n",
      "2      1\n",
      "4      1\n",
      "5      2\n",
      "6      2\n",
      "7     13\n",
      "8     32\n",
      "9     91\n",
      "10   258\n",
      "11   498\n",
      "12   560\n",
      "13   427\n",
      "14   468\n",
      "15 16819\n",
      "16  1048\n",
      "17   985\n",
      "18   399\n",
      "19   220\n",
      "20  1151\n",
      "21   476\n",
      "22    82\n",
      "23    45\n",
      "24   130\n",
      "25    37\n",
      "26    39\n",
      "27    22\n",
      "28    16\n",
      "29     9\n",
      "30    11\n",
      "31    40\n",
      "32    10\n",
      "34    20\n",
      "35    10\n",
      "37     6\n",
      "39    25\n"
     ]
    }
   ],
   "source": [
    "#look at data\n",
    "utils.print_hist(df1n2['pep'].map(len).values)\n",
    "utils.print_hist(df2n1['pep'].map(len).values)"
   ]
  },
  {
   "cell_type": "code",
   "execution_count": 151,
   "id": "76758c18",
   "metadata": {
    "hidden": true
   },
   "outputs": [
    {
     "name": "stdout",
     "output_type": "stream",
     "text": [
      "108362 67858\n",
      "51625 56737 51625 16233\n"
     ]
    }
   ],
   "source": [
    "#3 group\n",
    "df=pd.concat([iedb_ii[['pep','mhc_a','mhc_b']],iedb_2009[['pep','mhc_a','mhc_b']]])\n",
    "df=df.drop_duplicates()\n",
    "df12,df1n2,df21,df2n1=compare_dfs(netmhc2,df,['pep','mhc_a','mhc_b'])\n",
    "print(len(netmhc2),len(df))\n",
    "print(len(df12),len(df1n2),len(df21),len(df2n1))"
   ]
  },
  {
   "cell_type": "code",
   "execution_count": 146,
   "id": "76cdbb20",
   "metadata": {
    "hidden": true
   },
   "outputs": [
    {
     "name": "stdout",
     "output_type": "stream",
     "text": [
      "108362 36001\n",
      "24963 83399 24963 11038\n"
     ]
    }
   ],
   "source": [
    "#compare to iedb_ii (3 groups)\n",
    "df12,df1n2,df21,df2n1=compare_dfs(netmhc2,iedb_ii,['pep','mhc_a','mhc_b'])\n",
    "print(len(netmhc2),len(iedb_ii))\n",
    "print(len(df12),len(df1n2),len(df21),len(df2n1))"
   ]
  },
  {
   "cell_type": "code",
   "execution_count": 148,
   "id": "9b0b01a9",
   "metadata": {
    "hidden": true
   },
   "outputs": [
    {
     "data": {
      "text/plain": [
       "2014    4999\n",
       "2015    1523\n",
       "2011     985\n",
       "2009     868\n",
       "2013     405\n",
       "2006     405\n",
       "2021     390\n",
       "1993     206\n",
       "1989     202\n",
       "2019     133\n",
       "1991     119\n",
       "1992     110\n",
       "2001     108\n",
       "2008      93\n",
       "2020      82\n",
       "2002      65\n",
       "1990      47\n",
       "1994      46\n",
       "1998      39\n",
       "2016      32\n",
       "2017      27\n",
       "1997      23\n",
       "2004      22\n",
       "1996      19\n",
       "2012      16\n",
       "2000      12\n",
       "2005      12\n",
       "1988      11\n",
       "2007      10\n",
       "1995       9\n",
       "2010       8\n",
       "1999       7\n",
       "2003       3\n",
       "2018       2\n",
       "Name: date, dtype: int64"
      ]
     },
     "execution_count": 148,
     "metadata": {},
     "output_type": "execute_result"
    }
   ],
   "source": [
    "df2n1['date'].value_counts()"
   ]
  },
  {
   "cell_type": "code",
   "execution_count": 150,
   "id": "114c07e0",
   "metadata": {
    "hidden": true
   },
   "outputs": [
    {
     "data": {
      "text/plain": [
       "(9606, DQB1, 04:02)     778\n",
       "(9606, DRB1, 14:54)     776\n",
       "(9606, DRB1, 03:01)     634\n",
       "(9606, DRB1, 07:01)     617\n",
       "(9606, DRB1, 11:01)     612\n",
       "(9606, DRB1, 04:04)     479\n",
       "(9606, DRB1, 09:01)     478\n",
       "(9606, DRB1, 01:01)     477\n",
       "(9606, DRB5, 01:01)     471\n",
       "(9606, DQB1, 03:03)     401\n",
       "(9606, DRB3, 01:01)     400\n",
       "(9606, DRB1, 04:01)     383\n",
       "(9606, DRB1, 08:01)     356\n",
       "(9606, DRB3, 03:01)     343\n",
       "(9606, DQB1, 05:01)     326\n",
       "(9606, DRB4, 01:03)     317\n",
       "(9606, DRB1, 13:01)     316\n",
       "(9606, DQB1, 03:02)     316\n",
       "(9606, DQB1, 03:01)     314\n",
       "(9606, DRB3, 02:02)     247\n",
       "(9606, DRB1, 15:01)     230\n",
       "(10090, IAB, d)         204\n",
       "(9606, DRB1, 13:02)     182\n",
       "(9606, DRB1, 08:02)     168\n",
       "(9606, DRB1, 04:05)     144\n",
       "(10090, IEB, d)         139\n",
       "(9606, DRB4, 01:01)     130\n",
       "(10090, IAB, b)         102\n",
       "(10090, IAB, k)         102\n",
       "(9544, DRB, W002:01)     67\n",
       "(9606, DQB1, 06:02)      54\n",
       "(9606, DRB1, 12:01)      50\n",
       "(9606, DQB1, 06:03)      50\n",
       "(10090, IEB, k)          47\n",
       "(9606, DQB1, 02:01)      42\n",
       "(9544, DRB1, 04:06)      38\n",
       "(9606, DPB1, 01:01)      25\n",
       "(10090, IAB, s)          25\n",
       "(9606, DPB1, 05:01)      25\n",
       "(9606, DPB1, 04:02)      25\n",
       "(9606, DPB1, 04:01)      25\n",
       "(9606, DRB1, 04:02)      24\n",
       "(9606, DPB1, 02:01)      18\n",
       "(10090, IAB, u)          13\n",
       "(9606, DRB1, 11:04)      12\n",
       "(9606, DRB1, 16:01)       9\n",
       "(9606, DRB5, 01:02)       8\n",
       "(9606, DRB1, 16:02)       7\n",
       "(9606, DPB1, 03:01)       7\n",
       "(9606, DRB1, 10:01)       7\n",
       "(9606, DQB1, 02:02)       7\n",
       "(9606, DRB1, 08:03)       5\n",
       "(9606, DRB1, 08:04)       2\n",
       "(9606, DRB1, 04:11)       2\n",
       "(10090, IAB, g7)          1\n",
       "(9606, DRB1, 15:02)       1\n",
       "Name: mhc_b, dtype: int64"
      ]
     },
     "execution_count": 150,
     "metadata": {},
     "output_type": "execute_result"
    }
   ],
   "source": [
    "df2n1['mhc_b'].value_counts()"
   ]
  },
  {
   "cell_type": "markdown",
   "id": "f214f403",
   "metadata": {
    "heading_collapsed": true
   },
   "source": [
    "# make datasets"
   ]
  },
  {
   "cell_type": "markdown",
   "id": "f5335876",
   "metadata": {
    "heading_collapsed": true,
    "hidden": true
   },
   "source": [
    "## cl 1"
   ]
  },
  {
   "cell_type": "code",
   "execution_count": 2,
   "id": "8e588274",
   "metadata": {
    "hidden": true
   },
   "outputs": [
    {
     "name": "stdout",
     "output_type": "stream",
     "text": [
      "iedb\n",
      "Index(['pep', 'mhc_iedb', 'class', 'mhc', 'date', 'kd'], dtype='object')\n",
      "112766\n",
      "netmhcpan 4.1:\n",
      "Index(['pep', 'mhc', 'kd'], dtype='object')\n",
      "198001\n",
      "after ec50 excluded: 196953\n"
     ]
    }
   ],
   "source": [
    "#iedb\n",
    "iedb=pd.read_pickle('./data/pmhc_assays/iedb_pmhc_assays/assays_Kd.pckl')\n",
    "iedb_i=iedb[iedb['class']=='I']\n",
    "iedb_i=iedb_i.rename({'mhc_a':'mhc'},axis=1)\n",
    "iedb_i=iedb_i.drop('mhc_b',axis=1)\n",
    "#clip to 1-50k, to be consistent with netmhc1 training data\n",
    "iedb_i.loc[iedb_i['kd']>50000.,'kd']=50000.\n",
    "iedb_i.loc[iedb_i['kd']<1.,'kd']=1.\n",
    "print('iedb')\n",
    "print(iedb_i.columns)\n",
    "print(len(iedb_i))\n",
    "#iedb EC50\n",
    "iedb_all=pd.read_pickle('./data/pmhc_assays/iedb_pmhc_assays/assays.pckl')\n",
    "ec50=iedb_all[iedb_all['group']=='half maximal effective concentration (EC50)']\n",
    "ec50_i=ec50[ec50['class']=='I']\n",
    "ec50_pmhcs=ec50_i[['pep','mhc_a']].apply(tuple,axis=1).values\n",
    "#netmhc training data\n",
    "netmhc1=pd.read_pickle('./data/pmhc_assays/netmhcpan_i41_ii40/assays_i.pckl')\n",
    "print('netmhcpan 4.1:')\n",
    "print(netmhc1.columns)\n",
    "print(len(netmhc1))\n",
    "#exclude ec50\n",
    "netmhc1_short=netmhc1[~(netmhc1[['pep','mhc']].apply(tuple,axis=1).isin(ec50_pmhcs))]\n",
    "print('after ec50 excluded:',len(netmhc1_short))"
   ]
  },
  {
   "cell_type": "code",
   "execution_count": 3,
   "id": "6ab73c49",
   "metadata": {
    "hidden": true
   },
   "outputs": [
    {
     "name": "stdout",
     "output_type": "stream",
     "text": [
      "train: 199914 test 399\n",
      "with test excluded: train: 199914 test 399\n"
     ]
    }
   ],
   "source": [
    "#train and test sets\n",
    "def restrict_species(x):\n",
    "    return x[0]=='9606'\n",
    "#test set: IEDB, human, date>=2020, pmhc not in netmhc1 (so that netmhc test is fair)\n",
    "#train: IEDB date<2020+netmhc1_short (concat, then average), test set removed (so that my alg test is fair)\n",
    "ind_test=((iedb_i['date']>='2020')&\n",
    "          (iedb_i['mhc'].map(restrict_species))&~\n",
    "          (iedb_i[['pep','mhc']].apply(tuple,axis=1).isin(netmhc1[['pep','mhc']].apply(tuple,axis=1))))\n",
    "test=iedb_i[ind_test]\n",
    "train=pd.concat([netmhc1_short,iedb_i[~ind_test][['pep','mhc','kd']]]) #use netmhc1 with ec50 excluded\n",
    "df=train.copy()\n",
    "df['kd']=np.log(df['kd'])\n",
    "df_kd=df.groupby(['pep','mhc'])['kd'].mean().reset_index()\n",
    "df_kd['kd']=np.exp(df_kd['kd'])\n",
    "df=df.drop(['kd'],axis=1).drop_duplicates()\n",
    "train=df.merge(df_kd,on=['pep','mhc'])\n",
    "print('train:',len(train),'test',len(test))\n",
    "train=train[~train[['pep','mhc']].apply(tuple,axis=1).isin(test[['pep','mhc']].apply(tuple,axis=1))]\n",
    "print('with test excluded:','train:',len(train),'test',len(test))"
   ]
  },
  {
   "cell_type": "code",
   "execution_count": 8,
   "id": "ceec7bbf",
   "metadata": {
    "hidden": true
   },
   "outputs": [
    {
     "name": "stdout",
     "output_type": "stream",
     "text": [
      "train:\n",
      "6          1\n",
      "7          1\n",
      "8      11541\n",
      "9     139966\n",
      "10     38351\n",
      "11      9018\n",
      "12       372\n",
      "13       397\n",
      "14       232\n",
      "15        25\n",
      "16         1\n",
      "17         7\n",
      "21         1\n",
      "23         1\n",
      "Name: pep, dtype: int64\n",
      "test:\n",
      "8      25\n",
      "9     255\n",
      "10    105\n",
      "11     14\n",
      "Name: pep, dtype: int64\n"
     ]
    }
   ],
   "source": [
    "#length summary\n",
    "print('train:')\n",
    "print(train['pep'].map(len).value_counts().sort_index())\n",
    "print('test:')\n",
    "print(test['pep'].map(len).value_counts().sort_index())\n",
    "#decision: cut to 8-15, to be sure"
   ]
  },
  {
   "cell_type": "code",
   "execution_count": 9,
   "id": "d601517e",
   "metadata": {
    "hidden": true
   },
   "outputs": [
    {
     "name": "stdout",
     "output_type": "stream",
     "text": [
      "after length restriction:\n",
      "train: 199902 test 399\n"
     ]
    }
   ],
   "source": [
    "#restrict length: 8-15\n",
    "l_min,l_max=8,15\n",
    "s=train['pep'].map(len)\n",
    "train=train[(s>=l_min)&(s<=l_max)]\n",
    "s=test['pep'].map(len)\n",
    "test=test[(s>=l_min)&(s<=l_max)]\n",
    "print('after length restriction:')\n",
    "print('train:',len(train),'test',len(test))\n",
    "\n",
    "#rename mhc to mhc_a, for consistency\n",
    "train=train.rename({'mhc','mhc_a'},axis=1)\n",
    "test=test.rename({'mhc','mhc_a'},axis=1)\n",
    "\n",
    "train.to_pickle('./data/pmhc_assays/train_i.pckl')\n",
    "test.to_pickle('./data/pmhc_assays/test_i.pckl')\n",
    "\n",
    "#train 199914 test 399; test excl does nothing\n",
    "#train 199877 test 399\n",
    "\n",
    "#199902, 399 (len 14->15)"
   ]
  },
  {
   "cell_type": "code",
   "execution_count": 10,
   "id": "c890ca5f",
   "metadata": {
    "hidden": true
   },
   "outputs": [
    {
     "data": {
      "image/png": "[encoded data removed]",
      "text/plain": [
       "<Figure size 720x360 with 2 Axes>"
      ]
     },
     "metadata": {
      "needs_background": "light"
     },
     "output_type": "display_data"
    }
   ],
   "source": [
    "plt.figure(figsize=(10,5))\n",
    "plt.subplot(121)\n",
    "plt.hist(np.log(train['kd'])/np.log(10),bins=50,histtype='step',density=True)\n",
    "plt.xlim(-2,7)\n",
    "plt.axvline(np.log(500)/np.log(10))\n",
    "plt.title('train')\n",
    "plt.subplot(122)\n",
    "plt.hist(np.log(test['kd'])/np.log(10),bins=50,histtype='step',density=True)\n",
    "plt.xlim(-2,7)\n",
    "plt.axvline(np.log(500)/np.log(10))\n",
    "plt.title('test')\n",
    "plt.show()"
   ]
  },
  {
   "cell_type": "code",
   "execution_count": 11,
   "id": "2c5f1150",
   "metadata": {
    "hidden": true
   },
   "outputs": [
    {
     "data": {
      "text/plain": [
       "(9606, A, 02:01)    55\n",
       "(9606, B, 07:02)    47\n",
       "(9606, A, 01:01)    46\n",
       "(9606, B, 44:02)    43\n",
       "(9606, A, 03:01)    39\n",
       "(9606, A, 33:03)    38\n",
       "(9606, A, 24:02)    32\n",
       "(9606, B, 15:01)    20\n",
       "(9606, A, 26:01)    14\n",
       "(9606, B, 18:01)    11\n",
       "(9606, C, 01:02)    10\n",
       "(9606, E, 01:01)     9\n",
       "(9606, B, 44:03)     8\n",
       "(9606, B, 51:01)     7\n",
       "(9606, B, 14:02)     6\n",
       "(9606, B, 08:01)     6\n",
       "(9606, E, 01:03)     6\n",
       "(9606, C, 07:01)     1\n",
       "(9606, A, 11:01)     1\n",
       "Name: mhc, dtype: int64"
      ]
     },
     "execution_count": 11,
     "metadata": {},
     "output_type": "execute_result"
    }
   ],
   "source": [
    "test['mhc_a'].value_counts()"
   ]
  },
  {
   "cell_type": "markdown",
   "id": "0563844a",
   "metadata": {
    "heading_collapsed": true,
    "hidden": true
   },
   "source": [
    "## cl 2"
   ]
  },
  {
   "cell_type": "code",
   "execution_count": 12,
   "id": "918c304a",
   "metadata": {
    "hidden": true
   },
   "outputs": [
    {
     "name": "stdout",
     "output_type": "stream",
     "text": [
      "iedb\n",
      "Index(['pep', 'mhc_iedb', 'class', 'mhc_a', 'mhc_b', 'date', 'kd'], dtype='object')\n",
      "36001\n",
      "ec50: 345\n",
      "netmhcpan 4.0:\n",
      "Index(['pep', 'mhc_a', 'mhc_b', 'kd'], dtype='object')\n",
      "108362\n",
      "after ec50 excluded: 108249\n",
      "after excluding DQ4:\n",
      "104202\n"
     ]
    }
   ],
   "source": [
    "#iedb\n",
    "iedb=pd.read_pickle('./data/pmhc_assays/iedb_pmhc_assays/assays_Kd.pckl')\n",
    "iedb_ii=iedb[iedb['class']=='II'].copy()\n",
    "#clip to 1-50k, to be consistent with netmhc2 after merging\n",
    "iedb_ii.loc[iedb_ii['kd']>50000.,'kd']=50000.\n",
    "iedb_ii.loc[iedb_ii['kd']<1.,'kd']=1.\n",
    "print('iedb')\n",
    "print(iedb_ii.columns)\n",
    "print(len(iedb_ii))\n",
    "#iedb EC50\n",
    "iedb_all=pd.read_pickle('./data/pmhc_assays/iedb_pmhc_assays/assays.pckl')\n",
    "ec50=iedb_all[iedb_all['group']=='half maximal effective concentration (EC50)']\n",
    "ec50_ii=ec50[ec50['class']=='II']\n",
    "ec50_pmhcs=ec50_ii[['pep','mhc_a','mhc_b']].apply(tuple,axis=1).values\n",
    "print('ec50:',len(ec50_pmhcs))\n",
    "#netmhc training data\n",
    "netmhc2=pd.read_pickle('./data/pmhc_assays/netmhcpan_i41_ii40/assays_ii.pckl')\n",
    "print('netmhcpan 4.0:')\n",
    "print(netmhc2.columns)\n",
    "print(len(netmhc2))\n",
    "#exclude ec50\n",
    "netmhc2_short=netmhc2[~(netmhc2[['pep','mhc_a','mhc_b']].apply(tuple,axis=1).isin(ec50_pmhcs))]\n",
    "print('after ec50 excluded:',len(netmhc2_short))\n",
    "#exclude DQ4\n",
    "##according to the readme in v.4.1, an error in DQ4 data was fixed;\n",
    "##since don't know if the downloadable dataset was updated, better exclude DQ4\n",
    "def dq4(x):\n",
    "    return x[0]=='9606' and x[1].startswith('DQB1') and x[2].startswith('04')\n",
    "netmhc2_short=netmhc2_short[~(netmhc2_short['mhc_b'].map(dq4))]\n",
    "print('after excluding DQ4:')\n",
    "print(len(netmhc2_short))    "
   ]
  },
  {
   "cell_type": "code",
   "execution_count": 13,
   "id": "4d491f6f",
   "metadata": {
    "hidden": true,
    "scrolled": true
   },
   "outputs": [
    {
     "name": "stdout",
     "output_type": "stream",
     "text": [
      "13     2561\n",
      "14     1182\n",
      "15    92384\n",
      "16     3829\n",
      "17     2276\n",
      "18     1488\n",
      "19      627\n",
      "20     3755\n",
      "21      260\n",
      "Name: pep, dtype: int64\n",
      "2         1\n",
      "4         1\n",
      "6         1\n",
      "7         6\n",
      "8        14\n",
      "9        40\n",
      "10       42\n",
      "11      196\n",
      "12      163\n",
      "13      176\n",
      "14      207\n",
      "15    31300\n",
      "16      976\n",
      "17     1358\n",
      "18      389\n",
      "19       76\n",
      "20      591\n",
      "21      414\n",
      "22       11\n",
      "23        9\n",
      "24       16\n",
      "25        9\n",
      "27        3\n",
      "31        2\n",
      "Name: pep, dtype: int64\n"
     ]
    }
   ],
   "source": [
    "print(netmhc2['pep'].map(len).value_counts().sort_index())\n",
    "print(iedb_ii['pep'].map(len).value_counts().sort_index())"
   ]
  },
  {
   "cell_type": "code",
   "execution_count": 14,
   "id": "67440f1f",
   "metadata": {
    "hidden": true
   },
   "outputs": [
    {
     "name": "stdout",
     "output_type": "stream",
     "text": [
      "train: 115865 test 472\n",
      "after test exclusion: train: 115864 test 472\n"
     ]
    }
   ],
   "source": [
    "#train and test sets\n",
    "\n",
    "#test set: IEDB, date>=2020, pmhc not in netmhc2 (so test of netmhc is fair), (all these are human)\n",
    "#train: iedb<2020, netmhc2_short, with test set excluded (so test of my alg is fair)\n",
    "ind_test=((iedb_ii['date']>='2020')&~\n",
    "          (iedb_ii[['pep','mhc_a','mhc_b']].apply(tuple,axis=1).isin(netmhc2[['pep','mhc_a','mhc_b']].apply(tuple,axis=1))))\n",
    "test=iedb_ii[ind_test]\n",
    "train=pd.concat([netmhc2_short,iedb_ii[~ind_test][['pep','mhc_a','mhc_b','kd']]]) #use netmhc2_short here!\n",
    "df=train.copy()\n",
    "df['kd']=np.log(df['kd'])\n",
    "df_kd=df.groupby(['pep','mhc_a','mhc_b'])['kd'].mean().reset_index()\n",
    "df_kd['kd']=np.exp(df_kd['kd'])\n",
    "df=df.drop(['kd'],axis=1).drop_duplicates()\n",
    "train=df.merge(df_kd,on=['pep','mhc_a','mhc_b'])\n",
    "print('train:',len(train),'test',len(test))\n",
    "train=train[~train[['pep','mhc_a','mhc_b']].apply(tuple,axis=1).isin(test[['pep','mhc_a','mhc_b']].apply(tuple,axis=1))]\n",
    "print('after test exclusion:','train:',len(train),'test',len(test))"
   ]
  },
  {
   "cell_type": "code",
   "execution_count": 15,
   "id": "903ee88a",
   "metadata": {
    "hidden": true,
    "scrolled": true
   },
   "outputs": [
    {
     "name": "stdout",
     "output_type": "stream",
     "text": [
      "train:\n",
      "2         1\n",
      "4         1\n",
      "6         1\n",
      "7         6\n",
      "8        14\n",
      "9        40\n",
      "10       42\n",
      "11      196\n",
      "12      149\n",
      "13     2637\n",
      "14     1289\n",
      "15    97797\n",
      "16     4202\n",
      "17     2694\n",
      "18     1580\n",
      "19      647\n",
      "20     3907\n",
      "21      611\n",
      "22       11\n",
      "23        9\n",
      "24       16\n",
      "25        9\n",
      "27        3\n",
      "31        2\n",
      "Name: pep, dtype: int64\n",
      "test:\n",
      "12     14\n",
      "13     17\n",
      "14      2\n",
      "15    334\n",
      "16     14\n",
      "17     14\n",
      "18     58\n",
      "20     19\n",
      "Name: pep, dtype: int64\n"
     ]
    }
   ],
   "source": [
    "#length summary\n",
    "print('train:')\n",
    "print(train['pep'].map(len).value_counts().sort_index())\n",
    "print('test:')\n",
    "print(test['pep'].map(len).value_counts().sort_index())\n",
    "#decision: cut to 9-25"
   ]
  },
  {
   "cell_type": "code",
   "execution_count": 16,
   "id": "d2d87f06",
   "metadata": {
    "hidden": true
   },
   "outputs": [
    {
     "name": "stdout",
     "output_type": "stream",
     "text": [
      "after length restriction:\n",
      "train: 115836 test 472\n"
     ]
    }
   ],
   "source": [
    "#restrict length: 9-25\n",
    "l_min,l_max=9,25\n",
    "s=train['pep'].map(len)\n",
    "train=train[(s>=l_min)&(s<=l_max)]\n",
    "s=test['pep'].map(len)\n",
    "test=test[(s>=l_min)&(s<=l_max)]\n",
    "print('after length restriction:')\n",
    "print('train:',len(train),'test',len(test))\n",
    "train.to_pickle('./data/pmhc_assays/train_ii.pckl')\n",
    "test.to_pickle('./data/pmhc_assays/test_ii.pckl')\n",
    "\n",
    "#train: 115865 test 472\n",
    "#excl test -> 115864\n",
    "#len resticted\n",
    "#train: 115802 test 472\n",
    "\n",
    "#len 9-25: \n",
    "#115836,472"
   ]
  },
  {
   "cell_type": "code",
   "execution_count": 17,
   "id": "08222aab",
   "metadata": {
    "hidden": true
   },
   "outputs": [
    {
     "name": "stdout",
     "output_type": "stream",
     "text": [
      "1864\n"
     ]
    }
   ],
   "source": [
    "#check DQ4 still present (coming from iedb)\n",
    "print(np.sum(train['mhc_b'].map(dq4).values))"
   ]
  },
  {
   "cell_type": "code",
   "execution_count": 18,
   "id": "2decd867",
   "metadata": {
    "hidden": true
   },
   "outputs": [
    {
     "data": {
      "image/png": "[encoded data removed]",
      "text/plain": [
       "<Figure size 720x360 with 2 Axes>"
      ]
     },
     "metadata": {
      "needs_background": "light"
     },
     "output_type": "display_data"
    }
   ],
   "source": [
    "plt.figure(figsize=(10,5))\n",
    "plt.subplot(121)\n",
    "plt.hist(np.log(train['kd'])/np.log(10),bins=50,histtype='step',density=True)\n",
    "plt.xlim(-2,7)\n",
    "plt.axvline(np.log(500)/np.log(10))\n",
    "plt.title('train')\n",
    "plt.subplot(122)\n",
    "plt.hist(np.log(test['kd'])/np.log(10),bins=50,histtype='step',density=True)\n",
    "plt.xlim(-2,7)\n",
    "plt.axvline(np.log(500)/np.log(10))\n",
    "plt.title('test')\n",
    "plt.show()"
   ]
  },
  {
   "cell_type": "code",
   "execution_count": 19,
   "id": "29b7d897",
   "metadata": {
    "hidden": true,
    "scrolled": true
   },
   "outputs": [
    {
     "name": "stdout",
     "output_type": "stream",
     "text": [
      "(9606, DRA, 01:01)     429\n",
      "(9606, DQA1, 05:01)     14\n",
      "(9606, DQA1, 01:02)      8\n",
      "(9606, DQA1, 01:01)      7\n",
      "(9606, DQA1, 02:01)      7\n",
      "(9606, DQA1, 03:01)      7\n",
      "Name: mhc_a, dtype: int64\n",
      "\n",
      "(9606, DRB1, 04:01)    80\n",
      "(9606, DRB1, 03:01)    27\n",
      "(9606, DRB1, 07:01)    27\n",
      "(9606, DRB1, 11:01)    27\n",
      "(9606, DRB1, 08:02)    25\n",
      "(9606, DRB1, 09:01)    25\n",
      "(9606, DRB1, 13:02)    25\n",
      "(9606, DRB1, 04:02)    24\n",
      "(9606, DRB1, 01:01)    23\n",
      "(9606, DRB1, 15:01)    20\n",
      "(9606, DRB3, 02:02)    18\n",
      "(9606, DRB5, 01:01)    18\n",
      "(9606, DRB4, 01:01)    18\n",
      "(9606, DRB3, 01:01)    18\n",
      "(9606, DRB1, 12:01)    18\n",
      "(9606, DRB1, 04:05)    18\n",
      "(9606, DQB1, 03:01)    14\n",
      "(9606, DQB1, 06:02)     8\n",
      "(9606, DQB1, 05:01)     7\n",
      "(9606, DQB1, 02:02)     7\n",
      "(9606, DQB1, 02:01)     7\n",
      "(9606, DRB1, 04:04)     7\n",
      "(9606, DRB1, 11:04)     7\n",
      "(9606, DRB1, 08:01)     2\n",
      "(9606, DRB1, 13:01)     2\n",
      "Name: mhc_b, dtype: int64\n"
     ]
    }
   ],
   "source": [
    "print(test['mhc_a'].value_counts())\n",
    "print()\n",
    "print(test['mhc_b'].value_counts())"
   ]
  },
  {
   "cell_type": "markdown",
   "id": "d440fdee",
   "metadata": {
    "heading_collapsed": true
   },
   "source": [
    "# cluster and split"
   ]
  },
  {
   "cell_type": "code",
   "execution_count": 20,
   "id": "bd0288b7",
   "metadata": {
    "hidden": true,
    "scrolled": true
   },
   "outputs": [
    {
     "name": "stdout",
     "output_type": "stream",
     "text": [
      "199902\n",
      "Index(['pep', 'mhc', 'kd'], dtype='object')\n",
      "115836\n",
      "Index(['pep', 'mhc_a', 'mhc_b', 'kd'], dtype='object')\n",
      "399\n",
      "(9606, A, 02:01)    55\n",
      "(9606, B, 07:02)    47\n",
      "(9606, A, 01:01)    46\n",
      "(9606, B, 44:02)    43\n",
      "(9606, A, 03:01)    39\n",
      "(9606, A, 33:03)    38\n",
      "(9606, A, 24:02)    32\n",
      "(9606, B, 15:01)    20\n",
      "(9606, A, 26:01)    14\n",
      "(9606, B, 18:01)    11\n",
      "(9606, C, 01:02)    10\n",
      "(9606, E, 01:01)     9\n",
      "(9606, B, 44:03)     8\n",
      "(9606, B, 51:01)     7\n",
      "(9606, B, 14:02)     6\n",
      "(9606, B, 08:01)     6\n",
      "(9606, E, 01:03)     6\n",
      "(9606, C, 07:01)     1\n",
      "(9606, A, 11:01)     1\n",
      "Name: mhc, dtype: int64\n",
      "472\n",
      "((9606, DRA, 01:01), (9606, DRB1, 04:01))     80\n",
      "((9606, DRA, 01:01), (9606, DRB1, 03:01))     27\n",
      "((9606, DRA, 01:01), (9606, DRB1, 07:01))     27\n",
      "((9606, DRA, 01:01), (9606, DRB1, 11:01))     27\n",
      "((9606, DRA, 01:01), (9606, DRB1, 08:02))     25\n",
      "((9606, DRA, 01:01), (9606, DRB1, 09:01))     25\n",
      "((9606, DRA, 01:01), (9606, DRB1, 13:02))     25\n",
      "((9606, DRA, 01:01), (9606, DRB1, 04:02))     24\n",
      "((9606, DRA, 01:01), (9606, DRB1, 01:01))     23\n",
      "((9606, DRA, 01:01), (9606, DRB1, 15:01))     20\n",
      "((9606, DRA, 01:01), (9606, DRB5, 01:01))     18\n",
      "((9606, DRA, 01:01), (9606, DRB4, 01:01))     18\n",
      "((9606, DRA, 01:01), (9606, DRB3, 02:02))     18\n",
      "((9606, DRA, 01:01), (9606, DRB3, 01:01))     18\n",
      "((9606, DRA, 01:01), (9606, DRB1, 12:01))     18\n",
      "((9606, DRA, 01:01), (9606, DRB1, 04:05))     18\n",
      "((9606, DQA1, 01:02), (9606, DQB1, 06:02))     8\n",
      "((9606, DQA1, 01:01), (9606, DQB1, 05:01))     7\n",
      "((9606, DQA1, 02:01), (9606, DQB1, 02:02))     7\n",
      "((9606, DQA1, 05:01), (9606, DQB1, 02:01))     7\n",
      "((9606, DQA1, 05:01), (9606, DQB1, 03:01))     7\n",
      "((9606, DRA, 01:01), (9606, DRB1, 04:04))      7\n",
      "((9606, DQA1, 03:01), (9606, DQB1, 03:01))     7\n",
      "((9606, DRA, 01:01), (9606, DRB1, 11:04))      7\n",
      "((9606, DRA, 01:01), (9606, DRB1, 08:01))      2\n",
      "((9606, DRA, 01:01), (9606, DRB1, 13:01))      2\n",
      "dtype: int64\n"
     ]
    }
   ],
   "source": [
    "with open('./data/pmhc_assays/train_i.pckl','rb') as f:\n",
    "    train_i=pickle.load(f)\n",
    "print(len(train_i))\n",
    "print(train_i.columns)\n",
    "with open('./data/pmhc_assays/train_ii.pckl','rb') as f:\n",
    "    train_ii=pickle.load(f)\n",
    "print(len(train_ii))\n",
    "print(train_ii.columns)\n",
    "with open('./data/pmhc_assays/test_i.pckl','rb') as f:\n",
    "    test_i=pickle.load(f)\n",
    "print(len(test_i))\n",
    "print(test_i['mhc_a'].value_counts())\n",
    "with open('./data/pmhc_assays/test_ii.pckl','rb') as f:\n",
    "    test_ii=pickle.load(f)\n",
    "print(len(test_ii))\n",
    "print(test_ii[['mhc_a','mhc_b']].apply(tuple,axis=1).value_counts())"
   ]
  },
  {
   "cell_type": "markdown",
   "id": "2a37ed6e",
   "metadata": {
    "hidden": true
   },
   "source": [
    "## cluster mhcs"
   ]
  },
  {
   "cell_type": "markdown",
   "id": "d48fdf6e",
   "metadata": {
    "hidden": true
   },
   "source": [
    "### cl I"
   ]
  },
  {
   "cell_type": "code",
   "execution_count": 4,
   "id": "3c914fe3",
   "metadata": {
    "hidden": true
   },
   "outputs": [
    {
     "name": "stdout",
     "output_type": "stream",
     "text": [
      "161\n",
      "distances computed in 34.720399379730225\n"
     ]
    }
   ],
   "source": [
    "df=train_i\n",
    "\n",
    "#make df with sequences aligned by pdbnum\n",
    "df_mhcs=None\n",
    "for x in df['mhc_a'].unique():\n",
    "    y=seq_tools.mhcs[x].data\n",
    "    c_df=pd.DataFrame(y['seq'],index=y['pdbnum'],columns=[x])\n",
    "    if df_mhcs is None:\n",
    "        df_mhcs=c_df\n",
    "    else:\n",
    "        df_mhcs=df_mhcs.merge(c_df,how='outer',left_index=True,right_index=True)\n",
    "df_mhcs=df_mhcs.fillna('X')\n",
    "print(len(df_mhcs.columns))\n",
    "\n",
    "#make distance matrix\n",
    "t0=time.time()\n",
    "mhc_dist={}\n",
    "for k1,k2 in itertools.combinations(df_mhcs.columns,2):\n",
    "    mhc_dist[k1,k2]=len(df_mhcs)-np.sum(df_mhcs.apply((lambda x:x[k1]==x[k2]),axis=1).values)\n",
    "print(f'distances computed in {time.time()-t0}')"
   ]
  },
  {
   "cell_type": "code",
   "execution_count": 5,
   "id": "413e18c7",
   "metadata": {
    "hidden": true,
    "scrolled": true
   },
   "outputs": [
    {
     "data": {
      "image/png": "[encoded data removed]",
      "text/plain": [
       "<Figure size 432x288 with 1 Axes>"
      ]
     },
     "metadata": {
      "needs_background": "light"
     },
     "output_type": "display_data"
    },
    {
     "name": "stdout",
     "output_type": "stream",
     "text": [
      "total clusters: 102\n"
     ]
    },
    {
     "data": {
      "image/png": "[encoded data removed]",
      "text/plain": [
       "<Figure size 432x288 with 1 Axes>"
      ]
     },
     "metadata": {
      "needs_background": "light"
     },
     "output_type": "display_data"
    }
   ],
   "source": [
    "%matplotlib inline\n",
    "col=df_mhcs.columns\n",
    "dist_matrix=np.zeros((len(col),len(col))) #symmetric distance matrix\n",
    "for i,x in enumerate(col):\n",
    "    for j,y in enumerate(col):\n",
    "        dist_matrix[i,j]=mhc_dist.get((x,y)) or mhc_dist.get((y,x)) or 0         \n",
    "dist_matrix=squareform(dist_matrix)           #condensed distance matrix  \n",
    "Z=cluster.hierarchy.linkage(dist_matrix,method='single')\n",
    "#plot cluster number vs cutoff\n",
    "sizes=[len(np.unique(cluster.hierarchy.cut_tree(Z,height=d))) for d in range(30)]\n",
    "plt.figure()\n",
    "plt.plot(sizes)\n",
    "plt.grid()\n",
    "plt.show()\n",
    "#set threshold\n",
    "d=5\n",
    "ZZ=cluster.hierarchy.cut_tree(Z,height=d)\n",
    "cluster_list=[np.nonzero(ZZ==x)[0] for x in range(len(np.unique(ZZ)))] #clusters in order id=0, id=1, ...\n",
    "print('total clusters:',len(cluster_list))\n",
    "#cluster length distrib\n",
    "plt.figure()\n",
    "plt.hist([len(x) for x in cluster_list],bins=-0.5+np.arange(15))\n",
    "plt.show()"
   ]
  },
  {
   "cell_type": "code",
   "execution_count": 6,
   "id": "f2114734",
   "metadata": {
    "hidden": true,
    "scrolled": true
   },
   "outputs": [
    {
     "data": {
      "image/png": "[encoded data removed]",
      "text/plain": [
       "<Figure size 1080x720 with 1 Axes>"
      ]
     },
     "metadata": {
      "needs_background": "light"
     },
     "output_type": "display_data"
    }
   ],
   "source": [
    "#%matplotlib notebook\n",
    "plt.figure(figsize=(15,10))\n",
    "cluster.hierarchy.dendrogram(Z,orientation='bottom',labels=col,color_threshold=d)\n",
    "plt.show()"
   ]
  },
  {
   "cell_type": "code",
   "execution_count": 19,
   "id": "4d46c79b",
   "metadata": {
    "hidden": true
   },
   "outputs": [],
   "source": [
    "#save\n",
    "cluster_list_mhcs=[]\n",
    "for c in cluster_list:\n",
    "    cluster_list_mhcs.append([df_mhcs.columns[x] for x in c])\n",
    "with open('./data/pmhc_assays/train_clustered/mhc_clusters_i.pckl','wb') as f:\n",
    "    pickle.dump(cluster_list_mhcs,f)"
   ]
  },
  {
   "cell_type": "markdown",
   "id": "dc251790",
   "metadata": {
    "heading_collapsed": true,
    "hidden": true
   },
   "source": [
    "### cl II"
   ]
  },
  {
   "cell_type": "code",
   "execution_count": 25,
   "id": "1decd6f8",
   "metadata": {
    "hidden": true
   },
   "outputs": [
    {
     "name": "stdout",
     "output_type": "stream",
     "text": [
      "83\n",
      "83\n",
      "distances computed in 8.707979440689087\n"
     ]
    }
   ],
   "source": [
    "mhc_ab=train_ii[['mhc_a','mhc_b']].apply(tuple,axis=1).unique()\n",
    "print(len(mhc_ab))\n",
    "\n",
    "#make df with sequences aligned by pdbnum\n",
    "df_mhcs=None\n",
    "for x in mhc_ab:\n",
    "    y=np.concatenate([seq_tools.mhcs[x[0]].data,seq_tools.mhcs[x[1]].data])\n",
    "    c_df=pd.DataFrame(y['seq'],index=y['pdbnum'],columns=[x])\n",
    "    if df_mhcs is None:\n",
    "        df_mhcs=c_df\n",
    "    else:\n",
    "        df_mhcs=df_mhcs.merge(c_df,how='outer',left_index=True,right_index=True)\n",
    "df_mhcs=df_mhcs.fillna('X')\n",
    "print(len(df_mhcs.columns))\n",
    "\n",
    "#make distance matrix\n",
    "t0=time.time()\n",
    "mhc_dist={}\n",
    "for k1,k2 in itertools.combinations(df_mhcs.columns,2):\n",
    "    mhc_dist[k1,k2]=len(df_mhcs)-np.sum(df_mhcs.apply((lambda x:x[k1]==x[k2]),axis=1).values)\n",
    "print(f'distances computed in {time.time()-t0}')"
   ]
  },
  {
   "cell_type": "code",
   "execution_count": 27,
   "id": "e7213d29",
   "metadata": {
    "hidden": true
   },
   "outputs": [
    {
     "data": {
      "image/png": "[encoded data removed]",
      "text/plain": [
       "<Figure size 432x288 with 1 Axes>"
      ]
     },
     "metadata": {
      "needs_background": "light"
     },
     "output_type": "display_data"
    },
    {
     "name": "stdout",
     "output_type": "stream",
     "text": [
      "total clusters: 45\n"
     ]
    },
    {
     "data": {
      "image/png": "[encoded data removed]",
      "text/plain": [
       "<Figure size 432x288 with 1 Axes>"
      ]
     },
     "metadata": {
      "needs_background": "light"
     },
     "output_type": "display_data"
    }
   ],
   "source": [
    "%matplotlib inline\n",
    "col=df_mhcs.columns\n",
    "dist_matrix=np.zeros((len(col),len(col))) #symmetric distance matrix\n",
    "for i,x in enumerate(col):\n",
    "    for j,y in enumerate(col):\n",
    "        dist_matrix[i,j]=mhc_dist.get((x,y)) or mhc_dist.get((y,x)) or 0         \n",
    "dist_matrix=squareform(dist_matrix)           #condensed distance matrix  \n",
    "Z=cluster.hierarchy.linkage(dist_matrix,method='single')\n",
    "#plot cluster number vs cutoff\n",
    "sizes=[len(np.unique(cluster.hierarchy.cut_tree(Z,height=d))) for d in range(30)]\n",
    "plt.figure()\n",
    "plt.plot(sizes)\n",
    "plt.grid()\n",
    "plt.show()\n",
    "#set threshold\n",
    "d=5\n",
    "ZZ=cluster.hierarchy.cut_tree(Z,height=d)\n",
    "cluster_list=[np.nonzero(ZZ==x)[0] for x in range(len(np.unique(ZZ)))] #clusters in order id=0, id=1, ...\n",
    "print('total clusters:',len(cluster_list))\n",
    "#cluster length distrib\n",
    "plt.figure()\n",
    "plt.hist([len(x) for x in cluster_list],bins=-0.5+np.arange(15))\n",
    "plt.show()"
   ]
  },
  {
   "cell_type": "code",
   "execution_count": 28,
   "id": "457ba6e3",
   "metadata": {
    "hidden": true,
    "scrolled": true
   },
   "outputs": [
    {
     "data": {
      "image/png": "[encoded data removed]",
      "text/plain": [
       "<Figure size 1080x720 with 1 Axes>"
      ]
     },
     "metadata": {
      "needs_background": "light"
     },
     "output_type": "display_data"
    }
   ],
   "source": [
    "#%matplotlib notebook\n",
    "plt.figure(figsize=(15,10))\n",
    "cluster.hierarchy.dendrogram(Z,orientation='bottom',labels=col,color_threshold=d)\n",
    "plt.show()"
   ]
  },
  {
   "cell_type": "code",
   "execution_count": 29,
   "id": "8d36581a",
   "metadata": {
    "hidden": true
   },
   "outputs": [],
   "source": [
    "#save\n",
    "cluster_list_mhcs=[]\n",
    "for c in cluster_list:\n",
    "    cluster_list_mhcs.append([df_mhcs.columns[x] for x in c])\n",
    "with open('./data/pmhc_assays/train_clustered/mhc_clusters_ii.pckl','wb') as f:\n",
    "    pickle.dump(cluster_list_mhcs,f)"
   ]
  },
  {
   "cell_type": "markdown",
   "id": "87254c6b",
   "metadata": {
    "heading_collapsed": true,
    "hidden": true
   },
   "source": [
    "## cluster peps"
   ]
  },
  {
   "cell_type": "code",
   "execution_count": 21,
   "id": "2acb439e",
   "metadata": {
    "hidden": true
   },
   "outputs": [
    {
     "name": "stdout",
     "output_type": "stream",
     "text": [
      "cl 1\n",
      "mhcs: 161\n",
      "clusters: 102\n",
      "cl 2\n",
      "mhcs: 83\n",
      "clusters: 45\n"
     ]
    }
   ],
   "source": [
    "#load mhc clusters\n",
    "with open('./data/pmhc_assays/train_clustered/mhc_clusters_i.pckl','rb') as f:\n",
    "    mhc_clusters_i=pickle.load(f)\n",
    "mhc_to_cluster_i={}\n",
    "for i,c in enumerate(mhc_clusters_i):\n",
    "    for x in c:\n",
    "        mhc_to_cluster_i[x]=i\n",
    "print('cl 1')\n",
    "print('mhcs:',len(mhc_to_cluster_i))\n",
    "print('clusters:',len(mhc_clusters_i))\n",
    "with open('./data/pmhc_assays/train_clustered/mhc_clusters_ii.pckl','rb') as f:\n",
    "    mhc_clusters_ii=pickle.load(f)\n",
    "mhc_to_cluster_ii={}\n",
    "for i,c in enumerate(mhc_clusters_ii):\n",
    "    for x in c:\n",
    "        mhc_to_cluster_ii[x]=i\n",
    "print('cl 2')\n",
    "print('mhcs:',len(mhc_to_cluster_ii))\n",
    "print('clusters:',len(mhc_clusters_ii))"
   ]
  },
  {
   "cell_type": "markdown",
   "id": "8301edce",
   "metadata": {
    "hidden": true
   },
   "source": [
    "## cl 1"
   ]
  },
  {
   "cell_type": "code",
   "execution_count": 22,
   "id": "9ccceb9c",
   "metadata": {
    "hidden": true
   },
   "outputs": [
    {
     "data": {
      "image/png": "[encoded data removed]",
      "text/plain": [
       "<Figure size 432x288 with 1 Axes>"
      ]
     },
     "metadata": {
      "needs_background": "light"
     },
     "output_type": "display_data"
    },
    {
     "name": "stdout",
     "output_type": "stream",
     "text": [
      "7 35233 [('9606', 'A', '02:01'), ('9606', 'A', '02:02'), ('9606', 'A', '02:03'), ('9606', 'A', '02:06'), ('9606', 'A', '02:11'), ('9606', 'A', '02:12'), ('9606', 'A', '02:16'), ('9606', 'A', '02:19'), ('9606', 'A', '02:17'), ('9606', 'A', '02:05'), ('9606', 'A', '02:07'), ('9606', 'A', '02:10'), ('9606', 'A', '02:04')]\n",
      "8 9751 [('9606', 'A', '68:02'), ('9606', 'A', '68:01'), ('9606', 'A', '68:23')]\n",
      "9 7840 [('9606', 'A', '03:01'), ('9606', 'A', '03:19'), ('9606', 'A', '03:02')]\n",
      "10 7600 [('9606', 'A', '23:01'), ('9606', 'A', '24:03'), ('9606', 'A', '24:02')]\n",
      "12 6336 [('9606', 'A', '26:01'), ('9606', 'A', '66:01'), ('9606', 'A', '26:02'), ('9606', 'A', '26:03')]\n",
      "17 5532 [('9606', 'B', '27:03'), ('9606', 'B', '27:05'), ('9606', 'B', '27:20'), ('9606', 'B', '27:01'), ('9606', 'B', '27:04'), ('9606', 'B', '27:06'), ('9606', 'B', '27:02'), ('9606', 'B', '27:09'), ('9606', 'B', '27:10')]\n",
      "20 6952 [('9606', 'B', '57:01'), ('9606', 'B', '58:01'), ('9606', 'B', '57:03'), ('9606', 'B', '58:02'), ('9606', 'B', '57:02')]\n",
      "24 9495 [('9606', 'A', '33:01'), ('9606', 'A', '31:01')]\n",
      "25 6689 [('9606', 'A', '11:01'), ('9606', 'A', '11:02')]\n",
      "27 6373 [('9606', 'B', '15:01'), ('9606', 'B', '15:03'), ('9606', 'B', '15:09'), ('9606', 'B', '15:10')]\n",
      "31 5146 [('9606', 'A', '30:02'), ('9606', 'A', '30:01')]\n"
     ]
    }
   ],
   "source": [
    "df=train_i\n",
    "assay_ids=[] #indices of assays, for each mhc cluster\n",
    "for c in mhc_clusters_i:\n",
    "    assay_ids.append(np.nonzero(df['mhc_a'].isin(c).values)[0])     \n",
    "plt.figure()\n",
    "plt.hist([len(x) for x in assay_ids],bins=100,histtype='step')\n",
    "plt.show()    \n",
    "for i,x in enumerate(assay_ids):\n",
    "    if len(x)>5000:\n",
    "        print(i,len(x),mhc_clusters_i[i])"
   ]
  },
  {
   "cell_type": "code",
   "execution_count": 23,
   "id": "fb1e0d42",
   "metadata": {
    "hidden": true,
    "scrolled": true
   },
   "outputs": [
    {
     "name": "stdout",
     "output_type": "stream",
     "text": [
      "55157 199902\n",
      "histogram:\n",
      "1 27329\n",
      "2 10740\n",
      "3 2817\n",
      "4 1163\n",
      "5 5909\n",
      "6 1925\n",
      "7 525\n",
      "8 359\n",
      "9 185\n",
      "10 199\n",
      "11 416\n",
      "12 129\n",
      "13 142\n",
      "14 93\n",
      "15 110\n",
      "16 261\n",
      "17 322\n",
      "18 224\n",
      "19 174\n",
      "20 169\n",
      "21 121\n",
      "22 132\n",
      "23 179\n",
      "24 230\n",
      "25 150\n",
      "26 175\n",
      "27 212\n",
      "28 98\n",
      "29 57\n",
      "30 138\n",
      "31 62\n",
      "32 50\n",
      "33 32\n",
      "34 59\n",
      "35 20\n",
      "36 31\n",
      "37 21\n",
      "38 73\n",
      "39 34\n",
      "40 19\n",
      "41 7\n",
      "42 4\n",
      "43 4\n",
      "44 4\n",
      "45 1\n",
      "47 1\n",
      "53 19\n",
      "54 15\n",
      "55 9\n",
      "56 5\n",
      "57 2\n",
      "60 1\n",
      "62 1\n"
     ]
    }
   ],
   "source": [
    "#peptide occurence numbers\n",
    "pep_counts=train_i['pep'].value_counts()\n",
    "print(len(pep_counts),len(train_i))\n",
    "print('histogram:')\n",
    "for n in np.sort(np.unique(pep_counts.values)):\n",
    "    print(n,np.sum(pep_counts==n))"
   ]
  },
  {
   "cell_type": "code",
   "execution_count": 24,
   "id": "3141d929",
   "metadata": {
    "hidden": true
   },
   "outputs": [
    {
     "name": "stdout",
     "output_type": "stream",
     "text": [
      "2500\n",
      "(10090, D, b)         100\n",
      "(9606, A, 01:01)      100\n",
      "(10090, K, b)         100\n",
      "(9544, A1, 002:01)    100\n",
      "(9606, B, 07:02)      100\n",
      "                     ... \n",
      "(9606, A, 02:10)        1\n",
      "(9606, A, 02:12)        1\n",
      "(9606, A, 02:06)        1\n",
      "(9606, A, 02:02)        1\n",
      "(9606, A, 02:07)        1\n",
      "Name: mhc, Length: 67, dtype: int64\n"
     ]
    }
   ],
   "source": [
    "#choose assays for valid sets\n",
    "\n",
    "#use peps with exactly one assay\n",
    "pep_counts=train_i['pep'].value_counts() #index: pep seq, value: number of assays\n",
    "peps_good=pep_counts[pep_counts.values==1].index.values #peptides with 1 assay\n",
    "assays_good=train_i[train_i['pep'].isin(peps_good)]\n",
    "\n",
    "#choose valid assays from random mhc clusters\n",
    "n_target=2500  #five sets of 500 assays\n",
    "n_per_mhc=100  #max number of assays per mhc cluster\n",
    "valid_df=None\n",
    "for c in mhc_clusters_i:\n",
    "    c_assays=assays_good[assays_good['mhc_a'].isin(c)]\n",
    "    if len(c_assays)>n_per_mhc: #drop small clusters\n",
    "        c_assays=c_assays.sample(frac=1)[:n_per_mhc]\n",
    "        if valid_df is None:\n",
    "            valid_df=c_assays\n",
    "        else:\n",
    "            valid_df=pd.concat([valid_df,c_assays])\n",
    "        if len(valid_df)>=n_target:\n",
    "            break\n",
    "print(len(valid_df))\n",
    "print(valid_df['mhc_a'].value_counts())\n",
    "\n",
    "#save valid assays, valid and other peptides\n",
    "tmp_dir='/scratch/vmikhayl/tmp_pep_distance_split'\n",
    "valid_peps=valid_df['pep'].unique()\n",
    "all_peps=train_i['pep'].unique()\n",
    "if True:\n",
    "    valid_df.to_pickle(tmp_dir+'/valid_df_i.pckl')\n",
    "    with open(tmp_dir+'/peps_i.pckl','wb') as f:\n",
    "        pickle.dump({'valid':valid_peps,'all':all_peps},f)"
   ]
  },
  {
   "cell_type": "code",
   "execution_count": 25,
   "id": "d2d3f8a6",
   "metadata": {
    "hidden": true
   },
   "outputs": [],
   "source": [
    "#make script for computing distances\n",
    "#note: currently the script is written for 2500 valid peps, 100 jobs with 25 peps per job\n",
    "\n",
    "#SWITCH CL I and CL II IN THE SCRIPT BEFORE RUNNING!\n",
    "\n",
    "n_tasks=100 #do not change without updating the script!\n",
    "log_dir_server=tmp_dir+'/logs'\n",
    "qos='short'\n",
    "max_run_time=5*60 #5 hrs\n",
    "python_path='/data/vmikhayl/tfold/scripts/compute_pep_distances.py'\n",
    "\n",
    "lines=[]\n",
    "lines.append('#!/bin/bash')\n",
    "lines.append('')       \n",
    "lines.append(f'#SBATCH --array=0-{n_tasks-1}')             #run an array of n_tasks tasks\n",
    "lines.append(f'#SBATCH --output={log_dir_server}/output_%a.txt')  #here %a will evaluate to array task id\n",
    "lines.append(f'#SBATCH --error={log_dir_server}/error_%a.txt')\n",
    "lines.append(f'#SBATCH --ntasks=1')                        #each array element is one task\n",
    "lines.append(f'#SBATCH --cpus-per-task=1')                 #one cpu per task\n",
    "lines.append(f'#SBATCH --qos={qos}')  \n",
    "lines.append(f'#SBATCH --time={max_run_time}')             #maximal run time in minutes, same for each array task\n",
    "lines.append('')\n",
    "lines.append(f'srun python {python_path} $SLURM_ARRAY_TASK_ID')\n",
    "script_filename='pep_distances.sh'\n",
    "with open('./scripts/'+script_filename,'w') as f:\n",
    "    f.writelines('\\n'.join(lines))\n",
    "os.chmod('./scripts/'+script_filename, stat.S_IRWXU | stat.S_IXGRP | stat.S_IXOTH)"
   ]
  },
  {
   "cell_type": "code",
   "execution_count": 27,
   "id": "415430ad",
   "metadata": {
    "hidden": true
   },
   "outputs": [
    {
     "name": "stdout",
     "output_type": "stream",
     "text": [
      "2500\n",
      "dict_keys(['valid', 'all'])\n",
      "mhc clusters used in valid: 25\n",
      "0 pep excluded: 1246 assays excluded: 2659\n",
      "1 pep excluded: 1259 assays excluded: 2347\n",
      "2 pep excluded: 1242 assays excluded: 2816\n",
      "3 pep excluded: 1550 assays excluded: 3074\n",
      "4 pep excluded: 1474 assays excluded: 3038\n"
     ]
    }
   ],
   "source": [
    "#parse results, split valid\n",
    "valid_df=pd.read_pickle(tmp_dir+'/valid_df_i.pckl')\n",
    "print(len(valid_df))\n",
    "with open(tmp_dir+'/peps_i.pckl','rb') as f:\n",
    "    peps=pickle.load(f)\n",
    "print(peps.keys())\n",
    "\n",
    "#restore which clusters were used\n",
    "c_used=[]\n",
    "for c in mhc_clusters_i:\n",
    "    if np.sum(valid_df['mhc_a'].isin(c))>0:\n",
    "        c_used.append(c)\n",
    "print('mhc clusters used in valid:',len(c_used))\n",
    "\n",
    "n_sets=5\n",
    "threshold=3\n",
    "train_valid_split=[]\n",
    "c_ind=np.random.permutation(len(c_used))\n",
    "\n",
    "for i in range(n_sets):\n",
    "    cc=[x for j in c_ind[5*i:5*(i+1)] for x in c_used[j]]\n",
    "    c_valid=valid_df[valid_df['mhc_a'].isin(cc).copy()]    \n",
    "    pep_exclude=set()\n",
    "    for j in range(100):        \n",
    "        ind_pep=np.nonzero(np.isin(peps['valid'][25*j:25*(j+1)],c_valid['pep']))[0]\n",
    "        if len(ind_pep)>0:\n",
    "            d=np.load(tmp_dir+f'/outputs_i/d_{j}.pckl.npy')\n",
    "            d=np.min(d[:,ind_pep],axis=1)\n",
    "            pep_exclude|=set(list(peps['all'][d<=threshold]))\n",
    "    c_train=train_i[~train_i['pep'].isin(pep_exclude)]\n",
    "    c_train.to_pickle(f'./data/pmhc_assays/train_clustered/split_i/train_{i}.pckl')\n",
    "    c_valid.to_pickle(f'./data/pmhc_assays/train_clustered/split_i/valid_{i}.pckl')\n",
    "    print(i,'pep excluded:',len(pep_exclude),'assays excluded:',len(train_i)-len(c_train))    "
   ]
  },
  {
   "cell_type": "code",
   "execution_count": 28,
   "id": "e969ac8a",
   "metadata": {
    "hidden": true,
    "scrolled": true
   },
   "outputs": [
    {
     "name": "stdout",
     "output_type": "stream",
     "text": [
      "196828 500\n",
      "distances computed in 79.58684086799622\n",
      "0 4.0 2\n",
      "index              156488\n",
      "pep            KKITGEELRY\n",
      "mhc      (9598, A, 04:01)\n",
      "kd           44872.503932\n",
      "Name: 417, dtype: object index               15198\n",
      "pep             KQITNELNY\n",
      "mhc      (9606, A, 30:02)\n",
      "kd               9.989993\n",
      "Name: 14854, dtype: object\n",
      "1 5.0 35\n",
      "index               37089\n",
      "pep            FHKATEAYNE\n",
      "mhc      (9598, A, 09:01)\n",
      "kd           44872.503932\n",
      "Name: 475, dtype: object index                 996\n",
      "pep             AKATGRYNL\n",
      "mhc      (9606, A, 01:01)\n",
      "kd           20000.004962\n",
      "Name: 962, dtype: object\n",
      "2 4.0 40\n",
      "index              114829\n",
      "pep             AAPLLVALG\n",
      "mhc      (9606, B, 52:01)\n",
      "kd           44872.503932\n",
      "Name: 178, dtype: object index                 178\n",
      "pep              AAPPVAPA\n",
      "mhc      (9606, A, 02:01)\n",
      "kd            4999.989042\n",
      "Name: 176, dtype: object\n",
      "3 4.0 105\n",
      "index              120057\n",
      "pep             ASVSFGLYY\n",
      "mhc      (9606, A, 03:01)\n",
      "kd           20000.009924\n",
      "Name: 82, dtype: object index               26414\n",
      "pep             RVSTGLYRY\n",
      "mhc      (9606, A, 03:01)\n",
      "kd             295.999994\n",
      "Name: 25949, dtype: object\n",
      "4 4.0 1\n",
      "index                 59076\n",
      "pep               MARLGKGYM\n",
      "mhc      (9544, A1, 002:01)\n",
      "kd                 9.139038\n",
      "Name: 393, dtype: object index            19289\n",
      "pep          MALLGEAAM\n",
      "mhc      (10090, D, b)\n",
      "kd         3945.849714\n",
      "Name: 18866, dtype: object\n",
      "5 4.0 2\n",
      "index              190085\n",
      "pep            VSYVNTNMGL\n",
      "mhc      (9598, A, 04:01)\n",
      "kd                50000.0\n",
      "Name: 448, dtype: object index           150199\n",
      "pep           VSYVVTYL\n",
      "mhc      (10090, D, b)\n",
      "kd          9109.86394\n",
      "Name: 147848, dtype: object\n",
      "6 4.0 14\n",
      "index               12640\n",
      "pep             IMDLERRYV\n",
      "mhc      (9606, A, 01:01)\n",
      "kd           36231.896348\n",
      "Name: 227, dtype: object index               19359\n",
      "pep             MDLEKRHVL\n",
      "mhc      (9606, B, 08:01)\n",
      "kd              68.000008\n",
      "Name: 18936, dtype: object\n",
      "7 4.0 2\n",
      "index               29256\n",
      "pep           SYISSEATTPV\n",
      "mhc      (9598, A, 09:01)\n",
      "kd                    1.0\n",
      "Name: 449, dtype: object index              141297\n",
      "pep           QWISSECTTPC\n",
      "mhc      (9598, A, 09:01)\n",
      "kd            1398.201072\n",
      "Name: 139090, dtype: object\n",
      "8 4.0 5\n",
      "index               27377\n",
      "pep            SITEAELTGY\n",
      "mhc      (9606, A, 01:01)\n",
      "kd             391.000292\n",
      "Name: 261, dtype: object index               23419\n",
      "pep            QSSITEAELT\n",
      "mhc      (9606, B, 58:01)\n",
      "kd             436.000073\n",
      "Name: 22964, dtype: object\n",
      "9 4.0 63\n",
      "index                114153\n",
      "pep               YTLGPGIRF\n",
      "mhc      (9544, A1, 002:01)\n",
      "kd                 2.200003\n",
      "Name: 385, dtype: object index                2238\n",
      "pep             ATLGPANRI\n",
      "mhc      (9606, A, 02:01)\n",
      "kd           16999.998844\n",
      "Name: 2155, dtype: object\n"
     ]
    }
   ],
   "source": [
    "#test split\n",
    "from multiprocessing import Pool\n",
    "from Bio import pairwise2\n",
    "\n",
    "split_n=3\n",
    "c_train=pd.read_pickle(f'./data/pmhc_assays/train_clustered/split_i/train_{split_n}.pckl').reset_index()\n",
    "c_valid=pd.read_pickle(f'./data/pmhc_assays/train_clustered/split_i/valid_{split_n}.pckl').reset_index()\n",
    "print(len(c_train),len(c_valid))\n",
    "\n",
    "def dij_func(x):\n",
    "    i,j=x\n",
    "    seq1,seq2=c_train['pep'].iloc[i],c_valid['pep'].iloc[j]\n",
    "    y=pairwise2.align.globalms(seq1,seq2,match=1,mismatch=-1,open=-1,extend=-1)\n",
    "    return np.min([(x[4]-x[3]-x[2])//2 for x in y])\n",
    "def _get_distances(ind1,ind2):\n",
    "    ind_pairs=list(itertools.product(ind1,ind2))       \n",
    "    p=Pool(n_processes)\n",
    "    with p:\n",
    "        d=p.map(dij_func,ind_pairs)\n",
    "    return np.array(d).reshape((len(ind1),len(ind2)))    \n",
    "\n",
    "n_processes=25\n",
    "n_valid=10\n",
    "t0=time.time()\n",
    "ind_valid=np.random.permutation(len(c_valid))[:n_valid]\n",
    "d=_get_distances(np.arange(len(c_train)),ind_valid)\n",
    "print('distances computed in {}'.format(time.time()-t0))\n",
    "\n",
    "for i in range(n_valid):\n",
    "    d_i=d[:,i]\n",
    "    d_min=np.min(d_i)\n",
    "    print(i,d_min,np.sum(d_i==d_min))        \n",
    "    print(c_valid.iloc[ind_valid[i]],c_train.iloc[np.argmin(d_i)])    "
   ]
  },
  {
   "cell_type": "raw",
   "id": "ffa13aad",
   "metadata": {
    "hidden": true
   },
   "source": [
    "#rename column 'mhc' to 'mhc_a' for consistency \n",
    "#note: make changes to the code that produced it actually!\n",
    "dir1='./data/pmhc_assays'\n",
    "dir2=dir1+'/train_clustered/split_i'\n",
    "cdir=dir2\n",
    "for x in os.listdir(cdir):\n",
    "    if x.endswith('pckl'):\n",
    "        df=pd.read_pickle(cdir+'/'+x)\n",
    "        print(x,df.columns)\n",
    "        if 'mhc' in df.columns and 'mhc_a' not in df.columns:\n",
    "            df=df.rename({'mhc':'mhc_a'},axis=1)\n",
    "            df.to_pickle(cdir+'/'+x)"
   ]
  },
  {
   "cell_type": "markdown",
   "id": "d6052658",
   "metadata": {
    "heading_collapsed": true,
    "hidden": true
   },
   "source": [
    "## cl 2"
   ]
  },
  {
   "cell_type": "code",
   "execution_count": 29,
   "id": "5e7ff1d3",
   "metadata": {
    "hidden": true
   },
   "outputs": [
    {
     "data": {
      "image/png": "[encoded data removed]",
      "text/plain": [
       "<Figure size 432x288 with 1 Axes>"
      ]
     },
     "metadata": {
      "needs_background": "light"
     },
     "output_type": "display_data"
    },
    {
     "name": "stdout",
     "output_type": "stream",
     "text": [
      "0 5609 [(('9606', 'DPA1', '01:03'), ('9606', 'DPB1', '02:01')), (('9606', 'DPA1', '01:03'), ('9606', 'DPB1', '04:01')), (('9606', 'DPA1', '01:03'), ('9606', 'DPB1', '04:02')), (('9606', 'DPA1', '03:01'), ('9606', 'DPB1', '04:02'))]\n",
      "12 9796 [(('9606', 'DRA', '01:01'), ('9606', 'DRB1', '01:01')), (('9606', 'DRA', '01:01'), ('9606', 'DRB1', '01:03')), (('9606', 'DRA', '01:01'), ('9606', 'DRB1', '01:02'))]\n",
      "14 12059 [(('9606', 'DRA', '01:01'), ('9606', 'DRB1', '04:01')), (('9606', 'DRA', '01:01'), ('9606', 'DRB1', '04:03')), (('9606', 'DRA', '01:01'), ('9606', 'DRB1', '04:04')), (('9606', 'DRA', '01:01'), ('9606', 'DRB1', '04:05')), (('9606', 'DRA', '01:01'), ('9606', 'DRB1', '04:02')), (('9606', 'DRA', '01:01'), ('9606', 'DRB1', '04:06')), (('9606', 'DRA', '01:01'), ('9606', 'DRB1', '04:11'))]\n",
      "15 5552 [(('9606', 'DRA', '01:01'), ('9606', 'DRB1', '07:01'))]\n",
      "19 5351 [(('9606', 'DRA', '01:01'), ('9606', 'DRB1', '11:01')), (('9606', 'DRA', '01:01'), ('9606', 'DRB1', '11:04'))]\n",
      "22 5818 [(('9606', 'DRA', '01:01'), ('9606', 'DRB1', '15:01')), (('9606', 'DRA', '01:01'), ('9606', 'DRB1', '16:02')), (('9606', 'DRA', '01:01'), ('9606', 'DRB1', '15:03')), (('9606', 'DRA', '01:01'), ('9606', 'DRB1', '15:02')), (('9606', 'DRA', '01:01'), ('9606', 'DRB1', '16:01'))]\n"
     ]
    }
   ],
   "source": [
    "df=train_ii\n",
    "assay_ids=[] #indices of assays, for each mhc cluster\n",
    "for c in mhc_clusters_ii:\n",
    "    assay_ids.append(np.nonzero(df[['mhc_a','mhc_b']].apply(tuple,axis=1).isin(c).values)[0])     \n",
    "plt.figure()\n",
    "plt.hist([len(x) for x in assay_ids],bins=100,histtype='step')\n",
    "plt.show()    \n",
    "for i,x in enumerate(assay_ids):\n",
    "    if len(x)>5000:\n",
    "        print(i,len(x),mhc_clusters_ii[i])"
   ]
  },
  {
   "cell_type": "code",
   "execution_count": 30,
   "id": "ec36e767",
   "metadata": {
    "hidden": true,
    "scrolled": true
   },
   "outputs": [
    {
     "name": "stdout",
     "output_type": "stream",
     "text": [
      "15312 115836\n",
      "histogram:\n",
      "1 7252\n",
      "2 867\n",
      "3 640\n",
      "4 469\n",
      "5 462\n",
      "6 68\n",
      "7 304\n",
      "8 126\n",
      "9 245\n",
      "10 247\n",
      "11 358\n",
      "12 144\n",
      "13 565\n",
      "14 543\n",
      "15 561\n",
      "16 94\n",
      "17 125\n",
      "18 129\n",
      "19 133\n",
      "20 102\n",
      "21 75\n",
      "22 229\n",
      "23 44\n",
      "24 66\n",
      "25 247\n",
      "26 116\n",
      "27 31\n",
      "28 5\n",
      "29 51\n",
      "30 187\n",
      "31 273\n",
      "32 421\n",
      "33 42\n",
      "34 11\n",
      "35 71\n",
      "36 6\n",
      "37 1\n",
      "40 2\n"
     ]
    }
   ],
   "source": [
    "#peptide occurence numbers\n",
    "pep_counts=train_ii['pep'].value_counts()\n",
    "print(len(pep_counts),len(train_ii))\n",
    "print('histogram:')\n",
    "for n in np.sort(np.unique(pep_counts.values)):\n",
    "    print(n,np.sum(pep_counts==n))"
   ]
  },
  {
   "cell_type": "code",
   "execution_count": 31,
   "id": "25eccb70",
   "metadata": {
    "hidden": true
   },
   "outputs": [
    {
     "name": "stdout",
     "output_type": "stream",
     "text": [
      "2009\n",
      "2000\n",
      "((10090, IAA, d), (10090, IAB, d))            200\n",
      "((9606, DRA, 01:01), (9606, DRB1, 03:01))     200\n",
      "((10090, IAA, b), (10090, IAB, b))            200\n",
      "((9606, DRA, 01:01), (9606, DRB1, 01:01))     199\n",
      "((9606, DRA, 01:01), (9606, DRB1, 04:01))     185\n",
      "((9606, DRA, 01:01), (9606, DRB1, 07:01))     117\n",
      "((9606, DRA, 01:01), (9606, DRB1, 15:01))     111\n",
      "((9606, DRA, 01:01), (9606, DRB1, 11:01))     108\n",
      "((9606, DRA, 01:01), (9606, DRB1, 13:02))      94\n",
      "((9606, DRA, 01:01), (9606, DRB1, 08:02))      91\n",
      "((9606, DQA1, 05:01), (9606, DQB1, 03:01))     80\n",
      "((10090, IAA, s), (10090, IAB, s))             79\n",
      "((9606, DQA1, 03:01), (9606, DQB1, 03:02))     49\n",
      "((9606, DQA1, 05:01), (9606, DQB1, 02:01))     45\n",
      "((9544, DRA, 01:01), (9544, DRB, W002:01))     42\n",
      "((10090, IAA, u), (10090, IAB, u))             37\n",
      "((9606, DRA, 01:01), (9606, DRB5, 01:01))      31\n",
      "((10090, IEA, k), (10090, IEB, k))             31\n",
      "((10090, IEA, d), (10090, IEB, d))             28\n",
      "((9606, DQA1, 01:02), (9606, DQB1, 06:02))     27\n",
      "((9606, DQA1, 03:01), (9606, DQB1, 03:01))     18\n",
      "((9606, DRA, 01:01), (9606, DRB1, 08:01))       9\n",
      "((9606, DRA, 01:01), (9606, DRB1, 04:04))       6\n",
      "((9606, DRA, 01:01), (9606, DRB1, 04:05))       6\n",
      "((9606, DRA, 01:01), (9606, DRB1, 04:03))       2\n",
      "((9606, DRA, 01:01), (9606, DRB1, 13:01))       2\n",
      "((9606, DRA, 01:01), (9606, DRB1, 04:06))       1\n",
      "((9606, DRA, 01:01), (9606, DRB1, 15:02))       1\n",
      "((9606, DRA, 01:01), (9606, DRB1, 01:03))       1\n",
      "dtype: int64\n"
     ]
    }
   ],
   "source": [
    "#choose assays for valid sets\n",
    "\n",
    "#use peps with exactly one assay\n",
    "pep_counts=train_ii['pep'].value_counts() #index: pep seq, value: number of assays\n",
    "peps_good=pep_counts[pep_counts.values==1].index.values #peptides with 1 assay\n",
    "assays_good=train_ii[train_ii['pep'].isin(peps_good)]\n",
    "\n",
    "#choose valid assays from random mhc clusters\n",
    "n_target=2000  #five sets of 500 assays\n",
    "n_per_mhc=200  #max number of assays per mhc cluster\n",
    "valid_df=None\n",
    "for c in mhc_clusters_ii:\n",
    "    c_assays=assays_good[assays_good[['mhc_a','mhc_b']].apply(tuple,axis=1).isin(c)]\n",
    "    if len(c_assays)>25: #len(c_assays)>n_per_mhc: #drop small clusters\n",
    "        c_assays=c_assays.sample(frac=1)[:n_per_mhc]\n",
    "        if valid_df is None:\n",
    "            valid_df=c_assays\n",
    "        else:\n",
    "            valid_df=pd.concat([valid_df,c_assays])\n",
    "        if len(valid_df)>=n_target:\n",
    "            break\n",
    "print(len(valid_df))\n",
    "valid_df=valid_df[:n_target] #cut\n",
    "print(len(valid_df))\n",
    "print(valid_df[['mhc_a','mhc_b']].apply(tuple,axis=1).value_counts())\n",
    "\n",
    "#save valid assays, valid and other peptides\n",
    "tmp_dir='/scratch/vmikhayl/tmp_pep_distance_split'\n",
    "valid_peps=valid_df['pep'].unique()\n",
    "all_peps=train_ii['pep'].unique()\n",
    "if True:\n",
    "    valid_df.to_pickle(tmp_dir+'/valid_df_ii.pckl')\n",
    "    with open(tmp_dir+'/peps_ii.pckl','wb') as f:\n",
    "        pickle.dump({'valid':valid_peps,'all':all_peps},f)"
   ]
  },
  {
   "cell_type": "code",
   "execution_count": 32,
   "id": "23ff2cec",
   "metadata": {
    "hidden": true
   },
   "outputs": [],
   "source": [
    "#make script for computing distances\n",
    "#note: currently the script is written for 2500 valid peps, 100 jobs with 25 peps per job\n",
    "\n",
    "n_tasks=100 #do not change without updating the script!\n",
    "log_dir_server=tmp_dir+'/logs'\n",
    "qos='short'\n",
    "max_run_time=5*60 #5 hrs\n",
    "python_path='/data/vmikhayl/tfold/scripts/compute_pep_distances.py'\n",
    "\n",
    "lines=[]\n",
    "lines.append('#!/bin/bash')\n",
    "lines.append('')       \n",
    "lines.append(f'#SBATCH --array=0-{n_tasks-1}')             #run an array of n_tasks tasks\n",
    "lines.append(f'#SBATCH --output={log_dir_server}/output_%a.txt')  #here %a will evaluate to array task id\n",
    "lines.append(f'#SBATCH --error={log_dir_server}/error_%a.txt')\n",
    "lines.append(f'#SBATCH --ntasks=1')                        #each array element is one task\n",
    "lines.append(f'#SBATCH --cpus-per-task=1')                 #one cpu per task\n",
    "lines.append(f'#SBATCH --qos={qos}')  \n",
    "lines.append(f'#SBATCH --time={max_run_time}')             #maximal run time in minutes, same for each array task\n",
    "lines.append('')\n",
    "lines.append(f'srun python {python_path} $SLURM_ARRAY_TASK_ID')\n",
    "script_filename='pep_distances.sh'\n",
    "with open('./scripts/'+script_filename,'w') as f:\n",
    "    f.writelines('\\n'.join(lines))\n",
    "os.chmod('./scripts/'+script_filename, stat.S_IRWXU | stat.S_IXGRP | stat.S_IXOTH)"
   ]
  },
  {
   "cell_type": "code",
   "execution_count": 33,
   "id": "94e0adff",
   "metadata": {
    "hidden": true
   },
   "outputs": [
    {
     "name": "stdout",
     "output_type": "stream",
     "text": [
      "2000\n",
      "dict_keys(['valid', 'all'])\n",
      "mhc clusters used in valid: 20\n",
      "0 pep excluded: 723 assays excluded: 1225 valid: 569\n",
      "1 pep excluded: 750 assays excluded: 2260 valid: 343\n",
      "2 pep excluded: 814 assays excluded: 1610 valid: 610\n",
      "3 pep excluded: 668 assays excluded: 1073 valid: 478\n"
     ]
    }
   ],
   "source": [
    "#parse results, split valid\n",
    "valid_df=pd.read_pickle(tmp_dir+'/valid_df_ii.pckl')\n",
    "print(len(valid_df))\n",
    "with open(tmp_dir+'/peps_ii.pckl','rb') as f:\n",
    "    peps=pickle.load(f)\n",
    "print(peps.keys())\n",
    "\n",
    "#restore which clusters were used\n",
    "c_used=[]\n",
    "for c in mhc_clusters_ii:\n",
    "    if np.sum(valid_df[['mhc_a','mhc_b']].apply(tuple,axis=1).isin(c))>0:\n",
    "        c_used.append(c)\n",
    "print('mhc clusters used in valid:',len(c_used))\n",
    "\n",
    "n_sets=4\n",
    "threshold=3\n",
    "train_valid_split=[]\n",
    "c_ind=np.random.permutation(len(c_used))\n",
    "\n",
    "for i in range(n_sets):\n",
    "    cc=[x for j in c_ind[5*i:5*(i+1)] for x in c_used[j]]\n",
    "    c_valid=valid_df[valid_df[['mhc_a','mhc_b']].apply(tuple,axis=1).isin(cc).copy()]    \n",
    "    pep_exclude=set()\n",
    "    for j in range(100):        \n",
    "        ind_pep=np.nonzero(np.isin(peps['valid'][20*j:20*(j+1)],c_valid['pep']))[0]\n",
    "        if len(ind_pep)>0:\n",
    "            d=np.load(tmp_dir+f'/outputs_ii/d_{j}.pckl.npy')\n",
    "            d=np.min(d[:,ind_pep],axis=1)\n",
    "            pep_exclude|=set(list(peps['all'][d<=threshold]))\n",
    "    c_train=train_ii[~train_ii['pep'].isin(pep_exclude)]\n",
    "    c_train.to_pickle(f'./data/pmhc_assays/train_clustered/split_ii/train_{i}.pckl')\n",
    "    c_valid.to_pickle(f'./data/pmhc_assays/train_clustered/split_ii/valid_{i}.pckl')\n",
    "    print(i,'pep excluded:',len(pep_exclude),'assays excluded:',len(train_ii)-len(c_train),'valid:',len(c_valid))"
   ]
  },
  {
   "cell_type": "code",
   "execution_count": 34,
   "id": "877ce444",
   "metadata": {
    "hidden": true
   },
   "outputs": [
    {
     "name": "stdout",
     "output_type": "stream",
     "text": [
      "114763 478\n",
      "distances computed in 201.8802285194397\n",
      "0 9.0 3\n",
      "index                  89400\n",
      "pep          LDECLHLLRTDSIFK\n",
      "mhc_a     (9606, DRA, 01:01)\n",
      "mhc_b    (9606, DRB1, 01:01)\n",
      "kd                 38.404022\n",
      "Name: 87, dtype: object index                   1135\n",
      "pep          FLDLVLLNLLCDLFK\n",
      "mhc_a     (9606, DRA, 01:01)\n",
      "mhc_b    (9606, DRB1, 01:01)\n",
      "kd               1434.624003\n",
      "Name: 1134, dtype: object\n",
      "1 9.0 31\n",
      "index                  22075\n",
      "pep          MVTQMKSLVTKPFRM\n",
      "mhc_a     (9606, DRA, 01:01)\n",
      "mhc_b    (9606, DRB1, 01:01)\n",
      "kd                  5.299712\n",
      "Name: 198, dtype: object index              42357\n",
      "pep      MDKRMKSLAMTAFFG\n",
      "mhc_a    (10090, IAA, b)\n",
      "mhc_b    (10090, IAB, b)\n",
      "kd           1670.269658\n",
      "Name: 41975, dtype: object\n",
      "2 7.0 9\n",
      "index                  79425\n",
      "pep          FQRVLIFILLTAVAP\n",
      "mhc_a     (9606, DRA, 01:01)\n",
      "mhc_b    (9606, DRB1, 07:01)\n",
      "kd               9812.630581\n",
      "Name: 253, dtype: object index                  12531\n",
      "pep          TQKVVIFVLLMLVTP\n",
      "mhc_a     (9606, DRA, 01:01)\n",
      "mhc_b    (9606, DRB1, 15:01)\n",
      "kd                1034.67613\n",
      "Name: 12459, dtype: object\n",
      "3 9.0 2\n",
      "index                   6810\n",
      "pep          KTTIDKRSGMDSMKI\n",
      "mhc_a     (9606, DRA, 01:01)\n",
      "mhc_b    (9606, DRB1, 01:01)\n",
      "kd              14609.976185\n",
      "Name: 73, dtype: object index                  58475\n",
      "pep          KLIDIALSKTDSRKY\n",
      "mhc_a     (9606, DRA, 01:01)\n",
      "mhc_b    (9606, DRB1, 01:01)\n",
      "kd                445.018378\n",
      "Name: 57937, dtype: object\n",
      "4 4.0 1\n",
      "index                  18156\n",
      "pep          EGWPYIGSRSQIKGR\n",
      "mhc_a     (9606, DRA, 01:01)\n",
      "mhc_b    (9606, DRB1, 01:01)\n",
      "kd                215.276675\n",
      "Name: 170, dtype: object index                 102021\n",
      "pep          GDGWPYIASRSQIKG\n",
      "mhc_a     (9606, DRA, 01:01)\n",
      "mhc_b    (9606, DRB1, 01:01)\n",
      "kd                   78.1279\n",
      "Name: 101166, dtype: object\n",
      "5 5.0 1\n",
      "index                  89417\n",
      "pep          LLLSVSNRCPICKMP\n",
      "mhc_a     (9606, DRA, 01:01)\n",
      "mhc_b    (9606, DRB1, 01:01)\n",
      "kd                821.142453\n",
      "Name: 228, dtype: object index                  51225\n",
      "pep          NLLLSVSDRCPLCKY\n",
      "mhc_a     (9606, DRA, 01:01)\n",
      "mhc_b    (9606, DRB1, 01:01)\n",
      "kd              29780.890368\n",
      "Name: 50768, dtype: object\n",
      "6 10.0 1\n",
      "index                 42406\n",
      "pep      TPHQGEVYTIHVEHPSLK\n",
      "mhc_a       (10090, IAA, s)\n",
      "mhc_b       (10090, IAB, s)\n",
      "kd                  50000.0\n",
      "Name: 393, dtype: object index                  58622\n",
      "pep          TVKLGGVFHELPSLC\n",
      "mhc_a     (9606, DRA, 01:01)\n",
      "mhc_b    (9606, DRB1, 01:01)\n",
      "kd                 83.821061\n",
      "Name: 58080, dtype: object\n",
      "7 5.0 1\n",
      "index                  73824\n",
      "pep          LLKDLESAQPGLLSY\n",
      "mhc_a     (9606, DRA, 01:01)\n",
      "mhc_b    (9606, DRB1, 01:01)\n",
      "kd                 14.705502\n",
      "Name: 175, dtype: object index                  70513\n",
      "pep          LLKDVEYARPGLISS\n",
      "mhc_a     (9606, DRA, 01:01)\n",
      "mhc_b    (9606, DRB1, 01:01)\n",
      "kd                  9.953105\n",
      "Name: 69911, dtype: object\n",
      "8 7.0 15\n",
      "index                 105879\n",
      "pep          LIIITSIKAVYNFAT\n",
      "mhc_a     (9606, DRA, 01:01)\n",
      "mhc_b    (9606, DRB1, 01:01)\n",
      "kd                      14.7\n",
      "Name: 155, dtype: object index                  34705\n",
      "pep          LSILAILKGLYNFAT\n",
      "mhc_a     (9606, DRA, 01:01)\n",
      "mhc_b    (9606, DRB1, 01:01)\n",
      "kd                       1.0\n",
      "Name: 34367, dtype: object\n",
      "9 8.0 32\n",
      "index                  97758\n",
      "pep          DALLSQVHPRSVLIE\n",
      "mhc_a     (9606, DRA, 01:01)\n",
      "mhc_b    (9606, DRB1, 01:01)\n",
      "kd                 24.114785\n",
      "Name: 77, dtype: object index                  10580\n",
      "pep          KVTFLSQVHPSPLLT\n",
      "mhc_a     (9606, DRA, 01:01)\n",
      "mhc_b    (9606, DRB1, 01:01)\n",
      "kd                       1.0\n",
      "Name: 10527, dtype: object\n"
     ]
    }
   ],
   "source": [
    "#test split\n",
    "from multiprocessing import Pool\n",
    "from Bio import pairwise2\n",
    "\n",
    "split_n=3\n",
    "c_train=pd.read_pickle(f'./data/pmhc_assays/train_clustered/split_ii/train_{split_n}.pckl').reset_index()\n",
    "c_valid=pd.read_pickle(f'./data/pmhc_assays/train_clustered/split_ii/valid_{split_n}.pckl').reset_index()\n",
    "print(len(c_train),len(c_valid))\n",
    "\n",
    "def dij_func(x):\n",
    "    i,j=x\n",
    "    seq1,seq2=c_train['pep'].iloc[i],c_valid['pep'].iloc[j]\n",
    "    y=pairwise2.align.globalms(seq1,seq2,match=1,mismatch=-1,open=-1,extend=-1)\n",
    "    return np.min([(x[4]-x[3]-x[2])//2 for x in y])\n",
    "def _get_distances(ind1,ind2):\n",
    "    ind_pairs=list(itertools.product(ind1,ind2))       \n",
    "    p=Pool(n_processes)\n",
    "    with p:\n",
    "        d=p.map(dij_func,ind_pairs)\n",
    "    return np.array(d).reshape((len(ind1),len(ind2)))    \n",
    "\n",
    "n_processes=25\n",
    "n_valid=10\n",
    "t0=time.time()\n",
    "ind_valid=np.random.permutation(len(c_valid))[:n_valid]\n",
    "d=_get_distances(np.arange(len(c_train)),ind_valid)\n",
    "print('distances computed in {}'.format(time.time()-t0))\n",
    "\n",
    "for i in range(n_valid):\n",
    "    d_i=d[:,i]\n",
    "    d_min=np.min(d_i)\n",
    "    print(i,d_min,np.sum(d_i==d_min))        \n",
    "    print(c_valid.iloc[ind_valid[i]],c_train.iloc[np.argmin(d_i)])"
   ]
  },
  {
   "cell_type": "markdown",
   "id": "f30f23ec",
   "metadata": {
    "heading_collapsed": true
   },
   "source": [
    "# run netmhc"
   ]
  },
  {
   "cell_type": "code",
   "execution_count": 35,
   "id": "63c2011d",
   "metadata": {
    "hidden": true
   },
   "outputs": [
    {
     "name": "stdout",
     "output_type": "stream",
     "text": [
      "train I: 199902\n",
      "train II: 115836\n",
      "test I: 399\n",
      "test II: 472\n"
     ]
    }
   ],
   "source": [
    "train_i=pd.read_pickle('./data/pmhc_assays/train_i.pckl')\n",
    "print('train I:',len(train_i))\n",
    "train_ii=pd.read_pickle('./data/pmhc_assays/train_ii.pckl')\n",
    "print('train II:',len(train_ii))\n",
    "test_i=pd.read_pickle('./data/pmhc_assays/test_i.pckl')\n",
    "print('test I:',len(test_i))\n",
    "test_ii=pd.read_pickle('./data/pmhc_assays/test_ii.pckl')\n",
    "print('test II:',len(test_ii))"
   ]
  },
  {
   "cell_type": "code",
   "execution_count": 38,
   "id": "2178c566",
   "metadata": {
    "hidden": true
   },
   "outputs": [],
   "source": [
    "train_i=train_i.rename({'mhc':'mhc_a'},axis=1)\n",
    "test_i=test_i.rename({'mhc':'mhc_a'},axis=1)"
   ]
  },
  {
   "cell_type": "code",
   "execution_count": 45,
   "id": "8da27488",
   "metadata": {
    "hidden": true
   },
   "outputs": [
    {
     "name": "stdout",
     "output_type": "stream",
     "text": [
      "pmhcs with alleles known to netMHC: 472\n",
      "pmhcs with alleles not known to netMHC: 0\n",
      "alleles not known:\n",
      "[]\n"
     ]
    }
   ],
   "source": [
    "df=test_ii\n",
    "tmp_dir='/scratch/vmikhayl/tmp_netmhc' \n",
    "\n",
    "netmhc=netmhc_tools.NETMHC(tmp_dir)\n",
    "netmhc.make_query(df,cl='II')"
   ]
  },
  {
   "cell_type": "code",
   "execution_count": 46,
   "id": "58a5d63f",
   "metadata": {
    "hidden": true
   },
   "outputs": [
    {
     "name": "stdout",
     "output_type": "stream",
     "text": [
      "pmhcs expected: 472; loaded: 472\n"
     ]
    }
   ],
   "source": [
    "df=netmhc.parse()\n",
    "df.to_pickle('./data/pmhc_assays/netmhc_predictions/test_ii.pckl')"
   ]
  },
  {
   "cell_type": "markdown",
   "id": "14111aa2",
   "metadata": {
    "heading_collapsed": true
   },
   "source": [
    "# estimate experimental kd error"
   ]
  },
  {
   "cell_type": "code",
   "execution_count": 3,
   "id": "4fb7f381",
   "metadata": {
    "hidden": true
   },
   "outputs": [
    {
     "name": "stdout",
     "output_type": "stream",
     "text": [
      "2179615\n",
      "Index(['pep', 'mhc_iedb', 'class', 'mhc_a', 'mhc_b', 'n_mutations', 'date',\n",
      "       'method', 'group', 'qual', 'units', 'quant_ineq', 'quant_value'],\n",
      "      dtype='object')\n"
     ]
    }
   ],
   "source": [
    "iedb=pd.read_pickle('./data/pmhc_assays/iedb_pmhc_assays/assays.pckl')\n",
    "print(len(iedb))\n",
    "print(iedb.columns)"
   ]
  },
  {
   "cell_type": "code",
   "execution_count": 4,
   "id": "c40dd67b",
   "metadata": {
    "hidden": true
   },
   "outputs": [
    {
     "name": "stdout",
     "output_type": "stream",
     "text": [
      "162024\n",
      "110379\n",
      "1735\n"
     ]
    }
   ],
   "source": [
    "#restrict group, remove ineqs, remove nan\n",
    "df=iedb[iedb['group'].isin(['dissociation constant KD (~EC50)', 'dissociation constant KD (~IC50)','dissociation constant KD'])]\n",
    "print(len(df))\n",
    "df=df[df['quant_ineq'].isin(['','='])] \n",
    "df=df[~df['quant_value'].isna()]                        \n",
    "print(len(df))\n",
    "#aggregate kds\n",
    "def aggregate_kds(x):\n",
    "    x=np.round(x.values,0)  \n",
    "    x+=0.5*(x==0)           #cutoff at 0.5\n",
    "    return tuple(list(np.unique(x))[:2]) #\"unique\" to remove duplicates; e.g. Sidney dataset includes assays from papers\n",
    "kds=df.groupby(['pep','mhc_iedb'])['quant_value'].apply(aggregate_kds).reset_index()\n",
    "df=df[['pep','mhc_iedb','class','mhc_a','mhc_b']].groupby(['pep','mhc_iedb']).head(1).reset_index() #reduce to unique\n",
    "df=df.merge(kds,on=['pep','mhc_iedb'])\n",
    "#restrict to >=2 kds\n",
    "df=df[df['quant_value'].map(lambda x: len(x)>1)]\n",
    "#pick random pairs\n",
    "def pick_two(x):\n",
    "    return tuple([x[i] for i in np.random.permutation(len(x))[:2]])\n",
    "df['quant_value']=df['quant_value'].map(pick_two)\n",
    "df[['kd1','kd2']]=pd.DataFrame(df['quant_value'].tolist(), index=df.index)\n",
    "df=df.drop(['index','quant_value'],axis=1)\n",
    "print(len(df))"
   ]
  },
  {
   "cell_type": "code",
   "execution_count": 5,
   "id": "c3712a50",
   "metadata": {
    "hidden": true
   },
   "outputs": [],
   "source": [
    "#save\n",
    "df.to_pickle('./data/pmhc_assays/iedb_pmhc_assays/kd_pairs.pckl')"
   ]
  },
  {
   "cell_type": "code",
   "execution_count": 6,
   "id": "c62d6bde",
   "metadata": {
    "hidden": true
   },
   "outputs": [
    {
     "data": {
      "text/plain": [
       "Index(['pep', 'mhc_iedb', 'class', 'mhc_a', 'mhc_b', 'kd1', 'kd2'], dtype='object')"
      ]
     },
     "execution_count": 6,
     "metadata": {},
     "output_type": "execute_result"
    }
   ],
   "source": [
    "df.columns"
   ]
  },
  {
   "cell_type": "markdown",
   "id": "87d11819",
   "metadata": {
    "heading_collapsed": true
   },
   "source": [
    "# look at netmhc immunogenicity test data"
   ]
  },
  {
   "cell_type": "code",
   "execution_count": 19,
   "id": "aeaab96d",
   "metadata": {
    "hidden": true
   },
   "outputs": [
    {
     "name": "stdout",
     "output_type": "stream",
     "text": [
      "1660 917\n",
      "          pep         mhc\n",
      "0   AAAGAAVTV  HLA-A02:01\n",
      "1   AEIEDLIFS  HLA-B40:02\n",
      "2  APTQGSASSL  HLA-B07:02\n",
      "3   MAMMARDTA  HLA-B07:02\n",
      "4    MAREKNDL  HLA-B08:01\n",
      "                    pep        mhc      prot\n",
      "0  LEEELRVVGNNLKSLEVSEE  DRB1_0101  A1KYZ2.1\n",
      "1  QAMKLEKDNAMDRADTLEQQ  DRB1_0301  A1KYZ2.1\n",
      "2  REEAYKEQIKTLTNKLKAAE  DRB1_0401  A1KYZ2.1\n",
      "3  ENQLKEARFLAEEADRKYDE  DRB5_0101  A1KYZ2.1\n",
      "4  LEEELRVVGNNLKSLEVSEE  DRB5_0101  A1KYZ2.1\n",
      "199877 115802\n",
      "Index(['pep', 'mhc', 'kd'], dtype='object') Index(['pep', 'mhc_a', 'mhc_b', 'kd'], dtype='object')\n"
     ]
    }
   ],
   "source": [
    "#load data\n",
    "\n",
    "#test data\n",
    "with open('./data/pmhc_assays/netmhcpan_i41_ii40/NetMHCpan_test/CD8_epitopes.fsa') as f:\n",
    "    s=f.read().split('\\n')\n",
    "ttest_i=[]\n",
    "for line in s:\n",
    "    if line.startswith('>'):\n",
    "        ttest_i.append(line[1:].split())\n",
    "ttest_i=pd.DataFrame(ttest_i,columns=['pep','mhc'])\n",
    "with open('./data/pmhc_assays/netmhcpan_i41_ii40/NetMHCIIpan_test/CD4_epitopes.fsa') as f:\n",
    "    s=f.read().split('\\n')\n",
    "ttest_ii=[]\n",
    "for line in s:\n",
    "    if line.startswith('>'):\n",
    "        ttest_ii.append(line[1:].split())\n",
    "ttest_ii=pd.DataFrame(ttest_ii,columns=['pep','mhc','prot'])\n",
    "print(len(ttest_i),len(ttest_ii))\n",
    "print(ttest_i.head(5))\n",
    "print(ttest_ii.head(5))\n",
    "\n",
    "#train data\n",
    "train_i=pd.read_pickle('./data/pmhc_assays/train_i.pckl')\n",
    "train_ii=pd.read_pickle('./data/pmhc_assays/train_ii.pckl')\n",
    "print(len(train_i),len(train_ii))\n",
    "print(train_i.columns,train_ii.columns)"
   ]
  },
  {
   "cell_type": "code",
   "execution_count": 27,
   "id": "cf7c4a59",
   "metadata": {
    "hidden": true
   },
   "outputs": [
    {
     "name": "stdout",
     "output_type": "stream",
     "text": [
      "1490 713\n",
      "165 61\n"
     ]
    }
   ],
   "source": [
    "#peptide overlap\n",
    "pep_u_i=ttest_i['pep'].unique()\n",
    "pep_u_ii=ttest_ii['pep'].unique()\n",
    "print(len(pep_u_i),len(pep_u_ii))\n",
    "print(np.sum(np.isin(pep_u_i,train_i['pep'].values)),np.sum(np.isin(pep_u_ii,train_ii['pep'].values)) )"
   ]
  },
  {
   "cell_type": "code",
   "execution_count": 14,
   "id": "6aa50d05",
   "metadata": {
    "hidden": true
   },
   "outputs": [
    {
     "data": {
      "text/plain": [
       "''"
      ]
     },
     "execution_count": 14,
     "metadata": {},
     "output_type": "execute_result"
    }
   ],
   "source": [
    "#compute distances..."
   ]
  },
  {
   "cell_type": "code",
   "execution_count": null,
   "id": "c518ff91",
   "metadata": {
    "hidden": true
   },
   "outputs": [],
   "source": []
  },
  {
   "cell_type": "markdown",
   "id": "d8221b86",
   "metadata": {},
   "source": [
    "# trash"
   ]
  },
  {
   "cell_type": "code",
   "execution_count": 52,
   "id": "c7071ec6",
   "metadata": {},
   "outputs": [
    {
     "data": {
      "text/html": [
       "<div>\n",
       "<style scoped>\n",
       "    .dataframe tbody tr th:only-of-type {\n",
       "        vertical-align: middle;\n",
       "    }\n",
       "\n",
       "    .dataframe tbody tr th {\n",
       "        vertical-align: top;\n",
       "    }\n",
       "\n",
       "    .dataframe thead th {\n",
       "        text-align: right;\n",
       "    }\n",
       "</style>\n",
       "<table border=\"1\" class=\"dataframe\">\n",
       "  <thead>\n",
       "    <tr style=\"text-align: right;\">\n",
       "      <th></th>\n",
       "      <th>pep</th>\n",
       "      <th>mhc_iedb</th>\n",
       "      <th>class</th>\n",
       "      <th>mhc_A</th>\n",
       "      <th>mhc_B</th>\n",
       "      <th>date</th>\n",
       "      <th>quant_value</th>\n",
       "    </tr>\n",
       "  </thead>\n",
       "  <tbody>\n",
       "    <tr>\n",
       "      <th>0</th>\n",
       "      <td>EVMPVSMAK</td>\n",
       "      <td>HLA-A*03:01</td>\n",
       "      <td>I</td>\n",
       "      <td>(9606, A, 03:01)</td>\n",
       "      <td>(None, None, None)</td>\n",
       "      <td>2004</td>\n",
       "      <td>257.504864</td>\n",
       "    </tr>\n",
       "    <tr>\n",
       "      <th>1</th>\n",
       "      <td>EVMPVSMAK</td>\n",
       "      <td>HLA-A*11:01</td>\n",
       "      <td>I</td>\n",
       "      <td>(9606, A, 11:01)</td>\n",
       "      <td>(None, None, None)</td>\n",
       "      <td>2004</td>\n",
       "      <td>16.864834</td>\n",
       "    </tr>\n",
       "    <tr>\n",
       "      <th>2</th>\n",
       "      <td>KTFPPTEPK</td>\n",
       "      <td>HLA-A*03:01</td>\n",
       "      <td>I</td>\n",
       "      <td>(9606, A, 03:01)</td>\n",
       "      <td>(None, None, None)</td>\n",
       "      <td>2004</td>\n",
       "      <td>215.105943</td>\n",
       "    </tr>\n",
       "    <tr>\n",
       "      <th>3</th>\n",
       "      <td>KTFPPTEPK</td>\n",
       "      <td>HLA-A*11:01</td>\n",
       "      <td>I</td>\n",
       "      <td>(9606, A, 11:01)</td>\n",
       "      <td>(None, None, None)</td>\n",
       "      <td>2004</td>\n",
       "      <td>136.958547</td>\n",
       "    </tr>\n",
       "    <tr>\n",
       "      <th>4</th>\n",
       "      <td>ATFSVPMEK</td>\n",
       "      <td>HLA-A*03:01</td>\n",
       "      <td>I</td>\n",
       "      <td>(9606, A, 03:01)</td>\n",
       "      <td>(None, None, None)</td>\n",
       "      <td>2004</td>\n",
       "      <td>30.480188</td>\n",
       "    </tr>\n",
       "    <tr>\n",
       "      <th>...</th>\n",
       "      <td>...</td>\n",
       "      <td>...</td>\n",
       "      <td>...</td>\n",
       "      <td>...</td>\n",
       "      <td>...</td>\n",
       "      <td>...</td>\n",
       "      <td>...</td>\n",
       "    </tr>\n",
       "    <tr>\n",
       "      <th>148769</th>\n",
       "      <td>YVFPKPFNR</td>\n",
       "      <td>HLA-A*33:03</td>\n",
       "      <td>I</td>\n",
       "      <td>(9606, A, 33:03)</td>\n",
       "      <td>(None, None, None)</td>\n",
       "      <td>2021</td>\n",
       "      <td>1.430000</td>\n",
       "    </tr>\n",
       "    <tr>\n",
       "      <th>148770</th>\n",
       "      <td>YVQRFHYSR</td>\n",
       "      <td>HLA-A*33:03</td>\n",
       "      <td>I</td>\n",
       "      <td>(9606, A, 33:03)</td>\n",
       "      <td>(None, None, None)</td>\n",
       "      <td>2021</td>\n",
       "      <td>1.370000</td>\n",
       "    </tr>\n",
       "    <tr>\n",
       "      <th>148771</th>\n",
       "      <td>YYYYHRQYR</td>\n",
       "      <td>HLA-A*33:03</td>\n",
       "      <td>I</td>\n",
       "      <td>(9606, A, 33:03)</td>\n",
       "      <td>(None, None, None)</td>\n",
       "      <td>2021</td>\n",
       "      <td>0.980000</td>\n",
       "    </tr>\n",
       "    <tr>\n",
       "      <th>148772</th>\n",
       "      <td>AVEEVSLRK</td>\n",
       "      <td>HLA-A*11:01</td>\n",
       "      <td>I</td>\n",
       "      <td>(9606, A, 11:01)</td>\n",
       "      <td>(None, None, None)</td>\n",
       "      <td>2021</td>\n",
       "      <td>50.850000</td>\n",
       "    </tr>\n",
       "    <tr>\n",
       "      <th>148773</th>\n",
       "      <td>AVEEVSLRK</td>\n",
       "      <td>HLA-A*03:01</td>\n",
       "      <td>I</td>\n",
       "      <td>(9606, A, 03:01)</td>\n",
       "      <td>(None, None, None)</td>\n",
       "      <td>2021</td>\n",
       "      <td>1332.470000</td>\n",
       "    </tr>\n",
       "  </tbody>\n",
       "</table>\n",
       "<p>148767 rows × 7 columns</p>\n",
       "</div>"
      ],
      "text/plain": [
       "              pep     mhc_iedb class             mhc_A               mhc_B  \\\n",
       "0       EVMPVSMAK  HLA-A*03:01     I  (9606, A, 03:01)  (None, None, None)   \n",
       "1       EVMPVSMAK  HLA-A*11:01     I  (9606, A, 11:01)  (None, None, None)   \n",
       "2       KTFPPTEPK  HLA-A*03:01     I  (9606, A, 03:01)  (None, None, None)   \n",
       "3       KTFPPTEPK  HLA-A*11:01     I  (9606, A, 11:01)  (None, None, None)   \n",
       "4       ATFSVPMEK  HLA-A*03:01     I  (9606, A, 03:01)  (None, None, None)   \n",
       "...           ...          ...   ...               ...                 ...   \n",
       "148769  YVFPKPFNR  HLA-A*33:03     I  (9606, A, 33:03)  (None, None, None)   \n",
       "148770  YVQRFHYSR  HLA-A*33:03     I  (9606, A, 33:03)  (None, None, None)   \n",
       "148771  YYYYHRQYR  HLA-A*33:03     I  (9606, A, 33:03)  (None, None, None)   \n",
       "148772  AVEEVSLRK  HLA-A*11:01     I  (9606, A, 11:01)  (None, None, None)   \n",
       "148773  AVEEVSLRK  HLA-A*03:01     I  (9606, A, 03:01)  (None, None, None)   \n",
       "\n",
       "        date  quant_value  \n",
       "0       2004   257.504864  \n",
       "1       2004    16.864834  \n",
       "2       2004   215.105943  \n",
       "3       2004   136.958547  \n",
       "4       2004    30.480188  \n",
       "...      ...          ...  \n",
       "148769  2021     1.430000  \n",
       "148770  2021     1.370000  \n",
       "148771  2021     0.980000  \n",
       "148772  2021    50.850000  \n",
       "148773  2021  1332.470000  \n",
       "\n",
       "[148767 rows x 7 columns]"
      ]
     },
     "execution_count": 52,
     "metadata": {},
     "output_type": "execute_result"
    }
   ],
   "source": [
    "with open('./data/pmhc_assays/iedb_pmhc_assays/assays_Kd.pckl','rb') as f:\n",
    "    iedb=pickle.load(f)\n",
    "iedb"
   ]
  },
  {
   "cell_type": "code",
   "execution_count": 54,
   "id": "74d0db63",
   "metadata": {},
   "outputs": [
    {
     "data": {
      "text/html": [
       "<div>\n",
       "<style scoped>\n",
       "    .dataframe tbody tr th:only-of-type {\n",
       "        vertical-align: middle;\n",
       "    }\n",
       "\n",
       "    .dataframe tbody tr th {\n",
       "        vertical-align: top;\n",
       "    }\n",
       "\n",
       "    .dataframe thead th {\n",
       "        text-align: right;\n",
       "    }\n",
       "</style>\n",
       "<table border=\"1\" class=\"dataframe\">\n",
       "  <thead>\n",
       "    <tr style=\"text-align: right;\">\n",
       "      <th></th>\n",
       "      <th>pep</th>\n",
       "      <th>mhc_iedb</th>\n",
       "      <th>class</th>\n",
       "      <th>mhc_A</th>\n",
       "      <th>mhc_B</th>\n",
       "      <th>date</th>\n",
       "      <th>quant_value</th>\n",
       "    </tr>\n",
       "  </thead>\n",
       "  <tbody>\n",
       "  </tbody>\n",
       "</table>\n",
       "</div>"
      ],
      "text/plain": [
       "Empty DataFrame\n",
       "Columns: [pep, mhc_iedb, class, mhc_A, mhc_B, date, quant_value]\n",
       "Index: []"
      ]
     },
     "execution_count": 54,
     "metadata": {},
     "output_type": "execute_result"
    }
   ],
   "source": [
    "iedb[iedb['pep']=='RNSRWSSPDNVKPLY']"
   ]
  },
  {
   "cell_type": "code",
   "execution_count": 108,
   "id": "847a1038",
   "metadata": {},
   "outputs": [],
   "source": [
    "pep_pos=df_a2_pos.sample(100)['pep'].values\n",
    "pep_neg=df_a2_neg.sample(100)['pep'].values\n",
    "with open('./data/pmhc_assays/peptides_A2/pos.pckl','wb') as f:\n",
    "    pickle.dump(pep_pos,f)\n",
    "with open('./data/pmhc_assays/peptides_A2/neg.pckl','wb') as f:\n",
    "    pickle.dump(pep_neg,f)"
   ]
  },
  {
   "cell_type": "code",
   "execution_count": 4,
   "id": "bb38a7f7",
   "metadata": {},
   "outputs": [
    {
     "name": "stdout",
     "output_type": "stream",
     "text": [
      "100 100\n",
      "['KVGNCDETV' 'YQIEGAWRA' 'ITDWLNFTL' 'FICWHSSEI' 'LQDSVDFSL' 'YLSSWTPVV'\n",
      " 'MMMMKWIISI' 'FLFWFLKSGA' 'TINCDVGYEV' 'GLVDFVKHI']\n"
     ]
    }
   ],
   "source": [
    "#read chosen peptides\n",
    "with open('./data/pmhc_assays/peptides_A2/pos.pckl','rb') as f:\n",
    "    pep_pos=pickle.load(f)\n",
    "with open('./data/pmhc_assays/peptides_A2/neg.pckl','rb') as f:\n",
    "    pep_neg=pickle.load(f)\n",
    "print(len(pep_pos),len(pep_neg))\n",
    "print(pep_pos[:10])"
   ]
  },
  {
   "cell_type": "code",
   "execution_count": 8,
   "id": "09ec1143",
   "metadata": {},
   "outputs": [],
   "source": [
    "#prepare netmhc queries\n",
    "import csv\n",
    "import stat\n",
    "bash_str=''\n",
    "s='peptides'\n",
    "filename=s+'.csv'\n",
    "out_filename=s+'_out.xls'\n",
    "alleles='HLA-A02:01'#','.join(['HLA-'+re.sub('\\*','',x) for x in subj_hla[s]])\n",
    "#added -BA: binding affinity\n",
    "query_str='/home/vmikhayl/netMHCpan-4.1/netMHCpan -p '+filename+' -xls -BA -a '+alleles+' -xlsfile '+out_filename\n",
    "bash_str+=(query_str+'\\n')\n",
    "with open('./tmp/netmhc_queries/'+filename,'w',newline='') as f:\n",
    "    f_csv=csv.writer(f)\n",
    "    for p in np.concatenate([pep_pos,pep_neg]):\n",
    "        f_csv.writerow([p]) \n",
    "with open('./tmp/netmhc_queries/query.sh','w', newline='') as f:\n",
    "    f.write(bash_str)\n",
    "os.chmod('./tmp/netmhc_queries/query.sh', stat.S_IRWXU | stat.S_IXGRP | stat.S_IXOTH)"
   ]
  },
  {
   "cell_type": "code",
   "execution_count": 10,
   "id": "bd1116d0",
   "metadata": {},
   "outputs": [],
   "source": [
    "#parse netmhc output\n",
    "\n",
    "s_xls=pd.read_csv('./tmp/netmhc_queries/'+s+'_out.xls',delimiter='\\t',header=[0,1])\n",
    "pepmhc_dict_elrank=dict()  #{('pep','mhc'): el-rank}\n",
    "pepmhc_dict_Kd=dict()  #{('pep','mhc'): Kd}\n",
    "for r in s_xls.iterrows():\n",
    "    y=r[1]\n",
    "    pep=y[( 'Unnamed: 1_level_0',  'Peptide')]\n",
    "    for i in range(  (len(s_xls.columns)-5)//6  ):\n",
    "        mhc=s_xls.columns[6*i+3][0]\n",
    "        mhc=mhc[4]+'*'+mhc[5:] #'HLA-A03:01 -> A*03:01\n",
    "        el_rank =y[( 'Unnamed: '+str(6+6*i)+'_level_0',  'EL_Rank')]\n",
    "        Kd_score=y[( 'Unnamed: '+str(7+6*i)+'_level_0',  'BA-score')]\n",
    "        Kd=50000**(1-Kd_score)            \n",
    "        pepmhc_dict_elrank[(pep,mhc)]=el_rank\n",
    "        pepmhc_dict_Kd[(pep,mhc)]=Kd"
   ]
  },
  {
   "cell_type": "code",
   "execution_count": 12,
   "id": "ba5229f3",
   "metadata": {},
   "outputs": [],
   "source": [
    "with open('./data/pmhc_assays/peptides_A2/Kd.pckl','wb') as f:\n",
    "    pickle.dump(pepmhc_dict_Kd,f)\n",
    "with open('./data/pmhc_assays/peptides_A2/elrank.pckl','wb') as f:\n",
    "    pickle.dump(pepmhc_dict_elrank,f)"
   ]
  },
  {
   "cell_type": "code",
   "execution_count": null,
   "id": "1a46b68a",
   "metadata": {},
   "outputs": [],
   "source": [
    "#load iedb data\n",
    "with open('./data/pmhc_assays/iedb_mhc_dict.pckl','rb') as f:\n",
    "    mhcs_dict=pickle.load(f)\n",
    "\n",
    "#df=pd.read_pickle('./data/pmhc_assays/assays_Kd.pckl')\n",
    "\n",
    "cl=df['mhc'].map(lambda x: mhcs_dict[x][1] is None)\n",
    "iedb1=df[cl].copy()\n",
    "iedb2=df[~cl].copy()\n",
    "\n",
    "def map_mhc(x,i):\n",
    "    m=mhcs_dict[x][i]['info']\n",
    "    return m['species'],m['locus'],m['allele']\n",
    "iedb1['mhc_tuple']=iedb1['mhc'].map(lambda x: map_mhc(x,0))\n",
    "iedb1['key']=iedb1[['pep','mhc_tuple']].apply(tuple,axis=1)\n",
    "iedb1=iedb1[['pep','mhc','quant_value','date','key']]\n",
    "iedb2['mhc_tuple_A']=iedb2['mhc'].map(lambda x: map_mhc(x,0))\n",
    "iedb2['mhc_tuple_B']=iedb2['mhc'].map(lambda x: map_mhc(x,1))\n",
    "iedb2['key']=iedb2[['pep','mhc_tuple_A','mhc_tuple_B']].apply(tuple,axis=1)\n",
    "iedb2=iedb2[['pep','mhc','quant_value','date','key']]\n",
    "\n",
    "print(f'I: {len(iedb1)}, II: {len(iedb2)}')\n",
    "#3 groups: 112762, 36001\n",
    "#5 groups: 124549, 70474"
   ]
  },
  {
   "cell_type": "code",
   "execution_count": null,
   "id": "266ae01d",
   "metadata": {},
   "outputs": [],
   "source": [
    "#clustering speed\n",
    "ns=np.arange(100,1100,100)\n",
    "ts=[]\n",
    "d=10\n",
    "for n_vec in ns:\n",
    "    v=np.random.rand(n_vec*d).reshape([n_vec,d])\n",
    "    dij=np.tensordot(v,v,axes=[1,1])\n",
    "    dii=np.diag(dij)\n",
    "    dist_ij=np.tile(dii[:,np.newaxis],[1,len(dii)])+np.tile(dii[np.newaxis,:],[len(dii),1])-2*dij #(vi-vj)**2\n",
    "    t0=time.time()\n",
    "    Z=cluster.hierarchy.linkage(dist_matrix,method='single')\n",
    "    ts.append(time.time()-t0)\n",
    "#conclusion: for n~1000 it's super fast"
   ]
  },
  {
   "cell_type": "markdown",
   "id": "f5fc251c",
   "metadata": {
    "heading_collapsed": true
   },
   "source": [
    "## old train data splitting"
   ]
  },
  {
   "cell_type": "code",
   "execution_count": null,
   "id": "2a218f6b",
   "metadata": {
    "hidden": true
   },
   "outputs": [],
   "source": [
    "# cl I\n",
    "\n",
    "n_sets=5\n",
    "n_max_per_mhc=100\n",
    "n_per_set=2000\n",
    "n_processes=25\n",
    "threshold=4\n",
    "\n",
    "def dij_func(x):\n",
    "    i,j=x\n",
    "    seq1,seq2=train_i['pep'].iloc[i],train_i['pep'].iloc[j]\n",
    "    y=pairwise2.align.globalms(seq1,seq2,match=1,mismatch=-1,open=-1,extend=-1)\n",
    "    return np.min([(x[4]-x[3]-x[2])//2 for x in y])\n",
    "\n",
    "def _get_distances(ind1,ind2):\n",
    "    ind_pairs=list(itertools.product(ind1,ind2))        \n",
    "    p=Pool(n_processes)\n",
    "    with p:\n",
    "        d=p.map(dij_func,ind_pairs)\n",
    "    return np.array(d).reshape((len(ind1),len(ind2)))    \n",
    "\n",
    "t0=time.time()\n",
    "train_test_pairs=[]\n",
    "\n",
    "#marks=np.ones(len(train_i))  #mark assays used\n",
    "pep_counts=train_i['pep'].value_counts()\n",
    "pep_column=train_i['pep'].map(pep_counts.to_dict()) #counts for each pep\n",
    "marks=(pep_column==1).values.astype(int) #restrict to peps with count 1\n",
    "\n",
    "for s in range(n_sets):        \n",
    "    c_assays_test=[]\n",
    "    #go over mhc clusters in random order\n",
    "    ind=np.random.permutation(len(mhc_clusters_i))\n",
    "    for i in ind:        \n",
    "        flags_cluster=df['mhc'].isin(mhc_clusters_i[i]).values        \n",
    "        ind_test=np.nonzero(flags_cluster*marks)[0]\n",
    "        if len(ind_test)>=n_max_per_mhc: #don't take very small clusters\n",
    "            ind_test=np.random.permutation(ind_test)[:n_max_per_mhc]\n",
    "            ind_other=np.array([k for k in np.nonzero(flags_cluster)[0] if k not in ind_test])\n",
    "            #compute distances            \n",
    "            d=_get_distances(ind_other,ind_test)\n",
    "            #see if too many need to be added\n",
    "            n0=len(ind_test)\n",
    "            n_move=np.sum(np.min(d,axis=1)<=threshold)        \n",
    "            f=n_max_per_mhc/(n0+n_move)\n",
    "            if f<1.:\n",
    "                n1=round(f*n0)\n",
    "                ind1=np.random.permutation(n0)[:n1]\n",
    "                d=d[:,ind1]\n",
    "                ind_test1=ind_test[ind1]\n",
    "                ind_move1=np.delete(ind_test,ind1)\n",
    "                d1=_get_distances(ind_move1,ind_test1)  \n",
    "                d=np.concatenate([d,d1])\n",
    "                ind_test=ind_test1.astype(int)\n",
    "                ind_other=np.concatenate([ind_other,ind_move1]).astype(int)\n",
    "            ind_move=ind_other[np.min(d,axis=1)<=threshold]        \n",
    "            ind_test=np.concatenate([ind_test,ind_move]).astype(int)\n",
    "            marks[ind_test]=0        \n",
    "            c_assays_test+=list(ind_test)\n",
    "            if len(c_assays_test)>=n_per_set:\n",
    "                break\n",
    "    c_assays_train=[k for k in range(len(train_i)) if k not in c_assays_test]\n",
    "    train_test_pairs.append([c_assays_train,c_assays_test])  \n",
    "print('completed in {}'.format(time.time()-t0))\n",
    "\n",
    "#save\n",
    "for i,x in enumerate(train_test_pairs):\n",
    "    c_train=train_i.iloc[x[0]]\n",
    "    c_valid=train_i.iloc[x[1]]\n",
    "#    c_train.to_pickle(f'./data/pmhc_assays/train_clustered/split_i/train_{i}.pckl')\n",
    "#    c_valid.to_pickle(f'./data/pmhc_assays/train_clustered/split_i/valid_{i}.pckl')\n",
    "    print(f'split {i}:')\n",
    "    print(f'train: {len(c_train)}, valid: {len(c_valid)}')    \n",
    "    print(c_valid['mhc'].value_counts())\n",
    "    print()    "
   ]
  },
  {
   "cell_type": "code",
   "execution_count": null,
   "id": "b196b617",
   "metadata": {
    "hidden": true
   },
   "outputs": [],
   "source": [
    "n_sets=5\n",
    "n_max_per_mhc=100\n",
    "n_per_set=2000\n",
    "n_processes=25\n",
    "threshold=4\n",
    "\n",
    "def dij_func(x):\n",
    "    i,j=x\n",
    "    seq1,seq2=train_ii['pep'].iloc[i],train_ii['pep'].iloc[j]\n",
    "    y=pairwise2.align.globalms(seq1,seq2,match=1,mismatch=-1,open=-1,extend=-1)\n",
    "    return np.min([(x[4]-x[3]-x[2])//2 for x in y])\n",
    "\n",
    "def _get_distances(ind1,ind2):\n",
    "    ind_pairs=list(itertools.product(ind1,ind2))        \n",
    "    p=Pool(n_processes)\n",
    "    with p:\n",
    "        d=p.map(dij_func,ind_pairs)\n",
    "    return np.array(d).reshape((len(ind1),len(ind2)))    \n",
    "\n",
    "t0=time.time()\n",
    "train_test_pairs=[]\n",
    "marks=np.ones(len(train_ii))  #mark assays used\n",
    "for s in range(n_sets):        \n",
    "    c_assays_test=[]\n",
    "    #go over mhc clusters in random order\n",
    "    ind=np.random.permutation(len(mhc_clusters_ii))\n",
    "    for i in ind:        \n",
    "        flags_cluster=df[['mhc_a','mhc_b']].apply(tuple,axis=1).isin(mhc_clusters_ii[i]).values        \n",
    "        ind_test=np.nonzero(flags_cluster*marks)[0]\n",
    "        if len(ind_test)>=n_max_per_mhc: #don't take very small clusters\n",
    "            ind_test=np.random.permutation(ind_test)[:n_max_per_mhc]\n",
    "            ind_other=np.array([k for k in np.nonzero(flags_cluster)[0] if k not in ind_test])\n",
    "            #compute distances            \n",
    "            d=_get_distances(ind_other,ind_test)\n",
    "            #see if too many need to be added\n",
    "            n0=len(ind_test)\n",
    "            n_move=np.sum(np.min(d,axis=1)<=threshold)        \n",
    "            f=n_max_per_mhc/(n0+n_move)\n",
    "            if f<1.:\n",
    "                n1=round(f*n0)\n",
    "                ind1=np.random.permutation(n0)[:n1]\n",
    "                d=d[:,ind1]\n",
    "                ind_test1=ind_test[ind1]\n",
    "                ind_move1=np.delete(ind_test,ind1)\n",
    "                d1=_get_distances(ind_move1,ind_test1)  \n",
    "                d=np.concatenate([d,d1])\n",
    "                ind_test=ind_test1.astype(int)\n",
    "                ind_other=np.concatenate([ind_other,ind_move1]).astype(int)\n",
    "            ind_move=ind_other[np.min(d,axis=1)<=threshold]        \n",
    "            ind_test=np.concatenate([ind_test,ind_move]).astype(int)\n",
    "            marks[ind_test]=0        \n",
    "            c_assays_test+=list(ind_test)\n",
    "            if len(c_assays_test)>=n_per_set:\n",
    "                break\n",
    "    c_assays_train=[k for k in range(len(train_ii)) if k not in c_assays_test]\n",
    "    train_test_pairs.append([c_assays_train,c_assays_test])  \n",
    "print('completed in {}'.format(time.time()-t0))\n",
    "\n",
    "#save\n",
    "for i,x in enumerate(train_test_pairs):\n",
    "    c_train=train_ii.iloc[x[0]]\n",
    "    c_valid=train_ii.iloc[x[1]]\n",
    "#    c_train.to_pickle(f'./data/pmhc_assays/train_clustered/split_ii/train_{i}.pckl')\n",
    "#    c_valid.to_pickle(f'./data/pmhc_assays/train_clustered/split_ii/valid_{i}.pckl')\n",
    "    print(f'split {i}:')\n",
    "    print(f'train: {len(c_train)}, valid: {len(c_valid)}')    \n",
    "    print(c_valid[['mhc_a','mhc_b']].apply(tuple,axis=1).value_counts())\n",
    "    print()    \n",
    "    \n",
    "#completed 2500s"
   ]
  },
  {
   "cell_type": "code",
   "execution_count": null,
   "id": "84ffd181",
   "metadata": {
    "hidden": true
   },
   "outputs": [],
   "source": []
  }
 ],
 "metadata": {
  "kernelspec": {
   "display_name": "Python 3 (ipykernel)",
   "language": "python",
   "name": "python3"
  },
  "language_info": {
   "codemirror_mode": {
    "name": "ipython",
    "version": 3
   },
   "file_extension": ".py",
   "mimetype": "text/x-python",
   "name": "python",
   "nbconvert_exporter": "python",
   "pygments_lexer": "ipython3",
   "version": "3.10.4"
  }
 },
 "nbformat": 4,
 "nbformat_minor": 5
}
